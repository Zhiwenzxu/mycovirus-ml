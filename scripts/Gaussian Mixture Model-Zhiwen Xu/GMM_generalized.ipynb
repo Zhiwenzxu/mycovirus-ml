{
 "cells": [
  {
   "cell_type": "code",
   "execution_count": 1,
   "metadata": {},
   "outputs": [],
   "source": [
    "# import packages\n",
    "import matplotlib\n",
    "matplotlib.use('TkAgg')\n",
    "import matplotlib.pyplot as plt\n",
    "import matplotlib.pyplot as plt\n",
    "import numpy as np\n",
    "import pandas as pd\n",
    "import numpy as np\n",
    "\n",
    "from pandas import Series, DataFrame\n",
    "import Bio\n",
    "from Bio import SeqIO,AlignIO\n",
    "from sklearn.feature_extraction.text import CountVectorizer\n",
    "from sklearn.mixture import GaussianMixture as GMM\n"
   ]
  },
  {
   "cell_type": "code",
   "execution_count": 2,
   "metadata": {},
   "outputs": [],
   "source": [
    "# methods\n",
    "\n",
    "# parseFasta(data) credit to Luke\n",
    "def parseFasta(data):\n",
    "    d = {fasta.id : str(fasta.seq) for fasta in SeqIO.parse(data, \"fasta\")}\n",
    "    pd.DataFrame([d])\n",
    "    s = pd.Series(d, name='Sequence')\n",
    "    s.index.name = 'ID'\n",
    "    s.reset_index()\n",
    "    return pd.DataFrame(s)\n",
    "\n",
    "def get_kmer_table(paths,k_min,k_max):\n",
    "    genes,gene_len = read_fasta(paths)\n",
    "    count_vect = CountVectorizer(analyzer='char', ngram_range=(k_min, k_max))\n",
    "    X = count_vect.fit_transform(genes)\n",
    "    chars = count_vect.get_feature_names()\n",
    "    kmers = X.toarray()\n",
    "    kmer_freq = []\n",
    "    for i in range(len(genes)):\n",
    "        kmer_freq.append(kmers[i] / gene_len[i])\n",
    "    input = pd.DataFrame(kmer_freq, columns=chars)\n",
    "    return input\n",
    "\n",
    "def get_gene_sequences(filename):\n",
    "    genes = []\n",
    "    for record in SeqIO.parse(filename, \"fasta\"):\n",
    "        genes.append(str(record.seq))\n",
    "    return genes\n",
    "\n",
    "# genes: a list of gene sequences, which can directly be generated from get_gene_sequences().\n",
    "def get_gene_len(genes):\n",
    "    gene_len = []\n",
    "\n",
    "    for i in range(len(genes)):\n",
    "        gene_len.append(len(genes[i]))\n",
    "    return gene_len\n",
    "\n",
    "def read_fasta(paths):\n",
    "    all_genes = []\n",
    "    all_gene_len = []\n",
    "    \n",
    "    for path in paths:\n",
    "        virus = parseFasta(path)\n",
    "        virus = virus.drop_duplicates(keep=\"last\")\n",
    "        genes = list(virus['Sequence'])\n",
    "        genes_seq = get_gene_sequences(path)\n",
    "        gene_len = get_gene_len(genes_seq)\n",
    "        all_genes = all_genes + genes_seq\n",
    "        all_gene_len = all_gene_len + gene_len\n",
    "    return all_genes,all_gene_len\n",
    "\n",
    "def get_predictions(paths,k_min,k_max,num_class,cov_type):\n",
    "    kmer_table = get_kmer_table(paths, k_min, k_max)\n",
    "    gmm = GMM(n_components=num_class,covariance_type=cov_type).fit(kmer_table)\n",
    "    labels = gmm.predict(kmer_table)\n",
    "    return labels\n",
    "\n"
   ]
  },
  {
   "cell_type": "code",
   "execution_count": null,
   "metadata": {},
   "outputs": [],
   "source": [
    "def cal_accuracy(labels, predictions):\n",
    "    return 1-sum(abs(labels - predictions))/(len(labels))\n",
    "\n",
    "def create_labels (files):\n",
    "    labels = []\n",
    "    for f in files:\n",
    "        length = len(get_gene_sequences(f))\n",
    "    \n",
    "    return labels"
   ]
  },
  {
   "cell_type": "code",
   "execution_count": null,
   "metadata": {},
   "outputs": [],
   "source": [
    "bat_len = len(get_gene_sequences(\"datasets/bat_flu.fa\"))\n",
    "penguin_len = len(get_gene_sequences(\"datasets/penguin_flu.fa\"))\n",
    "zeros = [0]*bat_len\n",
    "labels1 = np.append(zeros, [1]*penguin_len, axis=None)"
   ]
  },
  {
   "cell_type": "code",
   "execution_count": 36,
   "metadata": {},
   "outputs": [],
   "source": [
    "# change the following parameters to user inputs\n",
    "paths = [\"datasets/bat_flu.fa\",\"datasets/penguin_flu.fa\"]\n",
    "k_min = 2\n",
    "k_max = 3\n",
    "num_class = 2\n",
    "cov_type = 'full'\n",
    "predictions1_1 = get_predictions(paths,k_min,k_max,num_class,cov_type)"
   ]
  },
  {
   "cell_type": "code",
   "execution_count": 37,
   "metadata": {},
   "outputs": [
    {
     "data": {
      "text/plain": [
       "array([0, 0, 0, 0, 1, 1, 1, 0, 0, 0, 0, 0, 1, 1, 1, 0, 0, 0, 0, 0, 0, 0,\n",
       "       0, 0, 0, 0, 0, 0, 0, 1, 1, 0, 0, 0, 0, 0, 1, 1, 0, 0, 0, 0, 0, 0,\n",
       "       1, 1, 1, 0, 0, 0, 0, 0, 1, 1, 1, 0, 0, 0, 0, 0, 1, 1, 1, 0, 1, 1,\n",
       "       1, 1, 1, 1, 1, 1, 1, 1, 1, 1, 1, 1, 1, 1, 1, 1, 1, 1, 1, 1, 1, 1,\n",
       "       1, 1, 1, 1, 1, 1, 1, 1, 0, 1, 1, 0, 0, 0, 1, 1, 0, 1, 1, 1, 1, 1,\n",
       "       1, 1, 1, 1, 1, 1, 1, 1, 1, 1, 0, 1, 1, 1, 1, 1, 1, 1, 1, 1, 1, 1,\n",
       "       1, 1, 1, 1, 1, 1, 1, 1, 1, 1, 1, 1, 1, 1, 1, 1, 1, 1, 1, 1, 1, 1,\n",
       "       1, 1, 1, 1, 1, 1, 1, 1, 1, 1, 1, 1, 1, 1, 1, 1, 1, 1, 1, 1, 1])"
      ]
     },
     "execution_count": 37,
     "metadata": {},
     "output_type": "execute_result"
    }
   ],
   "source": [
    "predictions1_1"
   ]
  },
  {
   "cell_type": "code",
   "execution_count": 38,
   "metadata": {},
   "outputs": [
    {
     "data": {
      "text/plain": [
       "array([0, 0, 0, 0, 0, 0, 0, 0, 0, 0, 0, 0, 0, 0, 0, 0, 0, 0, 0, 0, 0, 0,\n",
       "       0, 0, 0, 0, 0, 0, 0, 0, 0, 0, 0, 0, 0, 0, 0, 0, 0, 0, 0, 0, 0, 0,\n",
       "       0, 0, 0, 0, 0, 0, 0, 0, 0, 0, 0, 0, 0, 0, 0, 0, 0, 0, 0, 0, 1, 1,\n",
       "       1, 1, 1, 1, 1, 1, 1, 1, 1, 1, 1, 1, 1, 1, 1, 1, 1, 1, 1, 1, 1, 1,\n",
       "       1, 1, 1, 1, 1, 1, 1, 1, 1, 1, 1, 1, 1, 1, 1, 1, 1, 1, 1, 1, 1, 1,\n",
       "       1, 1, 1, 1, 1, 1, 1, 1, 1, 1, 1, 1, 1, 1, 1, 1, 1, 1, 1, 1, 1, 1,\n",
       "       1, 1, 1, 1, 1, 1, 1, 1, 1, 1, 1, 1, 1, 1, 1, 1, 1, 1, 1, 1, 1, 1,\n",
       "       1, 1, 1, 1, 1, 1, 1, 1, 1, 1, 1, 1, 1, 1, 1, 1, 1, 1, 1, 1, 1])"
      ]
     },
     "execution_count": 38,
     "metadata": {},
     "output_type": "execute_result"
    }
   ],
   "source": [
    "labels1"
   ]
  },
  {
   "cell_type": "code",
   "execution_count": 82,
   "metadata": {},
   "outputs": [
    {
     "data": {
      "text/plain": [
       "0.8571428571428572"
      ]
     },
     "execution_count": 82,
     "metadata": {},
     "output_type": "execute_result"
    }
   ],
   "source": [
    "accuracy1_1 = 1 - sum(abs(labels1 - predictions1_1))/(bat_len+penguin_len)\n",
    "accuracy1_1"
   ]
  },
  {
   "cell_type": "code",
   "execution_count": 41,
   "metadata": {},
   "outputs": [],
   "source": [
    "k_min = 4\n",
    "k_max = 5\n",
    "num_class = 2\n",
    "cov_type = 'full'\n",
    "predictions1_2 = get_predictions(paths,k_min,k_max,num_class,cov_type)"
   ]
  },
  {
   "cell_type": "code",
   "execution_count": 42,
   "metadata": {},
   "outputs": [
    {
     "data": {
      "text/plain": [
       "0.49142857142857144"
      ]
     },
     "execution_count": 42,
     "metadata": {},
     "output_type": "execute_result"
    }
   ],
   "source": [
    "accuracy1_2 = 1 - sum(abs(labels1 - predictions1_2))/(bat_len+penguin_len)\n",
    "accuracy1_2"
   ]
  },
  {
   "cell_type": "code",
   "execution_count": 43,
   "metadata": {},
   "outputs": [],
   "source": [
    "k_min = 2\n",
    "k_max = 5\n",
    "num_class = 2\n",
    "cov_type = 'full'\n",
    "predictions1_3 = get_predictions(paths,k_min,k_max,num_class,cov_type)"
   ]
  },
  {
   "cell_type": "code",
   "execution_count": 45,
   "metadata": {},
   "outputs": [
    {
     "data": {
      "text/plain": [
       "0.6799999999999999"
      ]
     },
     "execution_count": 45,
     "metadata": {},
     "output_type": "execute_result"
    }
   ],
   "source": [
    "accuracy1_3 = 1 - sum(abs(labels1 - predictions1_3))/(bat_len+penguin_len)\n",
    "accuracy1_3"
   ]
  },
  {
   "cell_type": "code",
   "execution_count": 50,
   "metadata": {},
   "outputs": [
    {
     "data": {
      "text/plain": [
       "0.8457142857142858"
      ]
     },
     "execution_count": 50,
     "metadata": {},
     "output_type": "execute_result"
    }
   ],
   "source": [
    "k_min = 2\n",
    "k_max = 3\n",
    "num_class = 2\n",
    "cov_type = 'diag'\n",
    "predictions1_4 = get_predictions(paths,k_min,k_max,num_class,cov_type)\n",
    "accuracy1_4 = 1 - sum(abs(labels1 - predictions1_4))/(bat_len+penguin_len)\n",
    "accuracy1_4"
   ]
  },
  {
   "cell_type": "code",
   "execution_count": 51,
   "metadata": {},
   "outputs": [
    {
     "data": {
      "text/plain": [
       "0.6628571428571428"
      ]
     },
     "execution_count": 51,
     "metadata": {},
     "output_type": "execute_result"
    }
   ],
   "source": [
    "k_min = 2\n",
    "k_max = 3\n",
    "num_class = 2\n",
    "cov_type = 'tied'\n",
    "predictions1_5 = get_predictions(paths,k_min,k_max,num_class,cov_type)\n",
    "accuracy1_5 = 1 - sum(abs(labels1 - predictions1_5))/(bat_len+penguin_len)\n",
    "accuracy1_5"
   ]
  },
  {
   "cell_type": "code",
   "execution_count": 52,
   "metadata": {},
   "outputs": [
    {
     "data": {
      "text/plain": [
       "0.8228571428571428"
      ]
     },
     "execution_count": 52,
     "metadata": {},
     "output_type": "execute_result"
    }
   ],
   "source": [
    "k_min = 2\n",
    "k_max = 3\n",
    "num_class = 2\n",
    "cov_type = 'spherical'\n",
    "predictions1_6 = get_predictions(paths,k_min,k_max,num_class,cov_type)\n",
    "accuracy1_6 = 1 - sum(abs(labels1 - predictions1_6))/(bat_len+penguin_len)\n",
    "accuracy1_6"
   ]
  },
  {
   "cell_type": "code",
   "execution_count": 58,
   "metadata": {},
   "outputs": [],
   "source": [
    "cat_len = len(get_gene_sequences(\"datasets/cat_flu.fa\"))\n",
    "labels2 = np.append(labels1, [2]*cat_len, axis=None)"
   ]
  },
  {
   "cell_type": "code",
   "execution_count": 53,
   "metadata": {},
   "outputs": [],
   "source": [
    "paths = [\"datasets/bat_flu.fa\",\"datasets/penguin_flu.fa\",\"datasets/cat_flu.fa\"]\n",
    "k_min = 2\n",
    "k_max = 3\n",
    "num_class = 3\n",
    "cov_type = 'full'\n",
    "predictions2_1 = get_predictions(paths,k_min,k_max,num_class,cov_type)"
   ]
  },
  {
   "cell_type": "code",
   "execution_count": 54,
   "metadata": {},
   "outputs": [
    {
     "data": {
      "text/plain": [
       "array([0, 0, 0, 0, 2, 0, 0, 0, 0, 0, 0, 0, 2, 0, 0, 0, 0, 0, 0, 0, 0, 0,\n",
       "       0, 0, 0, 0, 0, 0, 2, 0, 0, 0, 0, 0, 0, 0, 2, 0, 0, 0, 0, 0, 0, 0,\n",
       "       2, 0, 0, 2, 0, 0, 0, 0, 2, 0, 0, 2, 0, 0, 0, 0, 2, 0, 0, 2, 2, 2,\n",
       "       2, 0, 2, 0, 1, 2, 2, 2, 2, 0, 2, 0, 1, 2, 2, 2, 2, 0, 2, 0, 1, 2,\n",
       "       2, 2, 2, 0, 2, 0, 1, 2, 0, 1, 1, 0, 0, 0, 1, 1, 0, 2, 2, 2, 0, 2,\n",
       "       0, 1, 2, 2, 2, 2, 1, 2, 2, 0, 0, 2, 2, 1, 0, 2, 0, 2, 2, 2, 0, 0,\n",
       "       2, 2, 1, 2, 0, 1, 2, 0, 2, 2, 2, 2, 2, 2, 0, 2, 2, 0, 1, 2, 2, 2,\n",
       "       0, 0, 1, 2, 2, 0, 0, 2, 2, 2, 2, 1, 2, 2, 2, 0, 2, 0, 2, 1, 2, 2,\n",
       "       1, 0, 2, 0, 2, 2, 0, 0, 2, 0, 0, 0, 1, 2, 2, 2, 0, 0, 2, 2, 2, 0,\n",
       "       2, 1, 1, 2, 0, 1, 0, 1, 0, 0, 0, 0, 0, 1, 0, 0, 0, 1, 0, 2, 2, 2,\n",
       "       0, 2, 0, 1, 2, 0, 0, 2, 2, 2, 2, 2, 1, 2, 2, 2, 0, 2, 0, 1, 2, 2,\n",
       "       2, 2, 0, 2, 0, 1, 2, 0, 0, 1, 0, 2, 2, 2, 2, 2, 0, 0, 1, 2, 2, 2,\n",
       "       2, 2, 2, 2, 2, 0, 2, 0, 1, 2, 0, 0, 0, 1, 1, 2, 0, 2, 0, 2, 2, 2,\n",
       "       0, 0, 1])"
      ]
     },
     "execution_count": 54,
     "metadata": {},
     "output_type": "execute_result"
    }
   ],
   "source": [
    "predictions2_1"
   ]
  },
  {
   "cell_type": "code",
   "execution_count": 66,
   "metadata": {},
   "outputs": [
    {
     "data": {
      "text/plain": [
       "0.4290657439446367"
      ]
     },
     "execution_count": 66,
     "metadata": {},
     "output_type": "execute_result"
    }
   ],
   "source": [
    "def accuracy(labels,predictions):\n",
    "    err = 0\n",
    "    for i in range(len(labels)):\n",
    "        if (labels[i] != predictions[i]):\n",
    "            err += 1\n",
    "    return (1-err/len(labels))\n",
    "\n",
    "accuracy2_1 = accuracy(labels2,predictions2_1)\n",
    "accuracy2_1"
   ]
  },
  {
   "cell_type": "code",
   "execution_count": 68,
   "metadata": {},
   "outputs": [
    {
     "data": {
      "text/plain": [
       "0.24221453287197237"
      ]
     },
     "execution_count": 68,
     "metadata": {},
     "output_type": "execute_result"
    }
   ],
   "source": [
    "k_min = 2\n",
    "k_max = 5\n",
    "num_class = 3\n",
    "cov_type = 'full'\n",
    "predictions2_3 = get_predictions(paths,k_min,k_max,num_class,cov_type)\n",
    "accuracy2_3 = accuracy(labels2,predictions2_3)\n",
    "accuracy2_3"
   ]
  },
  {
   "cell_type": "code",
   "execution_count": 69,
   "metadata": {},
   "outputs": [
    {
     "data": {
      "text/plain": [
       "0.3044982698961938"
      ]
     },
     "execution_count": 69,
     "metadata": {},
     "output_type": "execute_result"
    }
   ],
   "source": [
    "k_min = 2\n",
    "k_max = 3\n",
    "num_class = 3\n",
    "cov_type = 'diag'\n",
    "predictions2_4 = get_predictions(paths,k_min,k_max,num_class,cov_type)\n",
    "accuracy2_4 = accuracy(labels2,predictions2_4)\n",
    "accuracy2_4"
   ]
  },
  {
   "cell_type": "code",
   "execution_count": 77,
   "metadata": {},
   "outputs": [
    {
     "data": {
      "text/plain": [
       "0.4117647058823529"
      ]
     },
     "execution_count": 77,
     "metadata": {},
     "output_type": "execute_result"
    }
   ],
   "source": [
    "k_min = 2\n",
    "k_max = 3\n",
    "num_class = 3\n",
    "cov_type = 'tied'\n",
    "predictions2_5 = get_predictions(paths,k_min,k_max,num_class,cov_type)\n",
    "accuracy2_5 = accuracy(labels2,predictions2_5)\n",
    "accuracy2_5"
   ]
  },
  {
   "cell_type": "code",
   "execution_count": 80,
   "metadata": {},
   "outputs": [
    {
     "data": {
      "text/plain": [
       "0.46366782006920415"
      ]
     },
     "execution_count": 80,
     "metadata": {},
     "output_type": "execute_result"
    }
   ],
   "source": [
    "k_min = 2\n",
    "k_max = 3\n",
    "num_class = 3\n",
    "cov_type = 'spherical'\n",
    "predictions2_6 = get_predictions(paths,k_min,k_max,num_class,cov_type)\n",
    "accuracy2_6 = accuracy(labels2,predictions2_6)\n",
    "accuracy2_6"
   ]
  },
  {
   "cell_type": "code",
   "execution_count": 86,
   "metadata": {},
   "outputs": [],
   "source": [
    "paths = [\"datasets/Dengue.fa\",\"datasets/mers.fa\"]\n",
    "k_min = 2\n",
    "k_max = 3\n",
    "num_class = 2\n",
    "cov_type = 'full'\n",
    "predictions3_1 = get_predictions(paths,k_min,k_max,num_class,cov_type)"
   ]
  },
  {
   "cell_type": "code",
   "execution_count": 87,
   "metadata": {},
   "outputs": [],
   "source": [
    "den_len = len(get_gene_sequences(\"datasets/Dengue.fa\"))\n",
    "mers_len = len(get_gene_sequences(\"datasets/mers.fa\"))\n",
    "zeros = np.zeros(den_len)\n",
    "labels3 = np.append(zeros, [1]*mers_len,axis=None)"
   ]
  },
  {
   "cell_type": "code",
   "execution_count": 88,
   "metadata": {},
   "outputs": [
    {
     "data": {
      "text/plain": [
       "0.9725986148750376"
      ]
     },
     "execution_count": 88,
     "metadata": {},
     "output_type": "execute_result"
    }
   ],
   "source": [
    "accuracy3_1 = 1-sum(abs(labels3 - predictions3_1))/(den_len+mers_len)\n",
    "accuracy3_1"
   ]
  },
  {
   "cell_type": "code",
   "execution_count": 91,
   "metadata": {},
   "outputs": [
    {
     "data": {
      "text/plain": [
       "0.020174646190906365"
      ]
     },
     "execution_count": 91,
     "metadata": {},
     "output_type": "execute_result"
    }
   ],
   "source": [
    "k_min = 3\n",
    "k_max = 3\n",
    "num_class = 2\n",
    "cov_type = 'full'\n",
    "predictions3_2 = get_predictions(paths,k_min,k_max,num_class,cov_type)\n",
    "accuracy3_2 = 1-sum(abs(labels3 - predictions3_2))/(den_len+mers_len)\n",
    "accuracy3_2"
   ]
  },
  {
   "cell_type": "code",
   "execution_count": 92,
   "metadata": {},
   "outputs": [
    {
     "data": {
      "text/plain": [
       "0.014152363745859708"
      ]
     },
     "execution_count": 92,
     "metadata": {},
     "output_type": "execute_result"
    }
   ],
   "source": [
    "k_min = 4\n",
    "k_max = 4\n",
    "num_class = 2\n",
    "cov_type = 'full'\n",
    "predictions3_3 = get_predictions(paths,k_min,k_max,num_class,cov_type)\n",
    "accuracy3_3 = 1-sum(abs(labels3 - predictions3_3))/(den_len+mers_len)\n",
    "accuracy3_3"
   ]
  },
  {
   "cell_type": "code",
   "execution_count": 93,
   "metadata": {},
   "outputs": [
    {
     "data": {
      "text/plain": [
       "0.04727491719361643"
      ]
     },
     "execution_count": 93,
     "metadata": {},
     "output_type": "execute_result"
    }
   ],
   "source": [
    "k_min = 2\n",
    "k_max = 3\n",
    "num_class = 2\n",
    "cov_type = 'diag'\n",
    "predictions3_4 = get_predictions(paths,k_min,k_max,num_class,cov_type)\n",
    "accuracy3_4 = 1-sum(abs(labels3 - predictions3_4))/(den_len+mers_len)\n",
    "accuracy3_4"
   ]
  },
  {
   "cell_type": "code",
   "execution_count": 96,
   "metadata": {},
   "outputs": [
    {
     "data": {
      "text/plain": [
       "0.028906955736224038"
      ]
     },
     "execution_count": 96,
     "metadata": {},
     "output_type": "execute_result"
    }
   ],
   "source": [
    "k_min = 2\n",
    "k_max = 3\n",
    "num_class = 2\n",
    "cov_type = 'tied'\n",
    "predictions3_5 = get_predictions(paths,k_min,k_max,num_class,cov_type)\n",
    "accuracy3_5 = 1-sum(abs(labels3 - predictions3_5))/(den_len+mers_len)\n",
    "accuracy3_5"
   ]
  },
  {
   "cell_type": "code",
   "execution_count": 97,
   "metadata": {},
   "outputs": [
    {
     "data": {
      "text/plain": [
       "0.9698885877747666"
      ]
     },
     "execution_count": 97,
     "metadata": {},
     "output_type": "execute_result"
    }
   ],
   "source": [
    "k_min = 2\n",
    "k_max = 3\n",
    "num_class = 2\n",
    "cov_type = 'spherical'\n",
    "predictions3_6 = get_predictions(paths,k_min,k_max,num_class,cov_type)\n",
    "accuracy3_6 = 1-sum(abs(labels3 - predictions3_6))/(den_len+mers_len)\n",
    "accuracy3_6"
   ]
  },
  {
   "cell_type": "code",
   "execution_count": 83,
   "metadata": {},
   "outputs": [
    {
     "data": {
      "text/plain": [
       "[0.8571428571428572,\n",
       " 0.49142857142857144,\n",
       " 0.6799999999999999,\n",
       " 0.8457142857142858,\n",
       " 0.6628571428571428,\n",
       " 0.8228571428571428]"
      ]
     },
     "execution_count": 83,
     "metadata": {},
     "output_type": "execute_result"
    }
   ],
   "source": [
    "accu1 = [accuracy1_1,accuracy1_2,accuracy1_3,accuracy1_4,accuracy1_5,accuracy1_6]\n",
    "accu1"
   ]
  },
  {
   "cell_type": "code",
   "execution_count": 84,
   "metadata": {},
   "outputs": [
    {
     "data": {
      "text/plain": [
       "[0.4290657439446367,\n",
       " 0.32179930795847755,\n",
       " 0.24221453287197237,\n",
       " 0.4982698961937716,\n",
       " 0.4117647058823529,\n",
       " 0.46366782006920415]"
      ]
     },
     "execution_count": 84,
     "metadata": {},
     "output_type": "execute_result"
    }
   ],
   "source": [
    "accu2 = [accuracy2_1,accuracy2_2,accuracy2_3,accuracy2_4,accuracy2_5,accuracy2_6]\n",
    "accu2"
   ]
  },
  {
   "cell_type": "code",
   "execution_count": 98,
   "metadata": {},
   "outputs": [
    {
     "data": {
      "text/plain": [
       "[0.9725986148750376,\n",
       " 0.9798253538090936,\n",
       " 0.9858476362541403,\n",
       " 0.9527250828063836,\n",
       " 0.971093044263776,\n",
       " 0.9698885877747666]"
      ]
     },
     "execution_count": 98,
     "metadata": {},
     "output_type": "execute_result"
    }
   ],
   "source": [
    "accu3 = [accuracy3_1,1-accuracy3_2,1-accuracy3_3,1-accuracy3_4,1-accuracy3_5,accuracy3_6]\n",
    "accu3"
   ]
  },
  {
   "cell_type": "code",
   "execution_count": 111,
   "metadata": {},
   "outputs": [],
   "source": [
    "df = pd.DataFrame(data=[accu1,accu2,accu3], index=['Flu from bat or penguin (175 seqs)','Flu from bat or penguin or cat (289 seqs)','Dengue or Mers (3321 seqs)'])\n",
    "df.rename(columns={0:'2-3mer with full covariance',\n",
    "                   1:'4-5mer with full covariance',\n",
    "                   2:'2-5mer with full covariance',\n",
    "                   3:'2-3mer with diag covariance',\n",
    "                   4: '2-3mer with tied covariance',\n",
    "                   5:'2-3mer with spherical covariance'}, \n",
    "                 inplace=True)"
   ]
  },
  {
   "cell_type": "code",
   "execution_count": 112,
   "metadata": {},
   "outputs": [
    {
     "data": {
      "text/html": [
       "<div>\n",
       "<style scoped>\n",
       "    .dataframe tbody tr th:only-of-type {\n",
       "        vertical-align: middle;\n",
       "    }\n",
       "\n",
       "    .dataframe tbody tr th {\n",
       "        vertical-align: top;\n",
       "    }\n",
       "\n",
       "    .dataframe thead th {\n",
       "        text-align: right;\n",
       "    }\n",
       "</style>\n",
       "<table border=\"1\" class=\"dataframe\">\n",
       "  <thead>\n",
       "    <tr style=\"text-align: right;\">\n",
       "      <th></th>\n",
       "      <th>2-3mer with full covariance</th>\n",
       "      <th>4-5mer with full covariance</th>\n",
       "      <th>2-5mer with full covariance</th>\n",
       "      <th>2-3mer with diag covariance</th>\n",
       "      <th>2-3mer with tied covariance</th>\n",
       "      <th>2-3mer with spherical covariance</th>\n",
       "    </tr>\n",
       "  </thead>\n",
       "  <tbody>\n",
       "    <tr>\n",
       "      <th>Flu from bat or penguin (175 seqs)</th>\n",
       "      <td>0.857143</td>\n",
       "      <td>0.491429</td>\n",
       "      <td>0.680000</td>\n",
       "      <td>0.845714</td>\n",
       "      <td>0.662857</td>\n",
       "      <td>0.822857</td>\n",
       "    </tr>\n",
       "    <tr>\n",
       "      <th>Flu from bat or penguin or cat (289 seqs)</th>\n",
       "      <td>0.429066</td>\n",
       "      <td>0.321799</td>\n",
       "      <td>0.242215</td>\n",
       "      <td>0.498270</td>\n",
       "      <td>0.411765</td>\n",
       "      <td>0.463668</td>\n",
       "    </tr>\n",
       "    <tr>\n",
       "      <th>Dengue or Mers (3321 seqs)</th>\n",
       "      <td>0.972599</td>\n",
       "      <td>0.979825</td>\n",
       "      <td>0.985848</td>\n",
       "      <td>0.952725</td>\n",
       "      <td>0.971093</td>\n",
       "      <td>0.969889</td>\n",
       "    </tr>\n",
       "  </tbody>\n",
       "</table>\n",
       "</div>"
      ],
      "text/plain": [
       "                                           2-3mer with full covariance  \\\n",
       "Flu from bat or penguin (175 seqs)                            0.857143   \n",
       "Flu from bat or penguin or cat (289 seqs)                     0.429066   \n",
       "Dengue or Mers (3321 seqs)                                    0.972599   \n",
       "\n",
       "                                           4-5mer with full covariance  \\\n",
       "Flu from bat or penguin (175 seqs)                            0.491429   \n",
       "Flu from bat or penguin or cat (289 seqs)                     0.321799   \n",
       "Dengue or Mers (3321 seqs)                                    0.979825   \n",
       "\n",
       "                                           2-5mer with full covariance  \\\n",
       "Flu from bat or penguin (175 seqs)                            0.680000   \n",
       "Flu from bat or penguin or cat (289 seqs)                     0.242215   \n",
       "Dengue or Mers (3321 seqs)                                    0.985848   \n",
       "\n",
       "                                           2-3mer with diag covariance  \\\n",
       "Flu from bat or penguin (175 seqs)                            0.845714   \n",
       "Flu from bat or penguin or cat (289 seqs)                     0.498270   \n",
       "Dengue or Mers (3321 seqs)                                    0.952725   \n",
       "\n",
       "                                           2-3mer with tied covariance  \\\n",
       "Flu from bat or penguin (175 seqs)                            0.662857   \n",
       "Flu from bat or penguin or cat (289 seqs)                     0.411765   \n",
       "Dengue or Mers (3321 seqs)                                    0.971093   \n",
       "\n",
       "                                           2-3mer with spherical covariance  \n",
       "Flu from bat or penguin (175 seqs)                                 0.822857  \n",
       "Flu from bat or penguin or cat (289 seqs)                          0.463668  \n",
       "Dengue or Mers (3321 seqs)                                         0.969889  "
      ]
     },
     "execution_count": 112,
     "metadata": {},
     "output_type": "execute_result"
    }
   ],
   "source": [
    "df"
   ]
  },
  {
   "cell_type": "code",
   "execution_count": 107,
   "metadata": {},
   "outputs": [
    {
     "data": {
      "text/plain": [
       "3321"
      ]
     },
     "execution_count": 107,
     "metadata": {},
     "output_type": "execute_result"
    }
   ],
   "source": [
    "len(labels3)"
   ]
  },
  {
   "cell_type": "code",
   "execution_count": 108,
   "metadata": {},
   "outputs": [
    {
     "data": {
      "text/plain": [
       "289"
      ]
     },
     "execution_count": 108,
     "metadata": {},
     "output_type": "execute_result"
    }
   ],
   "source": [
    "len(labels2)"
   ]
  },
  {
   "cell_type": "code",
   "execution_count": 110,
   "metadata": {},
   "outputs": [
    {
     "data": {
      "text/plain": [
       "175"
      ]
     },
     "execution_count": 110,
     "metadata": {},
     "output_type": "execute_result"
    }
   ],
   "source": [
    "len(labels1)"
   ]
  },
  {
   "cell_type": "code",
   "execution_count": null,
   "metadata": {},
   "outputs": [],
   "source": []
  }
 ],
 "metadata": {
  "kernelspec": {
   "display_name": "Python 3",
   "language": "python",
   "name": "python3"
  },
  "language_info": {
   "codemirror_mode": {
    "name": "ipython",
    "version": 3
   },
   "file_extension": ".py",
   "mimetype": "text/x-python",
   "name": "python",
   "nbconvert_exporter": "python",
   "pygments_lexer": "ipython3",
   "version": "3.7.3"
  }
 },
 "nbformat": 4,
 "nbformat_minor": 2
}
