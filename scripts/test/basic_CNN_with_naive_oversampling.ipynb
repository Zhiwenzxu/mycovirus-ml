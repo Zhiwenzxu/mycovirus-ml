{
 "cells": [
  {
   "cell_type": "markdown",
   "metadata": {},
   "source": [
    "# This notebook fits a basic CNN (Keras library) to the 357 samples"
   ]
  },
  {
   "cell_type": "markdown",
   "metadata": {},
   "source": [
    "- Data input:\n",
    "    - One hot encoding\n",
    "    - tf-idf (5-gram)\n",
    "- Imbalanced data:\n",
    "    - naive oversampling of the tf-idf data\n",
    "- Outcome:\n",
    "    - The model overfits training data\n",
    "    \n",
    "- Future:\n",
    "    - Potential solution to imbalanced data: https://academic.oup.com/bioinformatics/article/35/14/i31/5529256\n",
    "    - Recurrent neural network\n",
    "        - Sequences too long"
   ]
  },
  {
   "cell_type": "code",
   "execution_count": 1,
   "metadata": {},
   "outputs": [],
   "source": [
    "import numpy as np\n",
    "import pandas as pd\n",
    "from matplotlib import pyplot as plt\n",
    "\n",
    "def parse_fasta(file):\n",
    "    genomes = {}\n",
    "    with open(file, \"r\") as f:\n",
    "        for line in f:\n",
    "            line = line.replace('\\n', '')\n",
    "            if line.startswith(\">\"):\n",
    "                curr = line\n",
    "                genomes[curr] = ''\n",
    "                continue\n",
    "            genomes[curr] = genomes[curr] + line\n",
    "    return genomes\n",
    "\n",
    "genbank_fasta = 'mycovirus_genbank_all_refseq_nucleotide_unique.fasta'\n",
    "Sclerotinia_fasta = 'Sclerotinia_biocontrol_mycovirus_nucleotide.fasta'\n",
    "genbank = parse_fasta(genbank_fasta)\n",
    "Sclerotinia = parse_fasta(Sclerotinia_fasta)\n",
    "\n",
    "all_sequences = [genbank[a] for a in genbank] + [Sclerotinia[a] for a in Sclerotinia]"
   ]
  },
  {
   "cell_type": "code",
   "execution_count": 2,
   "metadata": {},
   "outputs": [],
   "source": [
    "from sklearn.feature_extraction.text import CountVectorizer\n",
    "count_vect = CountVectorizer(analyzer='char')\n",
    "X = count_vect.fit_transform(all_sequences)\n",
    "chars = count_vect.get_feature_names()"
   ]
  },
  {
   "cell_type": "code",
   "execution_count": 3,
   "metadata": {},
   "outputs": [
    {
     "data": {
      "text/plain": [
       "['a', 'c', 'g', 'k', 'n', 'r', 's', 't', 'w', 'y']"
      ]
     },
     "execution_count": 3,
     "metadata": {},
     "output_type": "execute_result"
    }
   ],
   "source": [
    "chars"
   ]
  },
  {
   "cell_type": "markdown",
   "metadata": {},
   "source": [
    "## One hot input + CNN"
   ]
  },
  {
   "cell_type": "code",
   "execution_count": 39,
   "metadata": {},
   "outputs": [],
   "source": [
    "from tensorflow.keras.preprocessing.text import one_hot, Tokenizer\n",
    "from tensorflow.keras.preprocessing.sequence import pad_sequences"
   ]
  },
  {
   "cell_type": "code",
   "execution_count": null,
   "metadata": {},
   "outputs": [],
   "source": []
  },
  {
   "cell_type": "code",
   "execution_count": null,
   "metadata": {},
   "outputs": [],
   "source": []
  },
  {
   "cell_type": "code",
   "execution_count": 13,
   "metadata": {},
   "outputs": [
    {
     "name": "stdout",
     "output_type": "stream",
     "text": [
      "{'a': 1, 'g': 2, 't': 3, 'c': 4, 'y': 5, 'r': 6, 'n': 7, 'k': 8, 'w': 9, 's': 10}\n"
     ]
    }
   ],
   "source": [
    "tokenizer = Tokenizer(char_level=True)\n",
    "tokenizer.fit_on_texts(all_sequences)\n",
    "idx = tokenizer.texts_to_sequences(all_sequences)\n",
    "char_map = tokenizer.word_index\n",
    "print(char_map)"
   ]
  },
  {
   "cell_type": "code",
   "execution_count": 32,
   "metadata": {},
   "outputs": [],
   "source": [
    "idx_array = np.array(idx)"
   ]
  },
  {
   "cell_type": "code",
   "execution_count": 33,
   "metadata": {},
   "outputs": [
    {
     "data": {
      "text/plain": [
       "(357,)"
      ]
     },
     "execution_count": 33,
     "metadata": {},
     "output_type": "execute_result"
    }
   ],
   "source": [
    "idx_array.shape"
   ]
  },
  {
   "cell_type": "code",
   "execution_count": 191,
   "metadata": {},
   "outputs": [
    {
     "name": "stdout",
     "output_type": "stream",
     "text": [
      "(357,)\n"
     ]
    }
   ],
   "source": [
    "target_raw = [0 for i in range(350)] + [1 for i in range(7)]\n",
    "target_raw = np.array(target_raw)\n",
    "print(target_raw.shape)"
   ]
  },
  {
   "cell_type": "code",
   "execution_count": 192,
   "metadata": {},
   "outputs": [
    {
     "name": "stdout",
     "output_type": "stream",
     "text": [
      "(357, 2)\n"
     ]
    }
   ],
   "source": [
    "# Need the labels be binary one hot\n",
    "target_one_hot = np.zeros((357, 2))\n",
    "for r in range(input_one_hot.shape[0]):\n",
    "    target_one_hot[r][target_raw[r]] = 1\n",
    "print(target_one_hot.shape)"
   ]
  },
  {
   "cell_type": "code",
   "execution_count": 193,
   "metadata": {},
   "outputs": [
    {
     "name": "stdout",
     "output_type": "stream",
     "text": [
      "(357, 2)\n"
     ]
    }
   ],
   "source": [
    "print(target_one_hot.shape)"
   ]
  },
  {
   "cell_type": "code",
   "execution_count": 40,
   "metadata": {},
   "outputs": [],
   "source": [
    "# Pad inputs because of varied lengths\n",
    "input_padded = pad_sequences(idx, maxlen=23635, padding='post')"
   ]
  },
  {
   "cell_type": "code",
   "execution_count": 45,
   "metadata": {},
   "outputs": [
    {
     "name": "stdout",
     "output_type": "stream",
     "text": [
      "[[2 2 2 ... 0 0 0]\n",
      " [2 2 2 ... 0 0 0]\n",
      " [2 4 4 ... 0 0 0]\n",
      " [1 4 1 ... 0 0 0]\n",
      " [2 1 1 ... 0 0 0]]\n",
      "(357, 23635)\n"
     ]
    }
   ],
   "source": [
    "print(input_padded[:5])\n",
    "print(input_padded.shape)"
   ]
  },
  {
   "cell_type": "code",
   "execution_count": 72,
   "metadata": {},
   "outputs": [],
   "source": [
    "# Turn input into one hot matrix\n",
    "input_one_hot = np.zeros((357, 23635, 11))\n",
    "for r in range(input_padded.shape[0]):\n",
    "    for c in range(input_padded.shape[1]):\n",
    "        input_one_hot[r][c][input_padded[r][c]] = 1"
   ]
  },
  {
   "cell_type": "code",
   "execution_count": 84,
   "metadata": {},
   "outputs": [
    {
     "name": "stdout",
     "output_type": "stream",
     "text": [
      "(357, 23635, 11)\n",
      "(357, 23635, 11, 1)\n"
     ]
    }
   ],
   "source": [
    "# Reshape to meet keras requirement\n",
    "print(input_one_hot.shape)\n",
    "input_one_hot = input_one_hot[:,:,:,np.newaxis]\n",
    "print(input_one_hot.shape)"
   ]
  },
  {
   "cell_type": "code",
   "execution_count": 92,
   "metadata": {},
   "outputs": [
    {
     "name": "stdout",
     "output_type": "stream",
     "text": [
      "(249, 23635, 11, 1)\n",
      "(249, 2)\n",
      "(108, 23635, 11, 1)\n",
      "(108, 2)\n"
     ]
    }
   ],
   "source": [
    "from sklearn.model_selection import train_test_split\n",
    "X_train, X_test, y_train, y_test = train_test_split(input_one_hot, target_one_hot, shuffle=True, test_size=0.3, random_state=46)\n",
    "print(X_train.shape)\n",
    "print(y_train.shape)\n",
    "print(X_test.shape)\n",
    "print(y_test.shape)"
   ]
  },
  {
   "cell_type": "code",
   "execution_count": null,
   "metadata": {},
   "outputs": [],
   "source": []
  },
  {
   "cell_type": "code",
   "execution_count": 61,
   "metadata": {},
   "outputs": [
    {
     "name": "stdout",
     "output_type": "stream",
     "text": [
      "(357, 1, 23635, 11)\n",
      "[[[[0. 0. 1. ... 0. 0. 0.]\n",
      "   [0. 0. 1. ... 0. 0. 0.]\n",
      "   [0. 0. 1. ... 0. 0. 0.]\n",
      "   ...\n",
      "   [1. 0. 0. ... 0. 0. 0.]\n",
      "   [1. 0. 0. ... 0. 0. 0.]\n",
      "   [1. 0. 0. ... 0. 0. 0.]]]\n",
      "\n",
      "\n",
      " [[[0. 0. 1. ... 0. 0. 0.]\n",
      "   [0. 0. 1. ... 0. 0. 0.]\n",
      "   [0. 0. 1. ... 0. 0. 0.]\n",
      "   ...\n",
      "   [1. 0. 0. ... 0. 0. 0.]\n",
      "   [1. 0. 0. ... 0. 0. 0.]\n",
      "   [1. 0. 0. ... 0. 0. 0.]]]\n",
      "\n",
      "\n",
      " [[[0. 0. 1. ... 0. 0. 0.]\n",
      "   [0. 0. 0. ... 0. 0. 0.]\n",
      "   [0. 0. 0. ... 0. 0. 0.]\n",
      "   ...\n",
      "   [1. 0. 0. ... 0. 0. 0.]\n",
      "   [1. 0. 0. ... 0. 0. 0.]\n",
      "   [1. 0. 0. ... 0. 0. 0.]]]\n",
      "\n",
      "\n",
      " [[[0. 1. 0. ... 0. 0. 0.]\n",
      "   [0. 0. 0. ... 0. 0. 0.]\n",
      "   [0. 1. 0. ... 0. 0. 0.]\n",
      "   ...\n",
      "   [1. 0. 0. ... 0. 0. 0.]\n",
      "   [1. 0. 0. ... 0. 0. 0.]\n",
      "   [1. 0. 0. ... 0. 0. 0.]]]\n",
      "\n",
      "\n",
      " [[[0. 0. 1. ... 0. 0. 0.]\n",
      "   [0. 1. 0. ... 0. 0. 0.]\n",
      "   [0. 1. 0. ... 0. 0. 0.]\n",
      "   ...\n",
      "   [1. 0. 0. ... 0. 0. 0.]\n",
      "   [1. 0. 0. ... 0. 0. 0.]\n",
      "   [1. 0. 0. ... 0. 0. 0.]]]]\n"
     ]
    }
   ],
   "source": [
    "one_hot_shape = input_one_hot.shape\n",
    "input_one_hot = input_one_hot[:,np.newaxis,:,:]\n",
    "print(input_one_hot.shape)\n",
    "print(input_one_hot[:5])"
   ]
  },
  {
   "cell_type": "code",
   "execution_count": 99,
   "metadata": {},
   "outputs": [],
   "source": [
    "import tensorflow as tf\n",
    "from tensorflow.keras.models import Sequential\n",
    "from tensorflow.keras.layers import Dense, Dropout, Activation, Flatten\n",
    "from tensorflow.keras.layers import Conv1D, Conv2D, MaxPooling2D,MaxPooling1D"
   ]
  },
  {
   "cell_type": "code",
   "execution_count": 70,
   "metadata": {},
   "outputs": [],
   "source": [
    "# A basic CNN used applied to one-hot input\n",
    "def LeNet5():\n",
    "    model = Sequential()\n",
    "    model.add(Conv2D(filters=10,kernel_size=(5,5),padding='same',activation='tanh',input_shape=(23635, 11, 1)))\n",
    "    model.add(MaxPooling2D(pool_size=(2,2)))\n",
    "    model.add(Conv2D(filters=20,kernel_size=(5,5),padding='same',activation='tanh'))\n",
    "    model.add(MaxPooling2D(pool_size=(2,2)))\n",
    "    model.add(Flatten())\n",
    "    model.add(Dense(400,activation='tanh'))\n",
    "    model.add(Dense(100,activation='tanh'))\n",
    "    model.add(Dense(2,activation='softmax'))\n",
    "    return model"
   ]
  },
  {
   "cell_type": "code",
   "execution_count": 71,
   "metadata": {},
   "outputs": [],
   "source": [
    "model = LeNet5()\n",
    "metrics =  ['acc']\n",
    "model.compile(optimizer='adam',loss='binary_crossentropy',metrics=metrics)"
   ]
  },
  {
   "cell_type": "code",
   "execution_count": 93,
   "metadata": {
    "scrolled": true
   },
   "outputs": [
    {
     "name": "stdout",
     "output_type": "stream",
     "text": [
      "Train on 224 samples, validate on 25 samples\n",
      "Epoch 1/50\n",
      "224/224 [==============================] - 56s 252ms/sample - loss: 0.3511 - acc: 0.9821 - val_loss: 3.1142e-06 - val_acc: 1.0000\n",
      "Epoch 2/50\n",
      "224/224 [==============================] - 54s 239ms/sample - loss: 0.2077 - acc: 0.9821 - val_loss: 4.3489e-05 - val_acc: 1.0000\n",
      "Epoch 3/50\n",
      "224/224 [==============================] - 56s 250ms/sample - loss: 0.1600 - acc: 0.9821 - val_loss: 7.7505e-04 - val_acc: 1.0000\n",
      "Epoch 4/50\n",
      "224/224 [==============================] - 57s 256ms/sample - loss: 0.1095 - acc: 0.9821 - val_loss: 0.0069 - val_acc: 1.0000\n",
      "Epoch 5/50\n",
      "224/224 [==============================] - 56s 248ms/sample - loss: 0.0885 - acc: 0.9821 - val_loss: 0.0387 - val_acc: 1.0000\n",
      "Epoch 6/50\n",
      "224/224 [==============================] - 59s 264ms/sample - loss: 0.0973 - acc: 0.9821 - val_loss: 0.0345 - val_acc: 1.0000\n",
      "Epoch 7/50\n",
      "224/224 [==============================] - 56s 249ms/sample - loss: 0.0930 - acc: 0.9821 - val_loss: 0.0218 - val_acc: 1.0000\n",
      "Epoch 8/50\n",
      "224/224 [==============================] - 55s 244ms/sample - loss: 0.0901 - acc: 0.9821 - val_loss: 0.0169 - val_acc: 1.0000\n",
      "Epoch 9/50\n",
      "224/224 [==============================] - 55s 244ms/sample - loss: 0.0894 - acc: 0.9821 - val_loss: 0.0147 - val_acc: 1.0000\n",
      "Epoch 10/50\n",
      "224/224 [==============================] - 55s 245ms/sample - loss: 0.0899 - acc: 0.9821 - val_loss: 0.0140 - val_acc: 1.0000\n",
      "Epoch 11/50\n",
      "224/224 [==============================] - 55s 246ms/sample - loss: 0.0906 - acc: 0.9821 - val_loss: 0.0132 - val_acc: 1.0000\n",
      "Epoch 12/50\n",
      "224/224 [==============================] - 57s 255ms/sample - loss: 0.0903 - acc: 0.9821 - val_loss: 0.0145 - val_acc: 1.0000\n",
      "Epoch 13/50\n",
      "224/224 [==============================] - 59s 264ms/sample - loss: 0.0900 - acc: 0.9821 - val_loss: 0.0157 - val_acc: 1.0000\n",
      "Epoch 14/50\n",
      "224/224 [==============================] - 58s 258ms/sample - loss: 0.0898 - acc: 0.9821 - val_loss: 0.0169 - val_acc: 1.0000\n",
      "Epoch 15/50\n",
      "224/224 [==============================] - 60s 268ms/sample - loss: 0.0911 - acc: 0.9821 - val_loss: 0.0194 - val_acc: 1.0000\n",
      "Epoch 16/50\n",
      "224/224 [==============================] - 63s 283ms/sample - loss: 0.0897 - acc: 0.9821 - val_loss: 0.0186 - val_acc: 1.0000\n",
      "Epoch 17/50\n",
      "224/224 [==============================] - 58s 260ms/sample - loss: 0.0896 - acc: 0.9821 - val_loss: 0.0184 - val_acc: 1.0000\n",
      "Epoch 18/50\n",
      "224/224 [==============================] - 57s 257ms/sample - loss: 0.0899 - acc: 0.9821 - val_loss: 0.0178 - val_acc: 1.0000\n",
      "Epoch 19/50\n",
      "224/224 [==============================] - 58s 259ms/sample - loss: 0.0909 - acc: 0.9821 - val_loss: 0.0199 - val_acc: 1.0000\n",
      "Epoch 20/50\n",
      "224/224 [==============================] - 58s 260ms/sample - loss: 0.0898 - acc: 0.9821 - val_loss: 0.0193 - val_acc: 1.0000\n",
      "Epoch 21/50\n",
      "224/224 [==============================] - 56s 252ms/sample - loss: 0.0899 - acc: 0.9821 - val_loss: 0.0172 - val_acc: 1.0000\n",
      "Epoch 22/50\n",
      "224/224 [==============================] - 57s 253ms/sample - loss: 0.0897 - acc: 0.9821 - val_loss: 0.0158 - val_acc: 1.0000\n",
      "Epoch 23/50\n",
      "224/224 [==============================] - 57s 253ms/sample - loss: 0.0898 - acc: 0.9821 - val_loss: 0.0150 - val_acc: 1.0000\n",
      "Epoch 24/50\n",
      "224/224 [==============================] - 58s 260ms/sample - loss: 0.0900 - acc: 0.9821 - val_loss: 0.0146 - val_acc: 1.0000\n",
      "Epoch 25/50\n",
      "224/224 [==============================] - 56s 251ms/sample - loss: 0.0900 - acc: 0.9821 - val_loss: 0.0149 - val_acc: 1.0000\n",
      "Epoch 26/50\n",
      "224/224 [==============================] - 56s 251ms/sample - loss: 0.0901 - acc: 0.9821 - val_loss: 0.0150 - val_acc: 1.0000\n",
      "Epoch 27/50\n",
      "224/224 [==============================] - 57s 256ms/sample - loss: 0.0900 - acc: 0.9821 - val_loss: 0.0151 - val_acc: 1.0000\n",
      "Epoch 28/50\n",
      "224/224 [==============================] - 57s 253ms/sample - loss: 0.0899 - acc: 0.9821 - val_loss: 0.0158 - val_acc: 1.0000\n",
      "Epoch 29/50\n",
      "224/224 [==============================] - 57s 255ms/sample - loss: 0.0898 - acc: 0.9821 - val_loss: 0.0162 - val_acc: 1.0000\n",
      "Epoch 30/50\n",
      "224/224 [==============================] - 57s 254ms/sample - loss: 0.0899 - acc: 0.9821 - val_loss: 0.0172 - val_acc: 1.0000\n",
      "Epoch 31/50\n",
      "224/224 [==============================] - 58s 259ms/sample - loss: 0.0899 - acc: 0.9821 - val_loss: 0.0180 - val_acc: 1.0000\n",
      "Epoch 32/50\n",
      "224/224 [==============================] - 57s 257ms/sample - loss: 0.0896 - acc: 0.9821 - val_loss: 0.0176 - val_acc: 1.0000\n",
      "Epoch 33/50\n",
      "224/224 [==============================] - 57s 253ms/sample - loss: 0.0899 - acc: 0.9821 - val_loss: 0.0164 - val_acc: 1.0000\n",
      "Epoch 34/50\n",
      "224/224 [==============================] - 57s 252ms/sample - loss: 0.0897 - acc: 0.9821 - val_loss: 0.0167 - val_acc: 1.0000\n",
      "Epoch 35/50\n",
      "224/224 [==============================] - 57s 253ms/sample - loss: 0.0897 - acc: 0.9821 - val_loss: 0.0172 - val_acc: 1.0000\n",
      "Epoch 36/50\n",
      "224/224 [==============================] - 57s 253ms/sample - loss: 0.0897 - acc: 0.9821 - val_loss: 0.0166 - val_acc: 1.0000\n",
      "Epoch 37/50\n",
      "224/224 [==============================] - 58s 257ms/sample - loss: 0.0897 - acc: 0.9821 - val_loss: 0.0170 - val_acc: 1.0000\n",
      "Epoch 38/50\n",
      "224/224 [==============================] - 60s 267ms/sample - loss: 0.0897 - acc: 0.9821 - val_loss: 0.0175 - val_acc: 1.0000\n",
      "Epoch 39/50\n",
      "224/224 [==============================] - 56s 251ms/sample - loss: 0.0900 - acc: 0.9821 - val_loss: 0.0166 - val_acc: 1.0000\n",
      "Epoch 40/50\n",
      "224/224 [==============================] - 56s 250ms/sample - loss: 0.0896 - acc: 0.9821 - val_loss: 0.0178 - val_acc: 1.0000\n",
      "Epoch 41/50\n",
      "224/224 [==============================] - 56s 249ms/sample - loss: 0.0892 - acc: 0.9821 - val_loss: 0.0205 - val_acc: 1.0000\n",
      "Epoch 42/50\n",
      "224/224 [==============================] - 57s 255ms/sample - loss: 0.0909 - acc: 0.9821 - val_loss: 0.0237 - val_acc: 1.0000\n",
      "Epoch 43/50\n",
      "224/224 [==============================] - 59s 263ms/sample - loss: 0.0902 - acc: 0.9821 - val_loss: 0.0222 - val_acc: 1.0000\n",
      "Epoch 44/50\n",
      "224/224 [==============================] - 55s 246ms/sample - loss: 0.0897 - acc: 0.9821 - val_loss: 0.0197 - val_acc: 1.0000\n",
      "Epoch 45/50\n",
      "224/224 [==============================] - 54s 242ms/sample - loss: 0.0894 - acc: 0.9821 - val_loss: 0.0175 - val_acc: 1.0000\n",
      "Epoch 46/50\n",
      "224/224 [==============================] - 54s 241ms/sample - loss: 0.0897 - acc: 0.9821 - val_loss: 0.0149 - val_acc: 1.0000\n",
      "Epoch 47/50\n",
      "224/224 [==============================] - 54s 239ms/sample - loss: 0.0910 - acc: 0.9821 - val_loss: 0.0137 - val_acc: 1.0000\n",
      "Epoch 48/50\n",
      "224/224 [==============================] - 54s 242ms/sample - loss: 0.0911 - acc: 0.9821 - val_loss: 0.0166 - val_acc: 1.0000\n",
      "Epoch 49/50\n",
      "224/224 [==============================] - 54s 241ms/sample - loss: 0.0897 - acc: 0.9821 - val_loss: 0.0175 - val_acc: 1.0000\n",
      "Epoch 50/50\n",
      "224/224 [==============================] - 53s 239ms/sample - loss: 0.0897 - acc: 0.9821 - val_loss: 0.0180 - val_acc: 1.0000\n"
     ]
    },
    {
     "data": {
      "text/plain": [
       "<tensorflow.python.keras.callbacks.History at 0x221a9a8e2b0>"
      ]
     },
     "execution_count": 93,
     "metadata": {},
     "output_type": "execute_result"
    }
   ],
   "source": [
    "model.fit(X_train,y_train,batch_size=64,epochs=50,validation_split=0.1,shuffle=True)"
   ]
  },
  {
   "cell_type": "code",
   "execution_count": 94,
   "metadata": {
    "scrolled": true
   },
   "outputs": [
    {
     "name": "stdout",
     "output_type": "stream",
     "text": [
      "_________________________________________________________________\n",
      "Layer (type)                 Output Shape              Param #   \n",
      "=================================================================\n",
      "conv2d_2 (Conv2D)            (None, 23635, 11, 10)     260       \n",
      "_________________________________________________________________\n",
      "max_pooling2d_1 (MaxPooling2 (None, 11817, 5, 10)      0         \n",
      "_________________________________________________________________\n",
      "conv2d_3 (Conv2D)            (None, 11817, 5, 20)      5020      \n",
      "_________________________________________________________________\n",
      "max_pooling2d_2 (MaxPooling2 (None, 5908, 2, 20)       0         \n",
      "_________________________________________________________________\n",
      "flatten (Flatten)            (None, 236320)            0         \n",
      "_________________________________________________________________\n",
      "dense (Dense)                (None, 400)               94528400  \n",
      "_________________________________________________________________\n",
      "dense_1 (Dense)              (None, 100)               40100     \n",
      "_________________________________________________________________\n",
      "dense_2 (Dense)              (None, 2)                 202       \n",
      "=================================================================\n",
      "Total params: 94,573,982\n",
      "Trainable params: 94,573,982\n",
      "Non-trainable params: 0\n",
      "_________________________________________________________________\n"
     ]
    }
   ],
   "source": [
    "model.summary()"
   ]
  },
  {
   "cell_type": "markdown",
   "metadata": {},
   "source": [
    "### The following predictions on test set and even training set show the model fails utterly. Maybe I have missed something."
   ]
  },
  {
   "cell_type": "code",
   "execution_count": 95,
   "metadata": {},
   "outputs": [
    {
     "data": {
      "text/plain": [
       "array([[0.98219246, 0.01780754],\n",
       "       [0.98219246, 0.01780754],\n",
       "       [0.98219246, 0.01780754],\n",
       "       [0.98219246, 0.01780754],\n",
       "       [0.98219246, 0.01780754],\n",
       "       [0.98219246, 0.01780754],\n",
       "       [0.98219246, 0.01780754],\n",
       "       [0.98219246, 0.01780754],\n",
       "       [0.98219246, 0.01780754],\n",
       "       [0.98219246, 0.01780754],\n",
       "       [0.98219246, 0.01780754],\n",
       "       [0.98219246, 0.01780754],\n",
       "       [0.98219246, 0.01780754],\n",
       "       [0.98219246, 0.01780754],\n",
       "       [0.98219246, 0.01780754],\n",
       "       [0.98219246, 0.01780754],\n",
       "       [0.98219246, 0.01780754],\n",
       "       [0.98219246, 0.01780754],\n",
       "       [0.98219246, 0.01780754],\n",
       "       [0.98219246, 0.01780754],\n",
       "       [0.98219246, 0.01780754],\n",
       "       [0.98219246, 0.01780754],\n",
       "       [0.98219246, 0.01780754],\n",
       "       [0.98219246, 0.01780754],\n",
       "       [0.98219246, 0.01780754],\n",
       "       [0.98219246, 0.01780754],\n",
       "       [0.98219246, 0.01780754],\n",
       "       [0.98219246, 0.01780754],\n",
       "       [0.98219246, 0.01780754],\n",
       "       [0.98219246, 0.01780754],\n",
       "       [0.98219246, 0.01780754],\n",
       "       [0.98219246, 0.01780754],\n",
       "       [0.98219246, 0.01780754],\n",
       "       [0.98219246, 0.01780754],\n",
       "       [0.98219246, 0.01780754],\n",
       "       [0.98219246, 0.01780754],\n",
       "       [0.98219246, 0.01780754],\n",
       "       [0.98219246, 0.01780754],\n",
       "       [0.98219246, 0.01780754],\n",
       "       [0.98219246, 0.01780754],\n",
       "       [0.98219246, 0.01780754],\n",
       "       [0.98219246, 0.01780754],\n",
       "       [0.98219246, 0.01780754],\n",
       "       [0.98219246, 0.01780754],\n",
       "       [0.98219246, 0.01780754],\n",
       "       [0.98219246, 0.01780754],\n",
       "       [0.98219246, 0.01780754],\n",
       "       [0.98219246, 0.01780754],\n",
       "       [0.98219246, 0.01780754],\n",
       "       [0.98219246, 0.01780754],\n",
       "       [0.98219246, 0.01780754],\n",
       "       [0.98219246, 0.01780754],\n",
       "       [0.98219246, 0.01780754],\n",
       "       [0.98219246, 0.01780754],\n",
       "       [0.98219246, 0.01780754],\n",
       "       [0.98219246, 0.01780754],\n",
       "       [0.98219246, 0.01780754],\n",
       "       [0.98219246, 0.01780754],\n",
       "       [0.98219246, 0.01780754],\n",
       "       [0.98219246, 0.01780754],\n",
       "       [0.98219246, 0.01780754],\n",
       "       [0.98219246, 0.01780754],\n",
       "       [0.98219246, 0.01780754],\n",
       "       [0.98219246, 0.01780754],\n",
       "       [0.98219246, 0.01780754],\n",
       "       [0.98219246, 0.01780754],\n",
       "       [0.98219246, 0.01780754],\n",
       "       [0.98219246, 0.01780754],\n",
       "       [0.98219246, 0.01780754],\n",
       "       [0.98219246, 0.01780754],\n",
       "       [0.98219246, 0.01780754],\n",
       "       [0.98219246, 0.01780754],\n",
       "       [0.98219246, 0.01780754],\n",
       "       [0.98219246, 0.01780754],\n",
       "       [0.98219246, 0.01780754],\n",
       "       [0.98219246, 0.01780754],\n",
       "       [0.98219246, 0.01780754],\n",
       "       [0.98219246, 0.01780754],\n",
       "       [0.98219246, 0.01780754],\n",
       "       [0.98219246, 0.01780754],\n",
       "       [0.98219246, 0.01780754],\n",
       "       [0.98219246, 0.01780754],\n",
       "       [0.98219246, 0.01780754],\n",
       "       [0.98219246, 0.01780754],\n",
       "       [0.98219246, 0.01780754],\n",
       "       [0.98219246, 0.01780754],\n",
       "       [0.98219246, 0.01780754],\n",
       "       [0.98219246, 0.01780754],\n",
       "       [0.98219246, 0.01780754],\n",
       "       [0.98219246, 0.01780754],\n",
       "       [0.98219246, 0.01780754],\n",
       "       [0.98219246, 0.01780754],\n",
       "       [0.98219246, 0.01780754],\n",
       "       [0.98219246, 0.01780754],\n",
       "       [0.98219246, 0.01780754],\n",
       "       [0.98219246, 0.01780754],\n",
       "       [0.98219246, 0.01780754],\n",
       "       [0.98219246, 0.01780754],\n",
       "       [0.98219246, 0.01780754],\n",
       "       [0.98219246, 0.01780754],\n",
       "       [0.98219246, 0.01780754],\n",
       "       [0.98219246, 0.01780754],\n",
       "       [0.98219246, 0.01780754],\n",
       "       [0.98219246, 0.01780754],\n",
       "       [0.98219246, 0.01780754],\n",
       "       [0.98219246, 0.01780754],\n",
       "       [0.98219246, 0.01780754],\n",
       "       [0.98219246, 0.01780754]], dtype=float32)"
      ]
     },
     "execution_count": 95,
     "metadata": {},
     "output_type": "execute_result"
    }
   ],
   "source": [
    "model.predict(X_test)"
   ]
  },
  {
   "cell_type": "code",
   "execution_count": 241,
   "metadata": {},
   "outputs": [
    {
     "data": {
      "text/plain": [
       "array([[0.98219246, 0.01780754],\n",
       "       [0.98219246, 0.01780754],\n",
       "       [0.98219246, 0.01780754],\n",
       "       [0.98219246, 0.01780754],\n",
       "       [0.98219246, 0.01780754],\n",
       "       [0.98219246, 0.01780754],\n",
       "       [0.98219246, 0.01780754],\n",
       "       [0.98219246, 0.01780754],\n",
       "       [0.98219246, 0.01780754],\n",
       "       [0.98219246, 0.01780754]], dtype=float32)"
      ]
     },
     "execution_count": 241,
     "metadata": {},
     "output_type": "execute_result"
    }
   ],
   "source": [
    "model.predict(X_train[50:60])"
   ]
  },
  {
   "cell_type": "markdown",
   "metadata": {},
   "source": [
    "## 5-gram tf-idf input (without oversampling) "
   ]
  },
  {
   "cell_type": "code",
   "execution_count": 163,
   "metadata": {
    "scrolled": true
   },
   "outputs": [
    {
     "name": "stdout",
     "output_type": "stream",
     "text": [
      "(249, 1840)\n",
      "(249, 2)\n",
      "(108, 1840)\n",
      "(108, 2)\n"
     ]
    }
   ],
   "source": [
    "# 5-gram features generation\n",
    "from sklearn.feature_extraction.text import TfidfTransformer\n",
    "count_vect = CountVectorizer(analyzer='char',ngram_range=(1,5))\n",
    "X = count_vect.fit_transform(all_sequences)\n",
    "chars = count_vect.get_feature_names()\n",
    "five_gram = X.toarray()\n",
    "tf_transformer = TfidfTransformer(use_idf=True).fit(five_gram)\n",
    "five_gram_tf = tf_transformer.transform(five_gram)\n",
    "five_gram_tf = five_gram_tf.toarray()\n",
    "\n",
    "X_train_5g, X_test_5g, y_train_5g, y_test_5g = train_test_split(five_gram_tf, target_one_hot, shuffle=True, test_size=0.3, random_state=46)\n",
    "print(X_train_5g.shape)\n",
    "print(y_train_5g.shape)\n",
    "print(X_test_5g.shape)\n",
    "print(y_test_5g.shape)"
   ]
  },
  {
   "cell_type": "code",
   "execution_count": 164,
   "metadata": {},
   "outputs": [],
   "source": [
    "X_train_5g = X_train_5g[:,:,np.newaxis]\n",
    "X_test_5g = X_test_5g[:,:,np.newaxis]"
   ]
  },
  {
   "cell_type": "code",
   "execution_count": 165,
   "metadata": {},
   "outputs": [
    {
     "data": {
      "text/plain": [
       "(249, 1840, 1)"
      ]
     },
     "execution_count": 165,
     "metadata": {},
     "output_type": "execute_result"
    }
   ],
   "source": [
    "X_train_5g.shape"
   ]
  },
  {
   "cell_type": "code",
   "execution_count": 167,
   "metadata": {},
   "outputs": [],
   "source": [
    "def LeNet5_5g():\n",
    "    model = Sequential()\n",
    "    model.add(Conv1D(filters=10,kernel_size=5,padding='same',activation='tanh'))\n",
    "    model.add(MaxPooling1D(pool_size=2))\n",
    "    model.add(Conv1D(filters=20,kernel_size=5,padding='same',activation='tanh'))\n",
    "    model.add(MaxPooling1D(pool_size=2))\n",
    "    model.add(Flatten())\n",
    "    model.add(Dense(200,activation='tanh'))\n",
    "    model.add(Dense(100,activation='tanh'))\n",
    "    model.add(Dense(2,activation='softmax'))\n",
    "    return model"
   ]
  },
  {
   "cell_type": "code",
   "execution_count": 168,
   "metadata": {},
   "outputs": [],
   "source": [
    "model_5g = LeNet5_5g()\n",
    "metrics =  ['acc']\n",
    "model_5g.compile(optimizer='adam',loss='binary_crossentropy',metrics=metrics)"
   ]
  },
  {
   "cell_type": "code",
   "execution_count": 169,
   "metadata": {},
   "outputs": [
    {
     "name": "stdout",
     "output_type": "stream",
     "text": [
      "Train on 224 samples, validate on 25 samples\n",
      "Epoch 1/50\n",
      "224/224 [==============================] - 1s 5ms/sample - loss: 0.3913 - acc: 0.7366 - val_loss: 0.0052 - val_acc: 1.0000\n",
      "Epoch 2/50\n",
      "224/224 [==============================] - 0s 2ms/sample - loss: 0.1225 - acc: 0.9821 - val_loss: 1.3675e-04 - val_acc: 1.0000\n",
      "Epoch 3/50\n",
      "224/224 [==============================] - 0s 2ms/sample - loss: 0.1655 - acc: 0.9821 - val_loss: 2.2045e-04 - val_acc: 1.0000\n",
      "Epoch 4/50\n",
      "224/224 [==============================] - 0s 2ms/sample - loss: 0.1372 - acc: 0.9821 - val_loss: 0.0079 - val_acc: 1.0000\n",
      "Epoch 5/50\n",
      "224/224 [==============================] - 0s 2ms/sample - loss: 0.0987 - acc: 0.9821 - val_loss: 0.0524 - val_acc: 1.0000\n",
      "Epoch 6/50\n",
      "224/224 [==============================] - 0s 2ms/sample - loss: 0.0979 - acc: 0.9821 - val_loss: 0.0112 - val_acc: 1.0000\n",
      "Epoch 7/50\n",
      "224/224 [==============================] - 0s 2ms/sample - loss: 0.0915 - acc: 0.9821 - val_loss: 0.0099 - val_acc: 1.0000\n",
      "Epoch 8/50\n",
      "224/224 [==============================] - 0s 2ms/sample - loss: 0.0917 - acc: 0.9821 - val_loss: 0.0138 - val_acc: 1.0000\n",
      "Epoch 9/50\n",
      "224/224 [==============================] - 0s 2ms/sample - loss: 0.0900 - acc: 0.9821 - val_loss: 0.0202 - val_acc: 1.0000\n",
      "Epoch 10/50\n",
      "224/224 [==============================] - 0s 2ms/sample - loss: 0.0894 - acc: 0.9821 - val_loss: 0.0184 - val_acc: 1.0000\n",
      "Epoch 11/50\n",
      "224/224 [==============================] - 0s 2ms/sample - loss: 0.0886 - acc: 0.9821 - val_loss: 0.0183 - val_acc: 1.0000\n",
      "Epoch 12/50\n",
      "224/224 [==============================] - 0s 2ms/sample - loss: 0.0906 - acc: 0.9821 - val_loss: 0.0221 - val_acc: 1.0000\n",
      "Epoch 13/50\n",
      "224/224 [==============================] - 0s 2ms/sample - loss: 0.0886 - acc: 0.9821 - val_loss: 0.0161 - val_acc: 1.0000\n",
      "Epoch 14/50\n",
      "224/224 [==============================] - 0s 2ms/sample - loss: 0.0883 - acc: 0.9821 - val_loss: 0.0166 - val_acc: 1.0000\n",
      "Epoch 15/50\n",
      "224/224 [==============================] - 0s 2ms/sample - loss: 0.0881 - acc: 0.9821 - val_loss: 0.0210 - val_acc: 1.0000\n",
      "Epoch 16/50\n",
      "224/224 [==============================] - 0s 2ms/sample - loss: 0.0884 - acc: 0.9821 - val_loss: 0.0214 - val_acc: 1.0000\n",
      "Epoch 17/50\n",
      "224/224 [==============================] - 0s 2ms/sample - loss: 0.0882 - acc: 0.9821 - val_loss: 0.0189 - val_acc: 1.0000\n",
      "Epoch 18/50\n",
      "224/224 [==============================] - 0s 2ms/sample - loss: 0.0876 - acc: 0.9821 - val_loss: 0.0203 - val_acc: 1.0000\n",
      "Epoch 19/50\n",
      "224/224 [==============================] - 0s 2ms/sample - loss: 0.0881 - acc: 0.9821 - val_loss: 0.0201 - val_acc: 1.0000\n",
      "Epoch 20/50\n",
      "224/224 [==============================] - 0s 2ms/sample - loss: 0.0870 - acc: 0.9821 - val_loss: 0.0151 - val_acc: 1.0000\n",
      "Epoch 21/50\n",
      "224/224 [==============================] - 0s 2ms/sample - loss: 0.0899 - acc: 0.9821 - val_loss: 0.0126 - val_acc: 1.0000\n",
      "Epoch 22/50\n",
      "224/224 [==============================] - 0s 2ms/sample - loss: 0.0869 - acc: 0.9821 - val_loss: 0.0200 - val_acc: 1.0000\n",
      "Epoch 23/50\n",
      "224/224 [==============================] - 0s 2ms/sample - loss: 0.0892 - acc: 0.9821 - val_loss: 0.0400 - val_acc: 1.0000\n",
      "Epoch 24/50\n",
      "224/224 [==============================] - 0s 2ms/sample - loss: 0.0906 - acc: 0.9821 - val_loss: 0.0226 - val_acc: 1.0000\n",
      "Epoch 25/50\n",
      "224/224 [==============================] - 0s 2ms/sample - loss: 0.0859 - acc: 0.9821 - val_loss: 0.0155 - val_acc: 1.0000\n",
      "Epoch 26/50\n",
      "224/224 [==============================] - 0s 2ms/sample - loss: 0.0868 - acc: 0.9821 - val_loss: 0.0162 - val_acc: 1.0000\n",
      "Epoch 27/50\n",
      "224/224 [==============================] - 0s 2ms/sample - loss: 0.0887 - acc: 0.9821 - val_loss: 0.0156 - val_acc: 1.0000\n",
      "Epoch 28/50\n",
      "224/224 [==============================] - 0s 2ms/sample - loss: 0.0872 - acc: 0.9821 - val_loss: 0.0363 - val_acc: 1.0000\n",
      "Epoch 29/50\n",
      "224/224 [==============================] - 0s 2ms/sample - loss: 0.0901 - acc: 0.9821 - val_loss: 0.0350 - val_acc: 1.0000\n",
      "Epoch 30/50\n",
      "224/224 [==============================] - 0s 2ms/sample - loss: 0.0854 - acc: 0.9821 - val_loss: 0.0204 - val_acc: 1.0000\n",
      "Epoch 31/50\n",
      "224/224 [==============================] - 0s 2ms/sample - loss: 0.0897 - acc: 0.9821 - val_loss: 0.0111 - val_acc: 1.0000\n",
      "Epoch 32/50\n",
      "224/224 [==============================] - 0s 2ms/sample - loss: 0.0873 - acc: 0.9821 - val_loss: 0.0130 - val_acc: 1.0000\n",
      "Epoch 33/50\n",
      "224/224 [==============================] - 0s 2ms/sample - loss: 0.0856 - acc: 0.9821 - val_loss: 0.0241 - val_acc: 1.0000\n",
      "Epoch 34/50\n",
      "224/224 [==============================] - 0s 2ms/sample - loss: 0.0833 - acc: 0.9821 - val_loss: 0.0293 - val_acc: 1.0000\n",
      "Epoch 35/50\n",
      "224/224 [==============================] - 0s 2ms/sample - loss: 0.0844 - acc: 0.9821 - val_loss: 0.0278 - val_acc: 1.0000\n",
      "Epoch 36/50\n",
      "224/224 [==============================] - 0s 2ms/sample - loss: 0.0842 - acc: 0.9821 - val_loss: 0.0319 - val_acc: 1.0000\n",
      "Epoch 37/50\n",
      "224/224 [==============================] - 0s 2ms/sample - loss: 0.0840 - acc: 0.9821 - val_loss: 0.0330 - val_acc: 1.0000\n",
      "Epoch 38/50\n",
      "224/224 [==============================] - 0s 2ms/sample - loss: 0.0826 - acc: 0.9821 - val_loss: 0.0258 - val_acc: 1.0000\n",
      "Epoch 39/50\n",
      "224/224 [==============================] - 0s 2ms/sample - loss: 0.0825 - acc: 0.9821 - val_loss: 0.0210 - val_acc: 1.0000\n",
      "Epoch 40/50\n",
      "224/224 [==============================] - 0s 2ms/sample - loss: 0.0817 - acc: 0.9821 - val_loss: 0.0244 - val_acc: 1.0000\n",
      "Epoch 41/50\n",
      "224/224 [==============================] - 0s 2ms/sample - loss: 0.0811 - acc: 0.9821 - val_loss: 0.0323 - val_acc: 1.0000\n",
      "Epoch 42/50\n",
      "224/224 [==============================] - 0s 2ms/sample - loss: 0.0813 - acc: 0.9821 - val_loss: 0.0296 - val_acc: 1.0000\n",
      "Epoch 43/50\n",
      "224/224 [==============================] - 0s 2ms/sample - loss: 0.0880 - acc: 0.9821 - val_loss: 0.0180 - val_acc: 1.0000\n",
      "Epoch 44/50\n",
      "224/224 [==============================] - 0s 2ms/sample - loss: 0.0822 - acc: 0.9821 - val_loss: 0.0393 - val_acc: 1.0000\n",
      "Epoch 45/50\n",
      "224/224 [==============================] - 0s 2ms/sample - loss: 0.0828 - acc: 0.9821 - val_loss: 0.0423 - val_acc: 1.0000\n",
      "Epoch 46/50\n",
      "224/224 [==============================] - 0s 2ms/sample - loss: 0.0824 - acc: 0.9821 - val_loss: 0.0273 - val_acc: 1.0000\n",
      "Epoch 47/50\n",
      "224/224 [==============================] - 0s 2ms/sample - loss: 0.0793 - acc: 0.9821 - val_loss: 0.0276 - val_acc: 1.0000\n",
      "Epoch 48/50\n",
      "224/224 [==============================] - 0s 2ms/sample - loss: 0.0788 - acc: 0.9821 - val_loss: 0.0230 - val_acc: 1.0000\n",
      "Epoch 49/50\n",
      "224/224 [==============================] - ETA: 0s - loss: 0.0733 - acc: 0.984 - 0s 2ms/sample - loss: 0.0782 - acc: 0.9821 - val_loss: 0.0265 - val_acc: 1.0000\n",
      "Epoch 50/50\n",
      "224/224 [==============================] - 0s 2ms/sample - loss: 0.0782 - acc: 0.9821 - val_loss: 0.0345 - val_acc: 1.0000\n"
     ]
    },
    {
     "data": {
      "text/plain": [
       "<tensorflow.python.keras.callbacks.History at 0x22185e6fb38>"
      ]
     },
     "execution_count": 169,
     "metadata": {},
     "output_type": "execute_result"
    }
   ],
   "source": [
    "model_5g.fit(X_train_5g,y_train_5g,batch_size=64,epochs=50,validation_split=0.1,shuffle=True,verbose=1)"
   ]
  },
  {
   "cell_type": "code",
   "execution_count": 171,
   "metadata": {},
   "outputs": [
    {
     "name": "stdout",
     "output_type": "stream",
     "text": [
      "_________________________________________________________________\n",
      "Layer (type)                 Output Shape              Param #   \n",
      "=================================================================\n",
      "conv1d_12 (Conv1D)           multiple                  60        \n",
      "_________________________________________________________________\n",
      "max_pooling1d_12 (MaxPooling multiple                  0         \n",
      "_________________________________________________________________\n",
      "conv1d_13 (Conv1D)           multiple                  1020      \n",
      "_________________________________________________________________\n",
      "max_pooling1d_13 (MaxPooling multiple                  0         \n",
      "_________________________________________________________________\n",
      "flatten_7 (Flatten)          multiple                  0         \n",
      "_________________________________________________________________\n",
      "dense_21 (Dense)             multiple                  1840200   \n",
      "_________________________________________________________________\n",
      "dense_22 (Dense)             multiple                  20100     \n",
      "_________________________________________________________________\n",
      "dense_23 (Dense)             multiple                  202       \n",
      "=================================================================\n",
      "Total params: 1,861,582\n",
      "Trainable params: 1,861,582\n",
      "Non-trainable params: 0\n",
      "_________________________________________________________________\n"
     ]
    }
   ],
   "source": [
    "model_5g.summary()"
   ]
  },
  {
   "cell_type": "code",
   "execution_count": 172,
   "metadata": {},
   "outputs": [],
   "source": [
    "history = model_5g.history"
   ]
  },
  {
   "cell_type": "code",
   "execution_count": 173,
   "metadata": {},
   "outputs": [
    {
     "data": {
      "text/plain": [
       "[<matplotlib.lines.Line2D at 0x22186040cc0>]"
      ]
     },
     "execution_count": 173,
     "metadata": {},
     "output_type": "execute_result"
    },
    {
     "data": {
      "image/png": "[encoded data removed]",
      "text/plain": [
       "<Figure size 432x288 with 1 Axes>"
      ]
     },
     "metadata": {
      "needs_background": "light"
     },
     "output_type": "display_data"
    }
   ],
   "source": [
    "plt.plot(history.history['acc'])"
   ]
  },
  {
   "cell_type": "code",
   "execution_count": 174,
   "metadata": {},
   "outputs": [
    {
     "data": {
      "text/plain": [
       "[<matplotlib.lines.Line2D at 0x2218604afd0>]"
      ]
     },
     "execution_count": 174,
     "metadata": {},
     "output_type": "execute_result"
    },
    {
     "data": {
      "image/png": "[encoded data removed]",
      "text/plain": [
       "<Figure size 432x288 with 1 Axes>"
      ]
     },
     "metadata": {
      "needs_background": "light"
     },
     "output_type": "display_data"
    }
   ],
   "source": [
    "plt.plot(history.history['val_acc'])"
   ]
  },
  {
   "cell_type": "code",
   "execution_count": 175,
   "metadata": {},
   "outputs": [
    {
     "data": {
      "text/plain": [
       "[<matplotlib.lines.Line2D at 0x22186215da0>]"
      ]
     },
     "execution_count": 175,
     "metadata": {},
     "output_type": "execute_result"
    },
    {
     "data": {
      "image/png": "[encoded data removed]",
      "text/plain": [
       "<Figure size 432x288 with 1 Axes>"
      ]
     },
     "metadata": {
      "needs_background": "light"
     },
     "output_type": "display_data"
    }
   ],
   "source": [
    "plt.plot(history.history['loss'])"
   ]
  },
  {
   "cell_type": "markdown",
   "metadata": {},
   "source": [
    "### The following shows that again the model fails on both training and test sets due to imbalanced data"
   ]
  },
  {
   "cell_type": "code",
   "execution_count": 237,
   "metadata": {},
   "outputs": [
    {
     "data": {
      "text/plain": [
       "array([[0.98618186, 0.01381813],\n",
       "       [0.99674326, 0.00325682],\n",
       "       [0.9954325 , 0.00456751],\n",
       "       [0.9478614 , 0.05213862],\n",
       "       [0.9916256 , 0.00837442],\n",
       "       [0.9735815 , 0.02641847],\n",
       "       [0.99458885, 0.00541117],\n",
       "       [0.97325814, 0.02674187],\n",
       "       [0.9959215 , 0.00407844],\n",
       "       [0.9857174 , 0.01428256],\n",
       "       [0.9970413 , 0.00295868],\n",
       "       [0.96038437, 0.03961563],\n",
       "       [0.99718106, 0.0028189 ],\n",
       "       [0.9394887 , 0.06051136],\n",
       "       [0.9794993 , 0.02050077],\n",
       "       [0.93742025, 0.06257982],\n",
       "       [0.9839923 , 0.0160077 ],\n",
       "       [0.9255737 , 0.07442628],\n",
       "       [0.9902935 , 0.00970652],\n",
       "       [0.9833329 , 0.01666721],\n",
       "       [0.9851252 , 0.01487479],\n",
       "       [0.9771482 , 0.02285176],\n",
       "       [0.9872016 , 0.01279847],\n",
       "       [0.98327386, 0.01672613],\n",
       "       [0.9126224 , 0.08737756],\n",
       "       [0.9052734 , 0.09472664],\n",
       "       [0.994371  , 0.00562906],\n",
       "       [0.99508744, 0.0049126 ],\n",
       "       [0.99528354, 0.00471645],\n",
       "       [0.91462326, 0.08537681],\n",
       "       [0.9670911 , 0.0329089 ],\n",
       "       [0.96259475, 0.03740521],\n",
       "       [0.9899358 , 0.01006416],\n",
       "       [0.9646896 , 0.03531036],\n",
       "       [0.9845302 , 0.0154698 ],\n",
       "       [0.97429436, 0.0257057 ],\n",
       "       [0.9340168 , 0.06598318],\n",
       "       [0.95463777, 0.04536229],\n",
       "       [0.90417564, 0.09582432],\n",
       "       [0.9874537 , 0.01254628],\n",
       "       [0.9952217 , 0.00477831],\n",
       "       [0.9891867 , 0.01081332],\n",
       "       [0.96004176, 0.03995822],\n",
       "       [0.984107  , 0.01589293],\n",
       "       [0.9762097 , 0.02379029],\n",
       "       [0.974495  , 0.02550495],\n",
       "       [0.950404  , 0.04959599],\n",
       "       [0.9880415 , 0.01195851],\n",
       "       [0.99324256, 0.00675741],\n",
       "       [0.99526703, 0.00473301],\n",
       "       [0.9850353 , 0.0149647 ],\n",
       "       [0.9777345 , 0.02226546],\n",
       "       [0.98383635, 0.01616359],\n",
       "       [0.99163264, 0.00836743],\n",
       "       [0.9947731 , 0.0052269 ],\n",
       "       [0.983182  , 0.01681802],\n",
       "       [0.88107854, 0.11892141],\n",
       "       [0.9871406 , 0.01285941],\n",
       "       [0.99104226, 0.00895769],\n",
       "       [0.9631671 , 0.03683301],\n",
       "       [0.96906996, 0.03093005],\n",
       "       [0.9808065 , 0.01919342],\n",
       "       [0.9842056 , 0.01579436],\n",
       "       [0.9909648 , 0.00903523],\n",
       "       [0.88761115, 0.11238884],\n",
       "       [0.9787877 , 0.02121228],\n",
       "       [0.99685776, 0.00314222],\n",
       "       [0.988189  , 0.01181098],\n",
       "       [0.9655705 , 0.03442951],\n",
       "       [0.9561909 , 0.04380912],\n",
       "       [0.9794915 , 0.02050847],\n",
       "       [0.99144065, 0.00855941],\n",
       "       [0.98774767, 0.0122523 ],\n",
       "       [0.9840769 , 0.01592316],\n",
       "       [0.96291476, 0.03708526],\n",
       "       [0.9940957 , 0.00590428],\n",
       "       [0.97887075, 0.02112924],\n",
       "       [0.9957178 , 0.00428215],\n",
       "       [0.9880364 , 0.01196363],\n",
       "       [0.97998637, 0.02001361],\n",
       "       [0.9852688 , 0.01473126],\n",
       "       [0.99300355, 0.00699647],\n",
       "       [0.9799714 , 0.02002858],\n",
       "       [0.9339851 , 0.06601489],\n",
       "       [0.9483439 , 0.05165612],\n",
       "       [0.9697953 , 0.03020467],\n",
       "       [0.98457354, 0.01542643],\n",
       "       [0.98030084, 0.01969918],\n",
       "       [0.97074705, 0.02925286],\n",
       "       [0.94617975, 0.05382028],\n",
       "       [0.9635713 , 0.03642868],\n",
       "       [0.9684266 , 0.03157345],\n",
       "       [0.96361345, 0.03638656],\n",
       "       [0.98727536, 0.01272464],\n",
       "       [0.99505013, 0.00494989],\n",
       "       [0.9953768 , 0.00462311],\n",
       "       [0.98237795, 0.017622  ],\n",
       "       [0.9404579 , 0.05954212],\n",
       "       [0.980457  , 0.01954296],\n",
       "       [0.9902216 , 0.00977842],\n",
       "       [0.91613513, 0.08386481],\n",
       "       [0.9739754 , 0.02602459],\n",
       "       [0.9500155 , 0.04998451],\n",
       "       [0.965808  , 0.03419208],\n",
       "       [0.99524325, 0.00475675],\n",
       "       [0.98846227, 0.01153771],\n",
       "       [0.9616837 , 0.03831632],\n",
       "       [0.98569125, 0.01430876]], dtype=float32)"
      ]
     },
     "execution_count": 237,
     "metadata": {},
     "output_type": "execute_result"
    }
   ],
   "source": [
    "model_5g.predict(X_test_5g)"
   ]
  },
  {
   "cell_type": "code",
   "execution_count": 239,
   "metadata": {},
   "outputs": [
    {
     "data": {
      "text/plain": [
       "array([[-0.01392096,  0.01392091],\n",
       "       [-0.03648239,  0.03648242],\n",
       "       [-0.00678271,  0.00678276],\n",
       "       [-0.02838707,  0.02838707],\n",
       "       [ 0.93164873, -0.93164869],\n",
       "       [-0.03631246,  0.03631249],\n",
       "       [-0.06259656,  0.06259655],\n",
       "       [-0.00396532,  0.0039653 ],\n",
       "       [ 0.94249499, -0.94249499],\n",
       "       [-0.00470006,  0.00470006]])"
      ]
     },
     "execution_count": 239,
     "metadata": {},
     "output_type": "execute_result"
    }
   ],
   "source": [
    "(model_5g.predict(X_train_5g)-y_train_5g)[50:60]"
   ]
  },
  {
   "cell_type": "markdown",
   "metadata": {},
   "source": [
    "## 5-gram tf-idf input with oversampling (positive:negative=1)\n",
    "\n",
    "Code below does naive oversampling by duplicating positive samples to have a (almost) 1:1 training set. This is of course done with the test set isolated."
   ]
  },
  {
   "cell_type": "code",
   "execution_count": 185,
   "metadata": {},
   "outputs": [
    {
     "data": {
      "text/plain": [
       "(350, 1840)"
      ]
     },
     "execution_count": 185,
     "metadata": {},
     "output_type": "execute_result"
    }
   ],
   "source": [
    "five_gram_tf = five_gram_tf[:-7]\n",
    "five_gram_tf.shape"
   ]
  },
  {
   "cell_type": "code",
   "execution_count": 182,
   "metadata": {},
   "outputs": [],
   "source": [
    "positive_5g = five_gram_tf[-7:]"
   ]
  },
  {
   "cell_type": "code",
   "execution_count": 183,
   "metadata": {},
   "outputs": [
    {
     "data": {
      "text/plain": [
       "(7, 1840)"
      ]
     },
     "execution_count": 183,
     "metadata": {},
     "output_type": "execute_result"
    }
   ],
   "source": [
    "positive_5g.shape"
   ]
  },
  {
   "cell_type": "code",
   "execution_count": 195,
   "metadata": {},
   "outputs": [
    {
     "name": "stdout",
     "output_type": "stream",
     "text": [
      "[[0. 1.]\n",
      " [0. 1.]\n",
      " [0. 1.]\n",
      " [0. 1.]\n",
      " [0. 1.]\n",
      " [0. 1.]\n",
      " [0. 1.]]\n"
     ]
    }
   ],
   "source": [
    "positive_target = target_one_hot[-7:]\n",
    "print(positive_target)"
   ]
  },
  {
   "cell_type": "code",
   "execution_count": 190,
   "metadata": {},
   "outputs": [
    {
     "name": "stdout",
     "output_type": "stream",
     "text": [
      "(245, 1840)\n",
      "(245, 2)\n",
      "(105, 1840)\n",
      "(105, 2)\n"
     ]
    }
   ],
   "source": [
    "X_train_5g_os, X_test_5g_os, y_train_5g_os, y_test_5g_os = train_test_split(five_gram_tf, target_one_hot, shuffle=True, test_size=0.3, random_state=46)\n",
    "print(X_train_5g_os.shape)\n",
    "print(y_train_5g_os.shape)\n",
    "print(X_test_5g_os.shape)\n",
    "print(y_test_5g_os.shape)"
   ]
  },
  {
   "cell_type": "code",
   "execution_count": 198,
   "metadata": {},
   "outputs": [],
   "source": [
    "np.random.shuffle(positive_5g)\n",
    "positive_train = positive_5g[:4]\n",
    "positive_target_train = positive_target[:4]\n",
    "oversampling_steps = int(240/4)\n",
    "for i in range(oversampling_steps):\n",
    "    X_train_5g_os = np.concatenate((X_train_5g_os, positive_train), axis=0)\n",
    "    y_train_5g_os = np.concatenate((y_train_5g_os, positive_target_train), axis=0)"
   ]
  },
  {
   "cell_type": "code",
   "execution_count": 206,
   "metadata": {},
   "outputs": [
    {
     "name": "stdout",
     "output_type": "stream",
     "text": [
      "(485, 1840)\n",
      "(485, 2)\n",
      "(485, 1840, 1)\n"
     ]
    }
   ],
   "source": [
    "print(X_train_5g_os.shape)\n",
    "print(y_train_5g_os.shape)\n",
    "X_train_5g_os = X_train_5g_os[:, :, np.newaxis]\n",
    "print(X_train_5g_os.shape)"
   ]
  },
  {
   "cell_type": "code",
   "execution_count": 207,
   "metadata": {},
   "outputs": [],
   "source": [
    "model_5g_os = LeNet5_5g()\n",
    "metrics =  ['acc']\n",
    "model_5g_os.compile(optimizer='adam',loss='binary_crossentropy',metrics=metrics)"
   ]
  },
  {
   "cell_type": "code",
   "execution_count": 208,
   "metadata": {},
   "outputs": [
    {
     "name": "stdout",
     "output_type": "stream",
     "text": [
      "Train on 388 samples, validate on 97 samples\n",
      "Epoch 1/100\n",
      "388/388 [==============================] - 1s 3ms/sample - loss: 0.6759 - acc: 0.6289 - val_loss: 1.0055 - val_acc: 0.0000e+00\n",
      "Epoch 2/100\n",
      "388/388 [==============================] - 1s 2ms/sample - loss: 0.6020 - acc: 0.6211 - val_loss: 1.0213 - val_acc: 0.0000e+00\n",
      "Epoch 3/100\n",
      "388/388 [==============================] - 1s 2ms/sample - loss: 0.6001 - acc: 0.6314 - val_loss: 0.6519 - val_acc: 0.7526\n",
      "Epoch 4/100\n",
      "388/388 [==============================] - 1s 2ms/sample - loss: 0.5345 - acc: 0.6933 - val_loss: 0.8623 - val_acc: 0.5052\n",
      "Epoch 5/100\n",
      "388/388 [==============================] - 1s 2ms/sample - loss: 0.5052 - acc: 0.7397 - val_loss: 0.6763 - val_acc: 0.5052\n",
      "Epoch 6/100\n",
      "388/388 [==============================] - 1s 2ms/sample - loss: 0.4677 - acc: 0.7552 - val_loss: 0.5525 - val_acc: 0.7526\n",
      "Epoch 7/100\n",
      "388/388 [==============================] - 1s 2ms/sample - loss: 0.4266 - acc: 0.8144 - val_loss: 1.0331 - val_acc: 0.0000e+00\n",
      "Epoch 8/100\n",
      "388/388 [==============================] - 1s 2ms/sample - loss: 0.4355 - acc: 0.7500 - val_loss: 0.3866 - val_acc: 1.0000\n",
      "Epoch 9/100\n",
      "388/388 [==============================] - 1s 2ms/sample - loss: 0.3401 - acc: 0.8866 - val_loss: 0.2228 - val_acc: 1.0000\n",
      "Epoch 10/100\n",
      "388/388 [==============================] - 1s 2ms/sample - loss: 0.2825 - acc: 0.8866 - val_loss: 0.3308 - val_acc: 0.7526\n",
      "Epoch 11/100\n",
      "388/388 [==============================] - 1s 2ms/sample - loss: 0.2333 - acc: 0.8969 - val_loss: 0.0716 - val_acc: 1.0000\n",
      "Epoch 12/100\n",
      "388/388 [==============================] - 1s 2ms/sample - loss: 0.2038 - acc: 0.9356 - val_loss: 0.1852 - val_acc: 1.0000\n",
      "Epoch 13/100\n",
      "388/388 [==============================] - 1s 2ms/sample - loss: 0.1697 - acc: 0.9433 - val_loss: 0.0547 - val_acc: 1.0000\n",
      "Epoch 14/100\n",
      "388/388 [==============================] - 1s 2ms/sample - loss: 0.1399 - acc: 0.9691 - val_loss: 0.0483 - val_acc: 1.0000\n",
      "Epoch 15/100\n",
      "388/388 [==============================] - 1s 2ms/sample - loss: 0.1355 - acc: 0.9665 - val_loss: 0.0518 - val_acc: 1.0000\n",
      "Epoch 16/100\n",
      "388/388 [==============================] - 1s 2ms/sample - loss: 0.1028 - acc: 0.9768 - val_loss: 0.0025 - val_acc: 1.0000\n",
      "Epoch 17/100\n",
      "388/388 [==============================] - 1s 2ms/sample - loss: 0.1874 - acc: 0.9175 - val_loss: 0.0015 - val_acc: 1.0000\n",
      "Epoch 18/100\n",
      "388/388 [==============================] - 1s 2ms/sample - loss: 0.3624 - acc: 0.8557 - val_loss: 1.0514 - val_acc: 0.2474\n",
      "Epoch 19/100\n",
      "388/388 [==============================] - 1s 2ms/sample - loss: 0.1706 - acc: 0.9124 - val_loss: 0.0940 - val_acc: 1.0000\n",
      "Epoch 20/100\n",
      "388/388 [==============================] - 1s 2ms/sample - loss: 0.0788 - acc: 0.9768 - val_loss: 0.5854 - val_acc: 0.4948\n",
      "Epoch 21/100\n",
      "388/388 [==============================] - 1s 2ms/sample - loss: 0.1473 - acc: 0.9407 - val_loss: 0.0414 - val_acc: 1.0000\n",
      "Epoch 22/100\n",
      "388/388 [==============================] - 1s 2ms/sample - loss: 0.0872 - acc: 0.9871 - val_loss: 0.0943 - val_acc: 1.0000\n",
      "Epoch 23/100\n",
      "388/388 [==============================] - 1s 2ms/sample - loss: 0.0911 - acc: 0.9871 - val_loss: 0.0347 - val_acc: 1.0000\n",
      "Epoch 24/100\n",
      "388/388 [==============================] - 1s 2ms/sample - loss: 0.0692 - acc: 0.9871 - val_loss: 0.0345 - val_acc: 1.0000\n",
      "Epoch 25/100\n",
      "388/388 [==============================] - 1s 2ms/sample - loss: 0.0558 - acc: 0.9845 - val_loss: 0.0414 - val_acc: 1.0000\n",
      "Epoch 26/100\n",
      "388/388 [==============================] - 1s 2ms/sample - loss: 0.0504 - acc: 0.9871 - val_loss: 0.0271 - val_acc: 1.0000\n",
      "Epoch 27/100\n",
      "388/388 [==============================] - 1s 2ms/sample - loss: 0.0488 - acc: 0.9897 - val_loss: 0.0443 - val_acc: 1.0000\n",
      "Epoch 28/100\n",
      "388/388 [==============================] - 1s 2ms/sample - loss: 0.0458 - acc: 0.9923 - val_loss: 0.0284 - val_acc: 1.0000\n",
      "Epoch 29/100\n",
      "388/388 [==============================] - 1s 2ms/sample - loss: 0.0442 - acc: 0.9923 - val_loss: 0.0218 - val_acc: 1.0000\n",
      "Epoch 30/100\n",
      "388/388 [==============================] - 1s 2ms/sample - loss: 0.0463 - acc: 0.9923 - val_loss: 0.0621 - val_acc: 1.0000\n",
      "Epoch 31/100\n",
      "388/388 [==============================] - 1s 2ms/sample - loss: 0.0424 - acc: 0.9923 - val_loss: 0.0055 - val_acc: 1.0000\n",
      "Epoch 32/100\n",
      "388/388 [==============================] - 1s 2ms/sample - loss: 0.0538 - acc: 0.9845 - val_loss: 0.1478 - val_acc: 1.0000\n",
      "Epoch 33/100\n",
      "388/388 [==============================] - 1s 2ms/sample - loss: 0.0719 - acc: 0.9923 - val_loss: 0.0031 - val_acc: 1.0000\n",
      "Epoch 34/100\n",
      "388/388 [==============================] - 1s 2ms/sample - loss: 0.0473 - acc: 0.9897 - val_loss: 0.0258 - val_acc: 1.0000\n",
      "Epoch 35/100\n",
      "388/388 [==============================] - 1s 2ms/sample - loss: 0.0579 - acc: 0.9897 - val_loss: 0.0133 - val_acc: 1.0000\n",
      "Epoch 36/100\n",
      "388/388 [==============================] - 1s 2ms/sample - loss: 0.0449 - acc: 0.9923 - val_loss: 0.0100 - val_acc: 1.0000\n",
      "Epoch 37/100\n",
      "388/388 [==============================] - 1s 2ms/sample - loss: 0.0559 - acc: 0.9871 - val_loss: 0.0739 - val_acc: 1.0000\n",
      "Epoch 38/100\n",
      "388/388 [==============================] - 1s 2ms/sample - loss: 0.0474 - acc: 0.9923 - val_loss: 0.0216 - val_acc: 1.0000\n",
      "Epoch 39/100\n",
      "388/388 [==============================] - 1s 2ms/sample - loss: 0.0424 - acc: 0.9923 - val_loss: 0.0064 - val_acc: 1.0000\n",
      "Epoch 40/100\n",
      "388/388 [==============================] - 1s 2ms/sample - loss: 0.0461 - acc: 0.9923 - val_loss: 0.0278 - val_acc: 1.0000\n",
      "Epoch 41/100\n",
      "388/388 [==============================] - 1s 2ms/sample - loss: 0.0407 - acc: 0.9923 - val_loss: 0.0153 - val_acc: 1.0000\n",
      "Epoch 42/100\n",
      "388/388 [==============================] - 1s 2ms/sample - loss: 0.0440 - acc: 0.9923 - val_loss: 0.0162 - val_acc: 1.0000\n",
      "Epoch 43/100\n",
      "388/388 [==============================] - 1s 2ms/sample - loss: 0.0414 - acc: 0.9923 - val_loss: 0.0115 - val_acc: 1.0000\n",
      "Epoch 44/100\n",
      "388/388 [==============================] - 1s 2ms/sample - loss: 0.0419 - acc: 0.9923 - val_loss: 0.0438 - val_acc: 1.0000\n",
      "Epoch 45/100\n",
      "388/388 [==============================] - 1s 2ms/sample - loss: 0.0418 - acc: 0.9923 - val_loss: 0.0102 - val_acc: 1.0000\n",
      "Epoch 46/100\n",
      "388/388 [==============================] - 1s 2ms/sample - loss: 0.0430 - acc: 0.9923 - val_loss: 0.0236 - val_acc: 1.0000\n",
      "Epoch 47/100\n",
      "388/388 [==============================] - 1s 2ms/sample - loss: 0.0470 - acc: 0.9923 - val_loss: 0.0163 - val_acc: 1.0000\n",
      "Epoch 48/100\n",
      "388/388 [==============================] - 1s 2ms/sample - loss: 0.0396 - acc: 0.9923 - val_loss: 0.0165 - val_acc: 1.0000\n",
      "Epoch 49/100\n",
      "388/388 [==============================] - 1s 2ms/sample - loss: 0.0497 - acc: 0.9923 - val_loss: 0.0205 - val_acc: 1.0000\n",
      "Epoch 50/100\n",
      "388/388 [==============================] - 1s 2ms/sample - loss: 0.0464 - acc: 0.9923 - val_loss: 5.7624e-04 - val_acc: 1.0000\n",
      "Epoch 51/100\n",
      "388/388 [==============================] - 1s 2ms/sample - loss: 0.0697 - acc: 0.9871 - val_loss: 0.0440 - val_acc: 1.0000\n",
      "Epoch 52/100\n",
      "388/388 [==============================] - 1s 2ms/sample - loss: 0.0399 - acc: 0.9923 - val_loss: 0.0120 - val_acc: 1.0000\n",
      "Epoch 53/100\n",
      "388/388 [==============================] - 1s 2ms/sample - loss: 0.0398 - acc: 0.9923 - val_loss: 0.0335 - val_acc: 1.0000\n",
      "Epoch 54/100\n",
      "388/388 [==============================] - 1s 2ms/sample - loss: 0.0385 - acc: 0.9923 - val_loss: 0.0050 - val_acc: 1.0000\n",
      "Epoch 55/100\n",
      "388/388 [==============================] - 1s 2ms/sample - loss: 0.0446 - acc: 0.9923 - val_loss: 0.0726 - val_acc: 1.0000\n",
      "Epoch 56/100\n",
      "388/388 [==============================] - 1s 2ms/sample - loss: 0.0456 - acc: 0.9923 - val_loss: 0.0081 - val_acc: 1.0000\n",
      "Epoch 57/100\n",
      "388/388 [==============================] - 1s 2ms/sample - loss: 0.0353 - acc: 0.9923 - val_loss: 0.0706 - val_acc: 1.0000\n",
      "Epoch 58/100\n",
      "388/388 [==============================] - 1s 2ms/sample - loss: 0.0490 - acc: 0.9923 - val_loss: 0.0096 - val_acc: 1.0000\n",
      "Epoch 59/100\n",
      "388/388 [==============================] - 1s 2ms/sample - loss: 0.0463 - acc: 0.9923 - val_loss: 0.0030 - val_acc: 1.0000\n",
      "Epoch 60/100\n",
      "388/388 [==============================] - 1s 2ms/sample - loss: 0.0548 - acc: 0.9923 - val_loss: 0.0535 - val_acc: 1.0000\n"
     ]
    },
    {
     "name": "stdout",
     "output_type": "stream",
     "text": [
      "Epoch 61/100\n",
      "388/388 [==============================] - 1s 2ms/sample - loss: 0.0545 - acc: 0.9923 - val_loss: 0.0029 - val_acc: 1.0000\n",
      "Epoch 62/100\n",
      "388/388 [==============================] - 1s 2ms/sample - loss: 0.0477 - acc: 0.9923 - val_loss: 0.0200 - val_acc: 1.0000\n",
      "Epoch 63/100\n",
      "388/388 [==============================] - 1s 2ms/sample - loss: 0.0390 - acc: 0.9923 - val_loss: 0.0089 - val_acc: 1.0000\n",
      "Epoch 64/100\n",
      "388/388 [==============================] - 1s 2ms/sample - loss: 0.0453 - acc: 0.9923 - val_loss: 0.0241 - val_acc: 1.0000\n",
      "Epoch 65/100\n",
      "388/388 [==============================] - 1s 2ms/sample - loss: 0.0370 - acc: 0.9923 - val_loss: 0.0161 - val_acc: 1.0000\n",
      "Epoch 66/100\n",
      "388/388 [==============================] - 1s 2ms/sample - loss: 0.0443 - acc: 0.9923 - val_loss: 0.0436 - val_acc: 1.0000\n",
      "Epoch 67/100\n",
      "388/388 [==============================] - 1s 2ms/sample - loss: 0.0389 - acc: 0.9923 - val_loss: 9.3133e-04 - val_acc: 1.0000\n",
      "Epoch 68/100\n",
      "388/388 [==============================] - 1s 2ms/sample - loss: 0.0548 - acc: 0.9897 - val_loss: 0.0507 - val_acc: 1.0000\n",
      "Epoch 69/100\n",
      "388/388 [==============================] - 1s 2ms/sample - loss: 0.0388 - acc: 0.9923 - val_loss: 0.0022 - val_acc: 1.0000\n",
      "Epoch 70/100\n",
      "388/388 [==============================] - 1s 2ms/sample - loss: 0.0531 - acc: 0.9923 - val_loss: 0.0557 - val_acc: 1.0000\n",
      "Epoch 71/100\n",
      "388/388 [==============================] - 1s 2ms/sample - loss: 0.0388 - acc: 0.9923 - val_loss: 0.0042 - val_acc: 1.0000\n",
      "Epoch 72/100\n",
      "388/388 [==============================] - 1s 2ms/sample - loss: 0.0532 - acc: 0.9923 - val_loss: 0.0397 - val_acc: 1.0000\n",
      "Epoch 73/100\n",
      "388/388 [==============================] - 1s 2ms/sample - loss: 0.0404 - acc: 0.9923 - val_loss: 0.0021 - val_acc: 1.0000\n",
      "Epoch 74/100\n",
      "388/388 [==============================] - 1s 2ms/sample - loss: 0.0567 - acc: 0.9923 - val_loss: 0.1628 - val_acc: 1.0000\n",
      "Epoch 75/100\n",
      "388/388 [==============================] - 1s 2ms/sample - loss: 0.0638 - acc: 0.9923 - val_loss: 0.0022 - val_acc: 1.0000\n",
      "Epoch 76/100\n",
      "388/388 [==============================] - 1s 2ms/sample - loss: 0.0434 - acc: 0.9923 - val_loss: 2.7720 - val_acc: 0.0000e+00\n",
      "Epoch 77/100\n",
      "388/388 [==============================] - 1s 2ms/sample - loss: 0.2163 - acc: 0.9278 - val_loss: 1.1403e-05 - val_acc: 1.0000\n",
      "Epoch 78/100\n",
      "388/388 [==============================] - 1s 2ms/sample - loss: 0.9075 - acc: 0.7758 - val_loss: 1.0495 - val_acc: 0.4948\n",
      "Epoch 79/100\n",
      "388/388 [==============================] - 1s 2ms/sample - loss: 0.4160 - acc: 0.8325 - val_loss: 0.0267 - val_acc: 1.0000\n",
      "Epoch 80/100\n",
      "388/388 [==============================] - 1s 2ms/sample - loss: 0.2156 - acc: 0.9278 - val_loss: 0.3619 - val_acc: 1.0000\n",
      "Epoch 81/100\n",
      "388/388 [==============================] - 1s 2ms/sample - loss: 0.1131 - acc: 0.9794 - val_loss: 0.0293 - val_acc: 1.0000\n",
      "Epoch 82/100\n",
      "388/388 [==============================] - 1s 2ms/sample - loss: 0.1052 - acc: 0.9665 - val_loss: 0.1746 - val_acc: 1.0000\n",
      "Epoch 83/100\n",
      "388/388 [==============================] - 1s 2ms/sample - loss: 0.0762 - acc: 0.9897 - val_loss: 0.0242 - val_acc: 1.0000\n",
      "Epoch 84/100\n",
      "388/388 [==============================] - 1s 2ms/sample - loss: 0.0704 - acc: 0.9794 - val_loss: 0.0709 - val_acc: 1.0000\n",
      "Epoch 85/100\n",
      "388/388 [==============================] - 1s 2ms/sample - loss: 0.0533 - acc: 0.9923 - val_loss: 0.0298 - val_acc: 1.0000\n",
      "Epoch 86/100\n",
      "388/388 [==============================] - 1s 2ms/sample - loss: 0.0491 - acc: 0.9923 - val_loss: 0.0788 - val_acc: 1.0000\n",
      "Epoch 87/100\n",
      "388/388 [==============================] - 1s 2ms/sample - loss: 0.0609 - acc: 0.9923 - val_loss: 0.0079 - val_acc: 1.0000\n",
      "Epoch 88/100\n",
      "388/388 [==============================] - 1s 2ms/sample - loss: 0.0766 - acc: 0.9768 - val_loss: 0.0204 - val_acc: 1.0000\n",
      "Epoch 89/100\n",
      "388/388 [==============================] - 1s 2ms/sample - loss: 0.0443 - acc: 0.9923 - val_loss: 0.0526 - val_acc: 1.0000\n",
      "Epoch 90/100\n",
      "388/388 [==============================] - 1s 2ms/sample - loss: 0.0398 - acc: 0.9923 - val_loss: 0.0133 - val_acc: 1.0000\n",
      "Epoch 91/100\n",
      "388/388 [==============================] - 1s 2ms/sample - loss: 0.0428 - acc: 0.9923 - val_loss: 0.0216 - val_acc: 1.0000\n",
      "Epoch 92/100\n",
      "388/388 [==============================] - 1s 2ms/sample - loss: 0.0451 - acc: 0.9923 - val_loss: 0.0276 - val_acc: 1.0000\n",
      "Epoch 93/100\n",
      "388/388 [==============================] - 1s 2ms/sample - loss: 0.0425 - acc: 0.9923 - val_loss: 0.0105 - val_acc: 1.0000\n",
      "Epoch 94/100\n",
      "388/388 [==============================] - 1s 2ms/sample - loss: 0.0399 - acc: 0.9923 - val_loss: 0.0358 - val_acc: 1.0000\n",
      "Epoch 95/100\n",
      "388/388 [==============================] - 1s 2ms/sample - loss: 0.0389 - acc: 0.9923 - val_loss: 0.0201 - val_acc: 1.0000\n",
      "Epoch 96/100\n",
      "388/388 [==============================] - 1s 2ms/sample - loss: 0.0397 - acc: 0.9923 - val_loss: 0.0139 - val_acc: 1.0000\n",
      "Epoch 97/100\n",
      "388/388 [==============================] - 1s 2ms/sample - loss: 0.0427 - acc: 0.9923 - val_loss: 0.0264 - val_acc: 1.0000\n",
      "Epoch 98/100\n",
      "388/388 [==============================] - 1s 2ms/sample - loss: 0.0401 - acc: 0.9923 - val_loss: 0.0147 - val_acc: 1.0000\n",
      "Epoch 99/100\n",
      "388/388 [==============================] - 1s 2ms/sample - loss: 0.0376 - acc: 0.9923 - val_loss: 0.0306 - val_acc: 1.0000\n",
      "Epoch 100/100\n",
      "388/388 [==============================] - 1s 2ms/sample - loss: 0.0375 - acc: 0.9923 - val_loss: 0.0148 - val_acc: 1.0000\n"
     ]
    },
    {
     "data": {
      "text/plain": [
       "<tensorflow.python.keras.callbacks.History at 0x22185fd5be0>"
      ]
     },
     "execution_count": 208,
     "metadata": {},
     "output_type": "execute_result"
    }
   ],
   "source": [
    "model_5g_os.fit(X_train_5g_os,y_train_5g_os,batch_size=64,epochs=100,validation_split=0.2,shuffle=True,verbose=1)"
   ]
  },
  {
   "cell_type": "code",
   "execution_count": 209,
   "metadata": {},
   "outputs": [
    {
     "name": "stdout",
     "output_type": "stream",
     "text": [
      "(108, 1840)\n",
      "(108, 2)\n"
     ]
    }
   ],
   "source": [
    "X_test_5g_os = np.concatenate((X_test_5g_os, positive_5g[4:]), axis=0)\n",
    "y_test_5g_os = np.concatenate((y_test_5g_os, positive_target[4:]), axis=0)\n",
    "print(X_test_5g_os.shape)\n",
    "print(y_test_5g_os.shape)"
   ]
  },
  {
   "cell_type": "code",
   "execution_count": 224,
   "metadata": {},
   "outputs": [
    {
     "name": "stdout",
     "output_type": "stream",
     "text": [
      "_________________________________________________________________\n",
      "Layer (type)                 Output Shape              Param #   \n",
      "=================================================================\n",
      "conv1d_16 (Conv1D)           multiple                  60        \n",
      "_________________________________________________________________\n",
      "max_pooling1d_16 (MaxPooling multiple                  0         \n",
      "_________________________________________________________________\n",
      "conv1d_17 (Conv1D)           multiple                  1020      \n",
      "_________________________________________________________________\n",
      "max_pooling1d_17 (MaxPooling multiple                  0         \n",
      "_________________________________________________________________\n",
      "flatten_9 (Flatten)          multiple                  0         \n",
      "_________________________________________________________________\n",
      "dense_27 (Dense)             multiple                  1840200   \n",
      "_________________________________________________________________\n",
      "dense_28 (Dense)             multiple                  20100     \n",
      "_________________________________________________________________\n",
      "dense_29 (Dense)             multiple                  202       \n",
      "=================================================================\n",
      "Total params: 1,861,582\n",
      "Trainable params: 1,861,582\n",
      "Non-trainable params: 0\n",
      "_________________________________________________________________\n"
     ]
    },
    {
     "data": {
      "text/plain": [
       "<matplotlib.legend.Legend at 0x2218b729748>"
      ]
     },
     "execution_count": 224,
     "metadata": {},
     "output_type": "execute_result"
    },
    {
     "data": {
      "image/png": "[encoded data removed]",
      "text/plain": [
       "<Figure size 432x288 with 1 Axes>"
      ]
     },
     "metadata": {
      "needs_background": "light"
     },
     "output_type": "display_data"
    }
   ],
   "source": [
    "model_5g_os.summary()\n",
    "history = model_5g_os.history\n",
    "plt.plot(history.history['acc'],label='acc')\n",
    "plt.plot(history.history['val_acc'],label='val_acc')\n",
    "plt.plot(history.history['loss'],label='loss')\n",
    "plt.legend()"
   ]
  },
  {
   "cell_type": "markdown",
   "metadata": {},
   "source": [
    "### The model still does not work on the test set (the predicted results are all negative):"
   ]
  },
  {
   "cell_type": "code",
   "execution_count": 215,
   "metadata": {},
   "outputs": [
    {
     "data": {
      "text/plain": [
       "array([[9.97204065e-01, 2.79593165e-03],\n",
       "       [9.99670625e-01, 3.29385948e-04],\n",
       "       [9.99999881e-01, 1.00083966e-07],\n",
       "       [9.98590052e-01, 1.40997244e-03],\n",
       "       [9.99975920e-01, 2.41200632e-05],\n",
       "       [9.99022603e-01, 9.77343298e-04],\n",
       "       [9.99999285e-01, 7.71064663e-07],\n",
       "       [1.00000000e+00, 1.42752947e-08],\n",
       "       [9.99997139e-01, 2.91852689e-06],\n",
       "       [2.29212618e-03, 9.97707844e-01],\n",
       "       [9.99999762e-01, 1.97657215e-07],\n",
       "       [9.99867678e-01, 1.32333662e-04],\n",
       "       [9.98416305e-01, 1.58363068e-03],\n",
       "       [7.94552863e-01, 2.05447122e-01],\n",
       "       [9.99799311e-01, 2.00656606e-04],\n",
       "       [1.00000000e+00, 3.07927621e-08],\n",
       "       [9.99940515e-01, 5.94995290e-05],\n",
       "       [9.99999762e-01, 2.43219233e-07],\n",
       "       [1.00000000e+00, 5.93877525e-09],\n",
       "       [9.99863744e-01, 1.36291870e-04],\n",
       "       [9.98446882e-01, 1.55317993e-03],\n",
       "       [9.99990940e-01, 9.09938990e-06],\n",
       "       [9.99995470e-01, 4.55341660e-06],\n",
       "       [9.99986410e-01, 1.36242234e-05],\n",
       "       [9.96013641e-01, 3.98643734e-03],\n",
       "       [9.98513520e-01, 1.48642692e-03],\n",
       "       [9.99989033e-01, 1.09076427e-05],\n",
       "       [9.99720395e-01, 2.79563857e-04],\n",
       "       [9.99988198e-01, 1.17600002e-05],\n",
       "       [9.99995112e-01, 4.89277045e-06],\n",
       "       [9.99996662e-01, 3.37294159e-06],\n",
       "       [9.98420954e-01, 1.57909852e-03],\n",
       "       [9.98865247e-01, 1.13479048e-03],\n",
       "       [9.98553455e-01, 1.44656200e-03],\n",
       "       [9.99999762e-01, 2.30708366e-07],\n",
       "       [1.00000000e+00, 4.76823949e-08],\n",
       "       [9.99999404e-01, 5.75114427e-07],\n",
       "       [9.99897242e-01, 1.02756436e-04],\n",
       "       [9.99796927e-01, 2.03144009e-04],\n",
       "       [9.99944687e-01, 5.53269783e-05],\n",
       "       [9.99981284e-01, 1.87047226e-05],\n",
       "       [9.99948859e-01, 5.11961480e-05],\n",
       "       [9.99914408e-01, 8.55821927e-05],\n",
       "       [9.99989152e-01, 1.08811601e-05],\n",
       "       [9.99999762e-01, 2.72128545e-07],\n",
       "       [1.00000000e+00, 4.76760285e-08],\n",
       "       [9.99932885e-01, 6.71191228e-05],\n",
       "       [9.99993443e-01, 6.57921737e-06],\n",
       "       [1.00000000e+00, 1.20676154e-08],\n",
       "       [9.99999881e-01, 1.06140078e-07],\n",
       "       [9.99917269e-01, 8.27126714e-05],\n",
       "       [9.99990463e-01, 9.53823019e-06],\n",
       "       [9.99987006e-01, 1.29616465e-05],\n",
       "       [9.99247670e-01, 7.52326567e-04],\n",
       "       [9.99949694e-01, 5.03515912e-05],\n",
       "       [9.99650717e-01, 3.49338865e-04],\n",
       "       [9.99919057e-01, 8.09318226e-05],\n",
       "       [9.99998331e-01, 1.65758797e-06],\n",
       "       [1.00000000e+00, 2.49541525e-08],\n",
       "       [9.99994993e-01, 5.06329479e-06],\n",
       "       [1.00000000e+00, 1.59265792e-08],\n",
       "       [1.00000000e+00, 1.63343348e-08],\n",
       "       [9.99998450e-01, 1.60012610e-06],\n",
       "       [9.99925375e-01, 7.46477890e-05],\n",
       "       [5.11784196e-01, 4.88215774e-01],\n",
       "       [9.99999762e-01, 2.83522127e-07],\n",
       "       [9.99995351e-01, 4.65457788e-06],\n",
       "       [9.99878407e-01, 1.21537829e-04],\n",
       "       [9.99999762e-01, 2.72112459e-07],\n",
       "       [9.99999881e-01, 1.44921685e-07],\n",
       "       [9.99999523e-01, 4.40568868e-07],\n",
       "       [1.00000000e+00, 3.54079930e-08],\n",
       "       [9.99835730e-01, 1.64235564e-04],\n",
       "       [9.99959588e-01, 4.04630955e-05],\n",
       "       [9.95538414e-01, 4.46158461e-03],\n",
       "       [9.96483207e-01, 3.51675460e-03],\n",
       "       [9.99691129e-01, 3.08846444e-04],\n",
       "       [1.00000000e+00, 3.30390897e-08],\n",
       "       [9.98410344e-01, 1.58966018e-03],\n",
       "       [9.99595702e-01, 4.04259830e-04],\n",
       "       [9.99994278e-01, 5.68980977e-06],\n",
       "       [9.99817312e-01, 1.82751479e-04],\n",
       "       [9.99994636e-01, 5.36191646e-06],\n",
       "       [9.86940086e-01, 1.30598890e-02],\n",
       "       [9.99825060e-01, 1.74963730e-04],\n",
       "       [9.99968529e-01, 3.14826939e-05],\n",
       "       [9.99989748e-01, 1.02676640e-05],\n",
       "       [9.99969840e-01, 3.01096989e-05],\n",
       "       [9.99998212e-01, 1.80711902e-06],\n",
       "       [9.99931693e-01, 6.82983591e-05],\n",
       "       [9.98730361e-01, 1.26965460e-03],\n",
       "       [9.99997377e-01, 2.68171607e-06],\n",
       "       [9.99999523e-01, 4.75871786e-07],\n",
       "       [9.99990702e-01, 9.28170721e-06],\n",
       "       [9.99997854e-01, 2.19461253e-06],\n",
       "       [9.99978900e-01, 2.11385541e-05],\n",
       "       [9.81457531e-01, 1.85423885e-02],\n",
       "       [9.99200642e-01, 7.99317728e-04],\n",
       "       [9.99998927e-01, 1.08658935e-06],\n",
       "       [9.99999881e-01, 6.56116370e-08],\n",
       "       [9.99914646e-01, 8.53360034e-05],\n",
       "       [9.66647744e-01, 3.33522558e-02],\n",
       "       [9.99976039e-01, 2.39017991e-05],\n",
       "       [8.88914526e-01, 1.11085549e-01],\n",
       "       [9.99997020e-01, 2.96834833e-06],\n",
       "       [9.07271624e-01, 9.27283689e-02],\n",
       "       [9.99863029e-01, 1.36920746e-04],\n",
       "       [9.97994423e-01, 2.00564577e-03]], dtype=float32)"
      ]
     },
     "execution_count": 215,
     "metadata": {},
     "output_type": "execute_result"
    }
   ],
   "source": [
    "model_5g_os.predict(X_test_5g_os[:, :, np.newaxis])"
   ]
  },
  {
   "cell_type": "markdown",
   "metadata": {},
   "source": [
    "### However, it works for the training set (overfitting due to naive oversampling):"
   ]
  },
  {
   "cell_type": "code",
   "execution_count": 218,
   "metadata": {},
   "outputs": [
    {
     "data": {
      "text/plain": [
       "array([[0.0124291 , 0.9875709 ],\n",
       "       [0.02145603, 0.97854394],\n",
       "       [0.00229213, 0.99770784],\n",
       "       [0.02217059, 0.97782946],\n",
       "       [0.0124291 , 0.9875709 ],\n",
       "       [0.02145603, 0.97854394],\n",
       "       [0.00229213, 0.99770784],\n",
       "       [0.02217059, 0.97782946],\n",
       "       [0.0124291 , 0.9875709 ],\n",
       "       [0.02145603, 0.97854394]], dtype=float32)"
      ]
     },
     "execution_count": 218,
     "metadata": {},
     "output_type": "execute_result"
    }
   ],
   "source": [
    "model_5g_os.predict(X_train_5g_os[-10:])"
   ]
  },
  {
   "cell_type": "code",
   "execution_count": 227,
   "metadata": {},
   "outputs": [
    {
     "data": {
      "text/plain": [
       "array([[0., 1.],\n",
       "       [0., 1.],\n",
       "       [0., 1.],\n",
       "       [0., 1.],\n",
       "       [0., 1.],\n",
       "       [0., 1.],\n",
       "       [0., 1.],\n",
       "       [0., 1.],\n",
       "       [0., 1.],\n",
       "       [0., 1.]])"
      ]
     },
     "execution_count": 227,
     "metadata": {},
     "output_type": "execute_result"
    }
   ],
   "source": [
    "y_train_5g_os[-10:]"
   ]
  },
  {
   "cell_type": "code",
   "execution_count": null,
   "metadata": {},
   "outputs": [],
   "source": []
  },
  {
   "cell_type": "code",
   "execution_count": null,
   "metadata": {},
   "outputs": [],
   "source": []
  },
  {
   "cell_type": "code",
   "execution_count": null,
   "metadata": {},
   "outputs": [],
   "source": []
  }
 ],
 "metadata": {
  "kernelspec": {
   "display_name": "Python 3",
   "language": "python",
   "name": "python3"
  },
  "language_info": {
   "codemirror_mode": {
    "name": "ipython",
    "version": 3
   },
   "file_extension": ".py",
   "mimetype": "text/x-python",
   "name": "python",
   "nbconvert_exporter": "python",
   "pygments_lexer": "ipython3",
   "version": "3.7.3"
  }
 },
 "nbformat": 4,
 "nbformat_minor": 2
}
