{
 "cells": [
  {
   "cell_type": "code",
   "execution_count": 1,
   "metadata": {},
   "outputs": [],
   "source": [
    "import numpy as np\n",
    "import pandas as pd\n",
    "from matplotlib import pyplot as plt\n",
    "\n",
    "def parse_fasta(file):\n",
    "    genomes = {}\n",
    "    with open(file, \"r\") as f:\n",
    "        for line in f:\n",
    "            line = line.replace('\\n', '')\n",
    "            if line.startswith(\">\"):\n",
    "                curr = line\n",
    "                genomes[curr] = ''\n",
    "                continue\n",
    "            genomes[curr] = genomes[curr] + line\n",
    "    return genomes\n",
    "\n",
    "type_1_fa = 'dengue_1.fa'\n",
    "type_2_fa = 'dengue_2.fa'\n",
    "type_1 = parse_fasta(type_1_fa)\n",
    "type_2 = parse_fasta(type_2_fa)\n",
    "\n",
    "all_sequences = [type_1[a] for a in type_1] + [type_2[a] for a in type_2]"
   ]
  },
  {
   "cell_type": "code",
   "execution_count": 6,
   "metadata": {},
   "outputs": [
    {
     "data": {
      "text/plain": [
       "3905"
      ]
     },
     "execution_count": 6,
     "metadata": {},
     "output_type": "execute_result"
    }
   ],
   "source": [
    "labels = np.array([0 for i in type_1] + [1 for i in type_2])\n",
    "len(labels)"
   ]
  },
  {
   "cell_type": "code",
   "execution_count": 2,
   "metadata": {},
   "outputs": [
    {
     "name": "stdout",
     "output_type": "stream",
     "text": [
      "2203\n",
      "1702\n",
      "3905\n"
     ]
    }
   ],
   "source": [
    "print(len(type_1))\n",
    "print(len(type_2))\n",
    "print(len(all_sequences))"
   ]
  },
  {
   "cell_type": "code",
   "execution_count": null,
   "metadata": {},
   "outputs": [],
   "source": []
  },
  {
   "cell_type": "code",
   "execution_count": 9,
   "metadata": {},
   "outputs": [],
   "source": [
    "from sklearn.feature_extraction.text import CountVectorizer\n",
    "count_vect = CountVectorizer(analyzer='char')\n",
    "X = count_vect.fit_transform(all_sequences)\n",
    "chars = count_vect.get_feature_names()"
   ]
  },
  {
   "cell_type": "code",
   "execution_count": 10,
   "metadata": {},
   "outputs": [
    {
     "data": {
      "text/plain": [
       "['a', 'b', 'c', 'd', 'g', 'h', 'k', 'm', 'n', 'r', 's', 't', 'v', 'w', 'y']"
      ]
     },
     "execution_count": 10,
     "metadata": {},
     "output_type": "execute_result"
    }
   ],
   "source": [
    "chars"
   ]
  },
  {
   "cell_type": "code",
   "execution_count": 115,
   "metadata": {},
   "outputs": [],
   "source": [
    "# 5-gram features generation\n",
    "from sklearn.feature_extraction.text import TfidfTransformer\n",
    "count_vect = CountVectorizer(analyzer='char',ngram_range=(4,6))\n",
    "X = count_vect.fit_transform(all_sequences)\n",
    "chars = count_vect.get_feature_names()\n",
    "five_gram = X.toarray()\n",
    "tf_transformer = TfidfTransformer(use_idf=True).fit(five_gram) #Enable inverse-document-frequency reweighting\n",
    "five_gram_tf = tf_transformer.transform(five_gram)\n",
    "five_gram_tf = five_gram_tf.toarray()"
   ]
  },
  {
   "cell_type": "code",
   "execution_count": 12,
   "metadata": {},
   "outputs": [],
   "source": [
    "#np.set_printoptions(threshold=10)"
   ]
  },
  {
   "cell_type": "code",
   "execution_count": 21,
   "metadata": {},
   "outputs": [],
   "source": [
    "np.set_printoptions(threshold=None)"
   ]
  },
  {
   "cell_type": "code",
   "execution_count": 116,
   "metadata": {},
   "outputs": [
    {
     "name": "stdout",
     "output_type": "stream",
     "text": [
      "(3905, 16621)\n"
     ]
    }
   ],
   "source": [
    "print(five_gram_tf.shape)"
   ]
  },
  {
   "cell_type": "code",
   "execution_count": 114,
   "metadata": {},
   "outputs": [],
   "source": [
    "#all_sequences[2201]"
   ]
  },
  {
   "cell_type": "code",
   "execution_count": 49,
   "metadata": {},
   "outputs": [
    {
     "data": {
      "text/plain": [
       "8"
      ]
     },
     "execution_count": 49,
     "metadata": {},
     "output_type": "execute_result"
    }
   ],
   "source": [
    "five_gram[2200][105]"
   ]
  },
  {
   "cell_type": "code",
   "execution_count": 15,
   "metadata": {},
   "outputs": [
    {
     "data": {
      "text/plain": [
       "array([0.22607261, 0.07762393, 0.02606351, ..., 0.        , 0.        ,\n",
       "       0.        ])"
      ]
     },
     "execution_count": 15,
     "metadata": {},
     "output_type": "execute_result"
    }
   ],
   "source": [
    "five_gram_tf[2203]"
   ]
  },
  {
   "cell_type": "code",
   "execution_count": 33,
   "metadata": {},
   "outputs": [
    {
     "data": {
      "text/plain": [
       "'aacgc'"
      ]
     },
     "execution_count": 33,
     "metadata": {},
     "output_type": "execute_result"
    }
   ],
   "source": [
    "chars[105]"
   ]
  },
  {
   "cell_type": "code",
   "execution_count": 11,
   "metadata": {},
   "outputs": [
    {
     "name": "stdout",
     "output_type": "stream",
     "text": [
      "2203\n",
      "1702\n"
     ]
    }
   ],
   "source": [
    "print(len(type_1))\n",
    "print(len(type_2))"
   ]
  },
  {
   "cell_type": "code",
   "execution_count": 23,
   "metadata": {},
   "outputs": [
    {
     "data": {
      "text/plain": [
       "5408"
      ]
     },
     "execution_count": 23,
     "metadata": {},
     "output_type": "execute_result"
    }
   ],
   "source": [
    "sum(five_gram[0] == 0)"
   ]
  },
  {
   "cell_type": "code",
   "execution_count": 24,
   "metadata": {},
   "outputs": [
    {
     "data": {
      "text/plain": [
       "5408"
      ]
     },
     "execution_count": 24,
     "metadata": {},
     "output_type": "execute_result"
    }
   ],
   "source": [
    "sum(five_gram_tf[0] == 0)"
   ]
  },
  {
   "cell_type": "code",
   "execution_count": 21,
   "metadata": {},
   "outputs": [
    {
     "data": {
      "text/plain": [
       "0.21198649481042328"
      ]
     },
     "execution_count": 21,
     "metadata": {},
     "output_type": "execute_result"
    }
   ],
   "source": [
    "max(five_gram_tf[8])"
   ]
  },
  {
   "cell_type": "code",
   "execution_count": 38,
   "metadata": {},
   "outputs": [],
   "source": []
  },
  {
   "cell_type": "code",
   "execution_count": null,
   "metadata": {},
   "outputs": [],
   "source": []
  },
  {
   "cell_type": "code",
   "execution_count": 93,
   "metadata": {},
   "outputs": [],
   "source": [
    "from sklearn.model_selection import train_test_split"
   ]
  },
  {
   "cell_type": "code",
   "execution_count": 118,
   "metadata": {},
   "outputs": [
    {
     "name": "stdout",
     "output_type": "stream",
     "text": [
      "(2733, 16621)\n",
      "(2733,)\n",
      "(1172, 16621)\n",
      "(1172,)\n"
     ]
    }
   ],
   "source": [
    "X_train, X_test, y_train, y_test = train_test_split(five_gram_tf, labels, shuffle=True, test_size=0.3, random_state=46)\n",
    "#X_train = X_train[:,:,np.newaxis]\n",
    "#X_test = X_test[:,:,np.newaxis]\n",
    "print(X_train.shape)\n",
    "print(y_train.shape)\n",
    "print(X_test.shape)\n",
    "print(y_test.shape)"
   ]
  },
  {
   "cell_type": "code",
   "execution_count": 41,
   "metadata": {},
   "outputs": [
    {
     "data": {
      "text/plain": [
       "array([0, 1, 1, ..., 0, 1, 1])"
      ]
     },
     "execution_count": 41,
     "metadata": {},
     "output_type": "execute_result"
    }
   ],
   "source": [
    "y_train"
   ]
  },
  {
   "cell_type": "code",
   "execution_count": 97,
   "metadata": {},
   "outputs": [],
   "source": [
    "import tensorflow as tf\n",
    "from tensorflow.keras.models import Sequential\n",
    "from tensorflow.keras.layers import Dense, Dropout, Activation, Flatten, BatchNormalization\n",
    "from tensorflow.keras.layers import Conv1D, Conv2D, MaxPooling2D,MaxPooling1D"
   ]
  },
  {
   "cell_type": "markdown",
   "metadata": {},
   "source": [
    "# K-MER (3-5) WITH CNN"
   ]
  },
  {
   "cell_type": "code",
   "execution_count": 95,
   "metadata": {},
   "outputs": [],
   "source": [
    "def deep_cnn():\n",
    "    model = Sequential()\n",
    "    model.add(Conv1D(filters=8,kernel_size=5,padding='same',activation=None))\n",
    "    model.add(BatchNormalization())\n",
    "    model.add(Activation('relu'))\n",
    "    model.add(MaxPooling1D(pool_size=2))\n",
    "    model.add(Conv1D(filters=16,kernel_size=5,padding='same',activation=None))\n",
    "    model.add(BatchNormalization())\n",
    "    model.add(Activation('relu'))\n",
    "    model.add(MaxPooling1D(pool_size=2))\n",
    "    model.add(Conv1D(filters=32,kernel_size=5,padding='same',activation=None))\n",
    "    model.add(BatchNormalization())\n",
    "    model.add(Activation('relu'))\n",
    "    model.add(MaxPooling1D(pool_size=2))\n",
    "    model.add(Conv1D(filters=64,kernel_size=5,padding='same',activation=None))\n",
    "    model.add(BatchNormalization())\n",
    "    model.add(Activation('relu'))\n",
    "    model.add(MaxPooling1D(pool_size=2))\n",
    "    model.add(Conv1D(filters=128,kernel_size=5,padding='same',activation=None))\n",
    "    model.add(BatchNormalization())\n",
    "    model.add(Activation('relu'))\n",
    "    model.add(MaxPooling1D(pool_size=2))\n",
    "    model.add(Flatten())\n",
    "    model.add(Dense(256,activation='relu'))\n",
    "    model.add(Dropout(0.4))\n",
    "    model.add(BatchNormalization())\n",
    "    model.add(Dense(128,activation='relu'))\n",
    "    model.add(Dropout(0.4))\n",
    "    model.add(BatchNormalization())\n",
    "    model.add(Dense(64,activation='relu'))\n",
    "    model.add(Dropout(0.4))\n",
    "    model.add(BatchNormalization())\n",
    "    model.add(Dense(1,activation=None))\n",
    "    model.add(Activation('sigmoid'))\n",
    "    return model"
   ]
  },
  {
   "cell_type": "code",
   "execution_count": 50,
   "metadata": {},
   "outputs": [],
   "source": [
    "model = deep_cnn()\n",
    "metrics = ['acc']\n",
    "model.compile(optimizer='adam',loss='binary_crossentropy',metrics=metrics)"
   ]
  },
  {
   "cell_type": "code",
   "execution_count": null,
   "metadata": {},
   "outputs": [],
   "source": []
  },
  {
   "cell_type": "code",
   "execution_count": 51,
   "metadata": {
    "scrolled": true
   },
   "outputs": [
    {
     "name": "stdout",
     "output_type": "stream",
     "text": [
      "Train on 2186 samples, validate on 547 samples\n",
      "Epoch 1/20\n",
      "2186/2186 [==============================] - 38s 18ms/sample - loss: 0.6923 - acc: 0.6299 - val_loss: 0.7135 - val_acc: 0.4351\n",
      "Epoch 2/20\n",
      "2186/2186 [==============================] - 33s 15ms/sample - loss: 0.3838 - acc: 0.8207 - val_loss: 0.7762 - val_acc: 0.4351\n",
      "Epoch 3/20\n",
      "2186/2186 [==============================] - 33s 15ms/sample - loss: 0.1168 - acc: 0.9657 - val_loss: 0.7745 - val_acc: 0.4351\n",
      "Epoch 4/20\n",
      "2186/2186 [==============================] - 33s 15ms/sample - loss: 0.0410 - acc: 0.9945 - val_loss: 0.7155 - val_acc: 0.4351\n",
      "Epoch 5/20\n",
      "2186/2186 [==============================] - 33s 15ms/sample - loss: 0.0314 - acc: 0.9959 - val_loss: 0.7273 - val_acc: 0.4351\n",
      "Epoch 6/20\n",
      "2186/2186 [==============================] - 33s 15ms/sample - loss: 0.0203 - acc: 0.9986 - val_loss: 0.6945 - val_acc: 0.4351\n",
      "Epoch 7/20\n",
      "2186/2186 [==============================] - 34s 15ms/sample - loss: 0.0173 - acc: 0.9986 - val_loss: 0.7298 - val_acc: 0.4351\n",
      "Epoch 8/20\n",
      "2186/2186 [==============================] - 34s 15ms/sample - loss: 0.0196 - acc: 0.9977 - val_loss: 0.7021 - val_acc: 0.4351\n",
      "Epoch 9/20\n",
      "2186/2186 [==============================] - 34s 15ms/sample - loss: 0.0150 - acc: 0.9977 - val_loss: 0.7306 - val_acc: 0.4351\n",
      "Epoch 10/20\n",
      "2186/2186 [==============================] - 34s 16ms/sample - loss: 0.0159 - acc: 0.9991 - val_loss: 0.7656 - val_acc: 0.4351\n",
      "Epoch 11/20\n",
      "2186/2186 [==============================] - 34s 15ms/sample - loss: 0.0125 - acc: 0.9986 - val_loss: 0.8002 - val_acc: 0.4351\n",
      "Epoch 12/20\n",
      "2186/2186 [==============================] - 32s 15ms/sample - loss: 0.0199 - acc: 0.9954 - val_loss: 0.7515 - val_acc: 0.4351\n",
      "Epoch 13/20\n",
      "2186/2186 [==============================] - 31s 14ms/sample - loss: 0.0164 - acc: 0.9968 - val_loss: 0.6877 - val_acc: 0.4461\n",
      "Epoch 14/20\n",
      "2186/2186 [==============================] - 31s 14ms/sample - loss: 0.0154 - acc: 0.9973 - val_loss: 0.7323 - val_acc: 0.4351\n",
      "Epoch 15/20\n",
      "2186/2186 [==============================] - 31s 14ms/sample - loss: 0.0122 - acc: 0.9982 - val_loss: 0.6146 - val_acc: 0.6216\n",
      "Epoch 16/20\n",
      "2186/2186 [==============================] - 31s 14ms/sample - loss: 0.0125 - acc: 0.9982 - val_loss: 0.7853 - val_acc: 0.4479\n",
      "Epoch 17/20\n",
      "2186/2186 [==============================] - 31s 14ms/sample - loss: 0.0100 - acc: 0.9977 - val_loss: 0.8148 - val_acc: 0.4369\n",
      "Epoch 18/20\n",
      "2186/2186 [==============================] - 31s 14ms/sample - loss: 0.0098 - acc: 0.9982 - val_loss: 1.1753 - val_acc: 0.4369\n",
      "Epoch 19/20\n",
      "2186/2186 [==============================] - 31s 14ms/sample - loss: 0.0268 - acc: 0.9918 - val_loss: 1.6302 - val_acc: 0.4369\n",
      "Epoch 20/20\n",
      "2186/2186 [==============================] - 31s 14ms/sample - loss: 0.0302 - acc: 0.9904 - val_loss: 1.9823 - val_acc: 0.4369\n"
     ]
    },
    {
     "data": {
      "text/plain": [
       "<tensorflow.python.keras.callbacks.History at 0x1ab03409a48>"
      ]
     },
     "execution_count": 51,
     "metadata": {},
     "output_type": "execute_result"
    }
   ],
   "source": [
    "model.fit(X_train,y_train,batch_size=64,epochs=20,validation_split=0.2,shuffle=True)"
   ]
  },
  {
   "cell_type": "code",
   "execution_count": 48,
   "metadata": {
    "scrolled": true
   },
   "outputs": [
    {
     "name": "stdout",
     "output_type": "stream",
     "text": [
      "Model: \"sequential\"\n",
      "_________________________________________________________________\n",
      "Layer (type)                 Output Shape              Param #   \n",
      "=================================================================\n",
      "conv1d (Conv1D)              multiple                  48        \n",
      "_________________________________________________________________\n",
      "batch_normalization (BatchNo multiple                  32        \n",
      "_________________________________________________________________\n",
      "activation (Activation)      multiple                  0         \n",
      "_________________________________________________________________\n",
      "max_pooling1d (MaxPooling1D) multiple                  0         \n",
      "_________________________________________________________________\n",
      "conv1d_1 (Conv1D)            multiple                  656       \n",
      "_________________________________________________________________\n",
      "batch_normalization_1 (Batch multiple                  64        \n",
      "_________________________________________________________________\n",
      "activation_1 (Activation)    multiple                  0         \n",
      "_________________________________________________________________\n",
      "max_pooling1d_1 (MaxPooling1 multiple                  0         \n",
      "_________________________________________________________________\n",
      "conv1d_2 (Conv1D)            multiple                  2592      \n",
      "_________________________________________________________________\n",
      "batch_normalization_2 (Batch multiple                  128       \n",
      "_________________________________________________________________\n",
      "activation_2 (Activation)    multiple                  0         \n",
      "_________________________________________________________________\n",
      "max_pooling1d_2 (MaxPooling1 multiple                  0         \n",
      "_________________________________________________________________\n",
      "conv1d_3 (Conv1D)            multiple                  10304     \n",
      "_________________________________________________________________\n",
      "batch_normalization_3 (Batch multiple                  256       \n",
      "_________________________________________________________________\n",
      "activation_3 (Activation)    multiple                  0         \n",
      "_________________________________________________________________\n",
      "max_pooling1d_3 (MaxPooling1 multiple                  0         \n",
      "_________________________________________________________________\n",
      "conv1d_4 (Conv1D)            multiple                  41088     \n",
      "_________________________________________________________________\n",
      "batch_normalization_4 (Batch multiple                  512       \n",
      "_________________________________________________________________\n",
      "activation_4 (Activation)    multiple                  0         \n",
      "_________________________________________________________________\n",
      "max_pooling1d_4 (MaxPooling1 multiple                  0         \n",
      "_________________________________________________________________\n",
      "flatten (Flatten)            multiple                  0         \n",
      "_________________________________________________________________\n",
      "dense (Dense)                multiple                  6881536   \n",
      "_________________________________________________________________\n",
      "dropout (Dropout)            multiple                  0         \n",
      "_________________________________________________________________\n",
      "batch_normalization_5 (Batch multiple                  1024      \n",
      "_________________________________________________________________\n",
      "dense_1 (Dense)              multiple                  32896     \n",
      "_________________________________________________________________\n",
      "dropout_1 (Dropout)          multiple                  0         \n",
      "_________________________________________________________________\n",
      "batch_normalization_6 (Batch multiple                  512       \n",
      "_________________________________________________________________\n",
      "dense_2 (Dense)              multiple                  8256      \n",
      "_________________________________________________________________\n",
      "dropout_2 (Dropout)          multiple                  0         \n",
      "_________________________________________________________________\n",
      "batch_normalization_7 (Batch multiple                  256       \n",
      "_________________________________________________________________\n",
      "dense_3 (Dense)              multiple                  130       \n",
      "=================================================================\n",
      "Total params: 6,980,290\n",
      "Trainable params: 6,978,898\n",
      "Non-trainable params: 1,392\n",
      "_________________________________________________________________\n"
     ]
    }
   ],
   "source": [
    "model.summary()"
   ]
  },
  {
   "cell_type": "code",
   "execution_count": 53,
   "metadata": {
    "scrolled": true
   },
   "outputs": [
    {
     "data": {
      "text/plain": [
       "array([[0.9764712 ],\n",
       "       [0.9586891 ],\n",
       "       [0.95392287],\n",
       "       [0.9753574 ],\n",
       "       [0.95199347],\n",
       "       [0.99687874],\n",
       "       [0.9371993 ],\n",
       "       [0.99867547],\n",
       "       [0.9961858 ],\n",
       "       [0.934059  ],\n",
       "       [0.98495626],\n",
       "       [0.9972213 ],\n",
       "       [0.9961424 ],\n",
       "       [0.99667025],\n",
       "       [0.9776434 ],\n",
       "       [0.9855871 ],\n",
       "       [0.9958124 ],\n",
       "       [0.9611974 ],\n",
       "       [0.96472   ],\n",
       "       [0.9960613 ],\n",
       "       [0.9985901 ],\n",
       "       [0.9983041 ],\n",
       "       [0.9650824 ],\n",
       "       [0.9964684 ],\n",
       "       [0.9977435 ],\n",
       "       [0.9794482 ],\n",
       "       [0.99688303],\n",
       "       [0.9963449 ],\n",
       "       [0.9740546 ],\n",
       "       [0.96482474],\n",
       "       [0.9498757 ],\n",
       "       [0.9386309 ],\n",
       "       [0.99623656],\n",
       "       [0.96985173],\n",
       "       [0.95050514],\n",
       "       [0.97305757],\n",
       "       [0.9985273 ],\n",
       "       [0.9964488 ],\n",
       "       [0.9780093 ],\n",
       "       [0.98245966],\n",
       "       [0.9588425 ],\n",
       "       [0.995592  ],\n",
       "       [0.9797398 ],\n",
       "       [0.96747226],\n",
       "       [0.99638   ],\n",
       "       [0.95584303],\n",
       "       [0.9379532 ],\n",
       "       [0.9392514 ],\n",
       "       [0.96559536],\n",
       "       [0.9650146 ],\n",
       "       [0.96611977],\n",
       "       [0.9964633 ],\n",
       "       [0.9720403 ],\n",
       "       [0.99564296],\n",
       "       [0.99691284],\n",
       "       [0.9962502 ],\n",
       "       [0.9892076 ],\n",
       "       [0.9968841 ],\n",
       "       [0.97813725],\n",
       "       [0.9983673 ],\n",
       "       [0.99658227],\n",
       "       [0.96540976],\n",
       "       [0.9663991 ],\n",
       "       [0.93341756],\n",
       "       [0.9968287 ],\n",
       "       [0.9301218 ],\n",
       "       [0.9719882 ],\n",
       "       [0.99585116],\n",
       "       [0.9961662 ],\n",
       "       [0.9719171 ],\n",
       "       [0.9976319 ],\n",
       "       [0.9821065 ],\n",
       "       [0.9550613 ],\n",
       "       [0.99680704],\n",
       "       [0.99885833],\n",
       "       [0.9476615 ],\n",
       "       [0.9957764 ],\n",
       "       [0.99661994],\n",
       "       [0.9551741 ],\n",
       "       [0.9737036 ],\n",
       "       [0.98459864],\n",
       "       [0.99899274],\n",
       "       [0.97700846],\n",
       "       [0.99663365],\n",
       "       [0.9766413 ],\n",
       "       [0.9955628 ],\n",
       "       [0.99776226],\n",
       "       [0.9959269 ],\n",
       "       [0.9775305 ],\n",
       "       [0.94376135],\n",
       "       [0.99675417],\n",
       "       [0.97748256],\n",
       "       [0.99859416],\n",
       "       [0.97445774],\n",
       "       [0.9967351 ],\n",
       "       [0.9409777 ],\n",
       "       [0.99566066],\n",
       "       [0.9960103 ],\n",
       "       [0.9957335 ],\n",
       "       [0.95494986]], dtype=float32)"
      ]
     },
     "execution_count": 53,
     "metadata": {},
     "output_type": "execute_result"
    }
   ],
   "source": [
    "model.predict(X_test[:100])"
   ]
  },
  {
   "cell_type": "markdown",
   "metadata": {},
   "source": [
    "# K-MER (4-6) WITH SIMPLE DENSE LAYERS"
   ]
  },
  {
   "cell_type": "code",
   "execution_count": 119,
   "metadata": {},
   "outputs": [],
   "source": [
    "def simple_MLP():\n",
    "    model = Sequential()\n",
    "    model.add(Dense(2048,activation='relu'))\n",
    "    model.add(Dropout(0.4))\n",
    "    model.add(BatchNormalization())\n",
    "    model.add(Dense(1024,activation='relu'))\n",
    "    model.add(Dropout(0.4))\n",
    "    model.add(BatchNormalization())\n",
    "    model.add(Dense(512,activation='relu'))\n",
    "    model.add(Dropout(0.4))\n",
    "    model.add(BatchNormalization())\n",
    "    model.add(Dense(256,activation='relu'))\n",
    "    model.add(Dropout(0.4))\n",
    "    model.add(BatchNormalization())\n",
    "    model.add(Dense(128,activation='relu'))\n",
    "    model.add(Dropout(0.4))\n",
    "    model.add(BatchNormalization())\n",
    "    model.add(Dense(64,activation='relu'))\n",
    "    model.add(Dropout(0.4))\n",
    "    model.add(BatchNormalization())\n",
    "    model.add(Dense(1,activation=None))\n",
    "    model.add(Activation('sigmoid'))\n",
    "    return model"
   ]
  },
  {
   "cell_type": "code",
   "execution_count": 120,
   "metadata": {},
   "outputs": [],
   "source": [
    "model = simple_MLP()\n",
    "metrics = ['acc']\n",
    "model.compile(optimizer='adam',loss='binary_crossentropy',metrics=metrics)\n"
   ]
  },
  {
   "cell_type": "code",
   "execution_count": 121,
   "metadata": {},
   "outputs": [
    {
     "name": "stdout",
     "output_type": "stream",
     "text": [
      "Train on 2186 samples, validate on 547 samples\n",
      "Epoch 1/20\n",
      "2186/2186 [==============================] - 13s 6ms/sample - loss: 0.5582 - acc: 0.7113 - val_loss: 0.5005 - val_acc: 0.9506\n",
      "Epoch 2/20\n",
      "2186/2186 [==============================] - 8s 4ms/sample - loss: 0.0827 - acc: 0.9876 - val_loss: 0.2025 - val_acc: 0.9963\n",
      "Epoch 3/20\n",
      "2186/2186 [==============================] - 8s 4ms/sample - loss: 0.0394 - acc: 0.9954 - val_loss: 0.1325 - val_acc: 1.0000\n",
      "Epoch 4/20\n",
      "2186/2186 [==============================] - 8s 4ms/sample - loss: 0.0240 - acc: 0.9968 - val_loss: 0.0819 - val_acc: 1.0000\n",
      "Epoch 5/20\n",
      "2186/2186 [==============================] - 9s 4ms/sample - loss: 0.0208 - acc: 0.9982 - val_loss: 0.0560 - val_acc: 0.9982\n",
      "Epoch 6/20\n",
      "2186/2186 [==============================] - 8s 4ms/sample - loss: 0.0135 - acc: 0.9986 - val_loss: 0.0364 - val_acc: 1.0000\n",
      "Epoch 7/20\n",
      "2186/2186 [==============================] - 8s 4ms/sample - loss: 0.0105 - acc: 1.0000 - val_loss: 0.0319 - val_acc: 1.0000\n",
      "Epoch 8/20\n",
      "2186/2186 [==============================] - 9s 4ms/sample - loss: 0.0083 - acc: 0.9995 - val_loss: 0.0123 - val_acc: 1.0000\n",
      "Epoch 9/20\n",
      "2186/2186 [==============================] - 9s 4ms/sample - loss: 0.0081 - acc: 0.9991 - val_loss: 0.0069 - val_acc: 1.0000\n",
      "Epoch 10/20\n",
      "2186/2186 [==============================] - 8s 4ms/sample - loss: 0.0080 - acc: 0.9991 - val_loss: 0.0038 - val_acc: 1.0000\n",
      "Epoch 11/20\n",
      "2186/2186 [==============================] - 9s 4ms/sample - loss: 0.0102 - acc: 0.9982 - val_loss: 0.0111 - val_acc: 0.9982\n",
      "Epoch 12/20\n",
      "2186/2186 [==============================] - 9s 4ms/sample - loss: 0.0099 - acc: 0.9968 - val_loss: 0.0016 - val_acc: 1.0000\n",
      "Epoch 13/20\n",
      "2186/2186 [==============================] - 8s 4ms/sample - loss: 0.0041 - acc: 0.9995 - val_loss: 9.9047e-04 - val_acc: 1.0000\n",
      "Epoch 14/20\n",
      "2186/2186 [==============================] - 8s 4ms/sample - loss: 0.0057 - acc: 0.9991 - val_loss: 7.5354e-04 - val_acc: 1.0000\n",
      "Epoch 15/20\n",
      "2186/2186 [==============================] - 8s 4ms/sample - loss: 0.0046 - acc: 0.9995 - val_loss: 0.0013 - val_acc: 1.0000\n",
      "Epoch 16/20\n",
      "2186/2186 [==============================] - 8s 4ms/sample - loss: 0.0053 - acc: 0.9986 - val_loss: 3.3660e-04 - val_acc: 1.0000\n",
      "Epoch 17/20\n",
      "2186/2186 [==============================] - 8s 4ms/sample - loss: 0.0028 - acc: 0.9995 - val_loss: 1.9367e-04 - val_acc: 1.0000\n",
      "Epoch 18/20\n",
      "2186/2186 [==============================] - 8s 4ms/sample - loss: 0.0043 - acc: 0.9995 - val_loss: 2.2086e-04 - val_acc: 1.0000\n",
      "Epoch 19/20\n",
      "2186/2186 [==============================] - 8s 4ms/sample - loss: 0.0060 - acc: 0.9995 - val_loss: 1.3417e-04 - val_acc: 1.0000\n",
      "Epoch 20/20\n",
      "2186/2186 [==============================] - 8s 3ms/sample - loss: 0.0104 - acc: 0.9973 - val_loss: 1.8315e-04 - val_acc: 1.0000\n"
     ]
    },
    {
     "data": {
      "text/plain": [
       "<tensorflow.python.keras.callbacks.History at 0x1d0c7868088>"
      ]
     },
     "execution_count": 121,
     "metadata": {},
     "output_type": "execute_result"
    }
   ],
   "source": [
    "model.fit(X_train,y_train,batch_size=64,epochs=20,validation_split=0.2,shuffle=True)"
   ]
  },
  {
   "cell_type": "code",
   "execution_count": 127,
   "metadata": {},
   "outputs": [
    {
     "name": "stdout",
     "output_type": "stream",
     "text": [
      "Model: \"sequential_1\"\n",
      "_________________________________________________________________\n",
      "Layer (type)                 Output Shape              Param #   \n",
      "=================================================================\n",
      "dense_4 (Dense)              multiple                  34041856  \n",
      "_________________________________________________________________\n",
      "dropout_3 (Dropout)          multiple                  0         \n",
      "_________________________________________________________________\n",
      "batch_normalization_8 (Batch multiple                  8192      \n",
      "_________________________________________________________________\n",
      "dense_5 (Dense)              multiple                  2098176   \n",
      "_________________________________________________________________\n",
      "dropout_4 (Dropout)          multiple                  0         \n",
      "_________________________________________________________________\n",
      "batch_normalization_9 (Batch multiple                  4096      \n",
      "_________________________________________________________________\n",
      "dense_6 (Dense)              multiple                  524800    \n",
      "_________________________________________________________________\n",
      "dropout_5 (Dropout)          multiple                  0         \n",
      "_________________________________________________________________\n",
      "batch_normalization_10 (Batc multiple                  2048      \n",
      "_________________________________________________________________\n",
      "dense_7 (Dense)              multiple                  131328    \n",
      "_________________________________________________________________\n",
      "dropout_6 (Dropout)          multiple                  0         \n",
      "_________________________________________________________________\n",
      "batch_normalization_11 (Batc multiple                  1024      \n",
      "_________________________________________________________________\n",
      "dense_8 (Dense)              multiple                  32896     \n",
      "_________________________________________________________________\n",
      "dropout_7 (Dropout)          multiple                  0         \n",
      "_________________________________________________________________\n",
      "batch_normalization_12 (Batc multiple                  512       \n",
      "_________________________________________________________________\n",
      "dense_9 (Dense)              multiple                  8256      \n",
      "_________________________________________________________________\n",
      "dropout_8 (Dropout)          multiple                  0         \n",
      "_________________________________________________________________\n",
      "batch_normalization_13 (Batc multiple                  256       \n",
      "_________________________________________________________________\n",
      "dense_10 (Dense)             multiple                  65        \n",
      "_________________________________________________________________\n",
      "activation_6 (Activation)    multiple                  0         \n",
      "=================================================================\n",
      "Total params: 36,853,505\n",
      "Trainable params: 36,845,441\n",
      "Non-trainable params: 8,064\n",
      "_________________________________________________________________\n"
     ]
    }
   ],
   "source": [
    "model.summary()"
   ]
  },
  {
   "cell_type": "code",
   "execution_count": 122,
   "metadata": {},
   "outputs": [
    {
     "data": {
      "text/plain": [
       "array([[2.6795268e-04],\n",
       "       [3.5977364e-04],\n",
       "       [3.4987926e-04],\n",
       "       [2.6577711e-04],\n",
       "       [3.9935112e-04],\n",
       "       [9.9998796e-01],\n",
       "       [4.3132901e-04],\n",
       "       [9.9999189e-01],\n",
       "       [9.9999064e-01],\n",
       "       [3.2997131e-04],\n",
       "       [3.0061603e-04],\n",
       "       [9.9999213e-01],\n",
       "       [9.9999058e-01],\n",
       "       [9.9998915e-01],\n",
       "       [3.1512976e-04],\n",
       "       [3.0490756e-04],\n",
       "       [9.9999094e-01],\n",
       "       [2.4056435e-04],\n",
       "       [6.5639615e-04],\n",
       "       [9.9998844e-01],\n",
       "       [9.9999213e-01],\n",
       "       [9.9999297e-01],\n",
       "       [3.1220913e-04],\n",
       "       [9.9998820e-01],\n",
       "       [9.9999201e-01],\n",
       "       [2.5877357e-04],\n",
       "       [9.9998987e-01],\n",
       "       [9.9998248e-01],\n",
       "       [3.0389428e-04],\n",
       "       [2.5567412e-04],\n",
       "       [4.0256977e-04],\n",
       "       [3.1021237e-04],\n",
       "       [9.9998844e-01],\n",
       "       [2.9331446e-04],\n",
       "       [4.0051341e-04],\n",
       "       [2.6825070e-04],\n",
       "       [9.9999255e-01],\n",
       "       [9.9998850e-01],\n",
       "       [2.7626753e-04],\n",
       "       [3.1101704e-04],\n",
       "       [2.7167797e-04],\n",
       "       [9.9999005e-01],\n",
       "       [2.7087331e-04],\n",
       "       [2.5585294e-04],\n",
       "       [9.9998665e-01],\n",
       "       [4.4316053e-04],\n",
       "       [3.3947825e-04],\n",
       "       [3.8972497e-04],\n",
       "       [2.9630578e-04],\n",
       "       [2.7761643e-04]], dtype=float32)"
      ]
     },
     "execution_count": 122,
     "metadata": {},
     "output_type": "execute_result"
    }
   ],
   "source": [
    "model.predict(X_test[:50])"
   ]
  },
  {
   "cell_type": "code",
   "execution_count": 129,
   "metadata": {},
   "outputs": [
    {
     "name": "stdout",
     "output_type": "stream",
     "text": [
      "mlp k-mer test loss, test acc: [0.00017948496301853933, 1.0]\n"
     ]
    }
   ],
   "source": [
    "#score_kmer = model.evaluate(X_test, y_test)\n",
    "print('mlp k-mer test loss, test acc:', score_kmer)"
   ]
  },
  {
   "cell_type": "code",
   "execution_count": 126,
   "metadata": {},
   "outputs": [],
   "source": [
    "# Reset metrics before saving so that loaded model has same state,\n",
    "# since metric states are not preserved by Model.save_weights\n",
    "model.reset_metrics()\n",
    "model.save('saved_models/kmer_mlp.h5')"
   ]
  },
  {
   "cell_type": "markdown",
   "metadata": {},
   "source": [
    "# ASCII ENCODING WITH CNN"
   ]
  },
  {
   "cell_type": "code",
   "execution_count": 89,
   "metadata": {},
   "outputs": [],
   "source": [
    "def encode_with_ascii(sequences):\n",
    "    length = max([len(s) for s in sequences])\n",
    "    result = np.zeros((len(sequences), length))\n",
    "    print(result.shape)\n",
    "    for i in range(len(sequences)):\n",
    "        for j in range(length):\n",
    "            c = 0\n",
    "            if j < len(sequences[i]):\n",
    "                c = ord(sequences[i][j])\n",
    "            result[i, j] = c\n",
    "    print(\"hello\")\n",
    "    return result"
   ]
  },
  {
   "cell_type": "code",
   "execution_count": 56,
   "metadata": {},
   "outputs": [
    {
     "data": {
      "text/plain": [
       "3905"
      ]
     },
     "execution_count": 56,
     "metadata": {},
     "output_type": "execute_result"
    }
   ],
   "source": [
    "len(all_sequences)"
   ]
  },
  {
   "cell_type": "code",
   "execution_count": 85,
   "metadata": {},
   "outputs": [
    {
     "name": "stdout",
     "output_type": "stream",
     "text": [
      "(3905, 11195)\n",
      "hello\n"
     ]
    }
   ],
   "source": [
    "ascii_en = encode_with_ascii(all_sequences)"
   ]
  },
  {
   "cell_type": "code",
   "execution_count": 91,
   "metadata": {},
   "outputs": [
    {
     "data": {
      "text/plain": [
       "(3905,)"
      ]
     },
     "execution_count": 91,
     "metadata": {},
     "output_type": "execute_result"
    }
   ],
   "source": [
    "labels.shape"
   ]
  },
  {
   "cell_type": "code",
   "execution_count": 94,
   "metadata": {},
   "outputs": [
    {
     "name": "stdout",
     "output_type": "stream",
     "text": [
      "(2733, 11195, 1)\n",
      "(2733,)\n",
      "(1172, 11195, 1)\n",
      "(1172,)\n"
     ]
    }
   ],
   "source": [
    "X_train, X_test, y_train, y_test = train_test_split(ascii_en, labels, shuffle=True, test_size=0.3, random_state=46)\n",
    "X_train = X_train[:,:,np.newaxis]\n",
    "X_test = X_test[:,:,np.newaxis]\n",
    "print(X_train.shape)\n",
    "print(y_train.shape)\n",
    "print(X_test.shape)\n",
    "print(y_test.shape)"
   ]
  },
  {
   "cell_type": "code",
   "execution_count": 98,
   "metadata": {},
   "outputs": [
    {
     "name": "stdout",
     "output_type": "stream",
     "text": [
      "Train on 2186 samples, validate on 547 samples\n",
      "Epoch 1/20\n",
      "2186/2186 [==============================] - 64s 29ms/sample - loss: 0.3410 - acc: 0.8888 - val_loss: 0.4642 - val_acc: 0.9342\n",
      "Epoch 2/20\n",
      "2186/2186 [==============================] - 53s 24ms/sample - loss: 0.2813 - acc: 0.9204 - val_loss: 0.9056 - val_acc: 0.4351\n",
      "Epoch 3/20\n",
      "2186/2186 [==============================] - 52s 24ms/sample - loss: 0.2814 - acc: 0.9158 - val_loss: 1.1651 - val_acc: 0.4351\n",
      "Epoch 4/20\n",
      "2186/2186 [==============================] - 52s 24ms/sample - loss: 0.2811 - acc: 0.9204 - val_loss: 1.0937 - val_acc: 0.4351\n",
      "Epoch 5/20\n",
      "2186/2186 [==============================] - 52s 24ms/sample - loss: 0.2596 - acc: 0.9186 - val_loss: 0.9481 - val_acc: 0.4351\n",
      "Epoch 6/20\n",
      "2186/2186 [==============================] - 54s 25ms/sample - loss: 0.2652 - acc: 0.9167 - val_loss: 0.7955 - val_acc: 0.4351\n",
      "Epoch 7/20\n",
      "2186/2186 [==============================] - 53s 24ms/sample - loss: 0.2474 - acc: 0.9204 - val_loss: 0.7820 - val_acc: 0.4351\n",
      "Epoch 8/20\n",
      "2186/2186 [==============================] - 52s 24ms/sample - loss: 0.2470 - acc: 0.9195 - val_loss: 0.5167 - val_acc: 0.8903\n",
      "Epoch 9/20\n",
      "2186/2186 [==============================] - 52s 24ms/sample - loss: 0.2438 - acc: 0.9209 - val_loss: 0.3360 - val_acc: 0.9342\n",
      "Epoch 10/20\n",
      "2186/2186 [==============================] - 52s 24ms/sample - loss: 0.2466 - acc: 0.9195 - val_loss: 0.2623 - val_acc: 0.9342\n",
      "Epoch 11/20\n",
      "2186/2186 [==============================] - 52s 24ms/sample - loss: 0.2505 - acc: 0.9199 - val_loss: 0.2405 - val_acc: 0.9342\n",
      "Epoch 12/20\n",
      "2186/2186 [==============================] - 53s 24ms/sample - loss: 0.2447 - acc: 0.9190 - val_loss: 0.2155 - val_acc: 0.9342\n",
      "Epoch 13/20\n",
      "2186/2186 [==============================] - 52s 24ms/sample - loss: 0.2395 - acc: 0.9204 - val_loss: 0.2077 - val_acc: 0.9342\n",
      "Epoch 14/20\n",
      "2186/2186 [==============================] - 53s 24ms/sample - loss: 0.2416 - acc: 0.9213 - val_loss: 0.2028 - val_acc: 0.9342\n",
      "Epoch 15/20\n",
      "2186/2186 [==============================] - 52s 24ms/sample - loss: 0.2410 - acc: 0.9209 - val_loss: 0.1991 - val_acc: 0.9342\n",
      "Epoch 16/20\n",
      "2186/2186 [==============================] - 52s 24ms/sample - loss: 0.2308 - acc: 0.9222 - val_loss: 0.1983 - val_acc: 0.9342\n",
      "Epoch 17/20\n",
      "2186/2186 [==============================] - 53s 24ms/sample - loss: 0.2344 - acc: 0.9222 - val_loss: 0.1977 - val_acc: 0.9342\n",
      "Epoch 18/20\n",
      "2186/2186 [==============================] - 53s 24ms/sample - loss: 0.2363 - acc: 0.9218 - val_loss: 0.1973 - val_acc: 0.9342\n",
      "Epoch 19/20\n",
      "2186/2186 [==============================] - 53s 24ms/sample - loss: 0.2331 - acc: 0.9222 - val_loss: 0.1979 - val_acc: 0.9342\n",
      "Epoch 20/20\n",
      "2186/2186 [==============================] - 54s 25ms/sample - loss: 0.2349 - acc: 0.9222 - val_loss: 0.1961 - val_acc: 0.9342\n"
     ]
    },
    {
     "data": {
      "text/plain": [
       "<tensorflow.python.keras.callbacks.History at 0x1d0d2725c08>"
      ]
     },
     "execution_count": 98,
     "metadata": {},
     "output_type": "execute_result"
    }
   ],
   "source": [
    "model = deep_cnn()\n",
    "metrics = ['acc']\n",
    "model.compile(optimizer='adam',loss='binary_crossentropy',metrics=metrics)\n",
    "model.fit(X_train,y_train,batch_size=64,epochs=20,validation_split=0.2,shuffle=True)"
   ]
  },
  {
   "cell_type": "code",
   "execution_count": 99,
   "metadata": {},
   "outputs": [
    {
     "data": {
      "text/plain": [
       "array([[0.00156677],\n",
       "       [0.00156543],\n",
       "       [0.00127131],\n",
       "       [0.0016906 ],\n",
       "       [0.00125459],\n",
       "       [0.8539931 ],\n",
       "       [0.00131249],\n",
       "       [0.8539931 ],\n",
       "       [0.8539931 ],\n",
       "       [0.00177988],\n",
       "       [0.00177145],\n",
       "       [0.8539931 ],\n",
       "       [0.8539931 ],\n",
       "       [0.8539931 ],\n",
       "       [0.00148046],\n",
       "       [0.00154701],\n",
       "       [0.8539931 ],\n",
       "       [0.0015904 ],\n",
       "       [0.8539931 ],\n",
       "       [0.8539931 ],\n",
       "       [0.8539931 ],\n",
       "       [0.8539931 ],\n",
       "       [0.00224245],\n",
       "       [0.8539931 ],\n",
       "       [0.8539931 ],\n",
       "       [0.00146285],\n",
       "       [0.8539931 ],\n",
       "       [0.8539931 ],\n",
       "       [0.00170007],\n",
       "       [0.001634  ],\n",
       "       [0.00120255],\n",
       "       [0.00151673],\n",
       "       [0.8539931 ],\n",
       "       [0.00149265],\n",
       "       [0.00120792],\n",
       "       [0.00161272],\n",
       "       [0.8539931 ],\n",
       "       [0.8539931 ],\n",
       "       [0.00141895],\n",
       "       [0.0015308 ],\n",
       "       [0.00158936],\n",
       "       [0.8539931 ],\n",
       "       [0.00167733],\n",
       "       [0.00176188],\n",
       "       [0.8539931 ],\n",
       "       [0.00159222],\n",
       "       [0.00156546],\n",
       "       [0.00179237],\n",
       "       [0.8539931 ],\n",
       "       [0.00149682]], dtype=float32)"
      ]
     },
     "execution_count": 99,
     "metadata": {},
     "output_type": "execute_result"
    }
   ],
   "source": [
    "model.predict(X_test[:50])"
   ]
  },
  {
   "cell_type": "code",
   "execution_count": 100,
   "metadata": {},
   "outputs": [
    {
     "data": {
      "text/plain": [
       "array([0, 0, 0, 0, 0, 1, 0, 1, 1, 0, 0, 1, 1, 1, 0, 0, 1, 0, 0, 1, 1, 1,\n",
       "       0, 1, 1, 0, 1, 1, 0, 0, 0, 0, 1, 0, 0, 0, 1, 1, 0, 0, 0, 1, 0, 0,\n",
       "       1, 0, 0, 0, 0, 0])"
      ]
     },
     "execution_count": 100,
     "metadata": {},
     "output_type": "execute_result"
    }
   ],
   "source": [
    "y_test[:50]"
   ]
  },
  {
   "cell_type": "code",
   "execution_count": 128,
   "metadata": {},
   "outputs": [
    {
     "name": "stdout",
     "output_type": "stream",
     "text": [
      "test loss, test acc: [0.22303773050829007, 0.9215017]\n"
     ]
    }
   ],
   "source": [
    "#score_ascii = model.evaluate(X_test, y_test)\n",
    "print('test loss, test acc:', score_ascii)"
   ]
  },
  {
   "cell_type": "code",
   "execution_count": 104,
   "metadata": {},
   "outputs": [],
   "source": [
    "# Reset metrics before saving so that loaded model has same state,\n",
    "# since metric states are not preserved by Model.save_weights\n",
    "model.reset_metrics()"
   ]
  },
  {
   "cell_type": "code",
   "execution_count": 106,
   "metadata": {},
   "outputs": [],
   "source": [
    "model.save('saved_models/ascii_cnn.h5')"
   ]
  },
  {
   "cell_type": "code",
   "execution_count": null,
   "metadata": {},
   "outputs": [],
   "source": []
  },
  {
   "cell_type": "code",
   "execution_count": 111,
   "metadata": {},
   "outputs": [],
   "source": [
    "# put ascii code in between -1 and 1\n",
    "for i in range(ascii_en.shape[0]):\n",
    "    for j in range(ascii_en.shape[1]):\n",
    "        if ascii_en[i,j] == 0:\n",
    "            continue\n",
    "        ascii_en[i, j] = (ascii_en[i, j]-(65+25/2))/(25/2)"
   ]
  },
  {
   "cell_type": "code",
   "execution_count": null,
   "metadata": {},
   "outputs": [],
   "source": [
    "X_train, X_test, y_train, y_test = train_test_split(ascii_en, labels, shuffle=True, test_size=0.3, random_state=46)\n",
    "X_train = X_train[:,:,np.newaxis]\n",
    "X_test = X_test[:,:,np.newaxis]\n",
    "print(X_train.shape)\n",
    "print(y_train.shape)\n",
    "print(X_test.shape)\n",
    "print(y_test.shape)\n",
    "\n",
    "model = deep_cnn()\n",
    "metrics = ['acc']\n",
    "model.compile(optimizer='adam',loss='binary_crossentropy',metrics=metrics)\n",
    "model.fit(X_train,y_train,batch_size=64,epochs=20,validation_split=0.2,shuffle=True)"
   ]
  },
  {
   "cell_type": "code",
   "execution_count": null,
   "metadata": {},
   "outputs": [],
   "source": []
  }
 ],
 "metadata": {
  "kernelspec": {
   "display_name": "Python 3",
   "language": "python",
   "name": "python3"
  },
  "language_info": {
   "codemirror_mode": {
    "name": "ipython",
    "version": 3
   },
   "file_extension": ".py",
   "mimetype": "text/x-python",
   "name": "python",
   "nbconvert_exporter": "python",
   "pygments_lexer": "ipython3",
   "version": "3.7.4"
  }
 },
 "nbformat": 4,
 "nbformat_minor": 2
}
