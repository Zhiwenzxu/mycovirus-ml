{
 "cells": [
  {
   "cell_type": "code",
   "execution_count": 11,
   "metadata": {},
   "outputs": [],
   "source": [
    "import pandas as pd\n",
    "from Bio import SeqIO\n",
    "from sklearn.feature_extraction.text import TfidfVectorizer\n",
    "from sklearn.cluster import KMeans\n",
    "from sklearn.decomposition import PCA\n",
    "from sklearn.manifold import TSNE\n",
    "import matplotlib.pyplot as plt\n",
    "import matplotlib.patches as mpatches\n",
    "from mpl_toolkits.mplot3d import Axes3D\n",
    "import numpy as np\n",
    "\n",
    "def parseFasta(data):\n",
    "    d = {fasta.id : str(fasta.seq) for fasta in SeqIO.parse(data, \"fasta\")}\n",
    "    pd.DataFrame([d])\n",
    "\n",
    "    s = pd.Series(d, name='Sequence')\n",
    "    s.index.name = 'ID'\n",
    "    s.reset_index()\n",
    "    return pd.DataFrame(s)\n",
    "\n",
    "def kmerXTable(s, a, b):\n",
    "    tfid_vector = TfidfVectorizer(analyzer='char', ngram_range=(a,b))\n",
    "    s_hat = tfid_vector.fit_transform(s.Sequence)\n",
    "    kmerNames = tfid_vector.get_feature_names()\n",
    "    kmers = s_hat.toarray()\n",
    "    return pd.DataFrame(kmers,columns=kmerNames, index = s.index)\n",
    "    \n",
    "def kmeans(fasta, klength, rNum, cNum):\n",
    "    inputData = parseFasta(fasta)\n",
    "    temp = virus01.append(inputData)\n",
    "    temp = temp.drop_duplicates(keep=\"last\")\n",
    "        \n",
    "    temp[\"Sequence\"] = temp[\"Sequence\"].apply(lambda x: x.replace(\"-\", \"\"))\n",
    "    kmerXTableInput = kmerXTable(temp, klength, klength)\n",
    "        \n",
    "        \n",
    "    km = KMeans(random_state = rNum, n_clusters = cNum)\n",
    "    km.fit(kmerXTableInput) \n",
    "    y_hat = km.predict(kmerXTableInput)\n",
    "        \n",
    "    return y_hat, kmerXTableInput\n",
    "        \n",
    "# def kmeans_semiSupervised():\n",
    "    \n",
    "def PCA2d(kTable, y_hat, filename):\n",
    "    embedding = PCA()\n",
    "    embedding.fit(kTable)\n",
    "    show = pd.DataFrame(embedding.transform(kTable))\n",
    "    # show kmeans clustering\n",
    "    show[\"labels\"] = y_hat\n",
    "    ax = show[show[\"labels\"]==1].plot.scatter(x=0, y=1, style=\"o\", color=\"red\", s=2)\n",
    "    show[show[\"labels\"]==0].plot.scatter(x=0, y=1, style=\"o\", color=\"blue\", s=2, ax=ax)\n",
    "    red = mpatches.Patch(color='red', label='Fungus Killers')\n",
    "    blue = mpatches.Patch(color='blue', label='Fungus Non-Killers')\n",
    "    plt.legend(handles=[red, blue])\n",
    "    plt.title('PCA Visualization')\n",
    "    plt.xlabel('First Principal Component')\n",
    "    plt.ylabel('Second Principal Component')\n",
    "    plt.savefig('nonNotebookFiles/' + filename + '.png', bbox_inches='tight')\n",
    "    plt.close()\n",
    "            \n",
    "def tSNE2d(kTable, y_hat, filename):\n",
    "    tSNEembedding = TSNE(n_components= 2, random_state = 0)\n",
    "    tSNEembedding_low = tSNEembedding.fit_transform(kTable)\n",
    "    show = pd.DataFrame(tSNEembedding_low)\n",
    "    # show kmeans clustering\n",
    "    show[\"labels\"] = y_hat\n",
    "    ax = show[show[\"labels\"]==1].plot.scatter(x=0, y=1, style=\"o\", color=\"red\", s=2)\n",
    "    show[show[\"labels\"]==0].plot.scatter(x=0, y=1, style=\"o\", color=\"blue\", s=2, ax=ax)\n",
    "    red = mpatches.Patch(color='red', label='Fungus Killers')\n",
    "    blue = mpatches.Patch(color='blue', label='Fungus Non-Killers')\n",
    "    plt.legend(handles=[red, blue])\n",
    "    plt.title('tSNE Visualization\\n')\n",
    "    plt.xlabel('First Component')\n",
    "    plt.ylabel('Second Component')\n",
    "    plt.savefig('nonNotebookFiles/' + filename + '.png', bbox_inches='tight')\n",
    "    plt.close()"
   ]
  },
  {
   "cell_type": "code",
   "execution_count": 8,
   "metadata": {},
   "outputs": [],
   "source": [
    "PATH1 = \"../data/Sclerotinia_biocontrol_mycovirus_nucleotide.fasta\"\n",
    "PATH01 = \"../data/mycovirus_genbank_all_refseq_nucleotide_unique.fasta\"\n",
    "\n",
    "virus1 = parseFasta(PATH1)\n",
    "virus01 = parseFasta(PATH01)\n",
    "virus01 = virus01.append(virus1)\n",
    "virus01 = virus01.drop_duplicates(keep=\"last\")"
   ]
  },
  {
   "cell_type": "code",
   "execution_count": 12,
   "metadata": {},
   "outputs": [],
   "source": [
    "y_hat, kTable = kmeans(PATH1, 7, 0, 2)"
   ]
  },
  {
   "cell_type": "code",
   "execution_count": null,
   "metadata": {},
   "outputs": [],
   "source": [
    "tSNE2d(kTable, y_hat, \"test\")"
   ]
  },
  {
   "cell_type": "code",
   "execution_count": null,
   "metadata": {},
   "outputs": [],
   "source": []
  }
 ],
 "metadata": {
  "kernelspec": {
   "display_name": "Python 3",
   "language": "python",
   "name": "python3"
  },
  "language_info": {
   "codemirror_mode": {
    "name": "ipython",
    "version": 3
   },
   "file_extension": ".py",
   "mimetype": "text/x-python",
   "name": "python",
   "nbconvert_exporter": "python",
   "pygments_lexer": "ipython3",
   "version": "3.7.4"
  }
 },
 "nbformat": 4,
 "nbformat_minor": 4
}
