{
 "cells": [
  {
   "cell_type": "markdown",
   "metadata": {},
   "source": [
    "# Summary:\n",
    "---\n",
    "\n",
    "1. This notebook is a workspace for general scratchwork"
   ]
  },
  {
   "cell_type": "markdown",
   "metadata": {},
   "source": [
    "### Read Files"
   ]
  },
  {
   "cell_type": "code",
   "execution_count": 1,
   "metadata": {},
   "outputs": [],
   "source": [
    "import pandas as pd\n",
    "from Bio import SeqIO"
   ]
  },
  {
   "cell_type": "code",
   "execution_count": 2,
   "metadata": {},
   "outputs": [],
   "source": [
    "# parse attempt 2 from dataParsing notebook\n",
    "def parseFasta(data):\n",
    "    d = {fasta.id : str(fasta.seq) for fasta in SeqIO.parse(data, \"fasta\")}\n",
    "    pd.DataFrame([d])\n",
    "\n",
    "    s = pd.Series(d, name='Sequence')\n",
    "    s.index.name = 'ID'\n",
    "    s.reset_index()\n",
    "    return pd.DataFrame(s)"
   ]
  },
  {
   "cell_type": "code",
   "execution_count": 131,
   "metadata": {},
   "outputs": [
    {
     "data": {
      "text/html": [
       "<div>\n",
       "<style scoped>\n",
       "    .dataframe tbody tr th:only-of-type {\n",
       "        vertical-align: middle;\n",
       "    }\n",
       "\n",
       "    .dataframe tbody tr th {\n",
       "        vertical-align: top;\n",
       "    }\n",
       "\n",
       "    .dataframe thead th {\n",
       "        text-align: right;\n",
       "    }\n",
       "</style>\n",
       "<table border=\"1\" class=\"dataframe\">\n",
       "  <thead>\n",
       "    <tr style=\"text-align: right;\">\n",
       "      <th></th>\n",
       "      <th>Sequence</th>\n",
       "    </tr>\n",
       "    <tr>\n",
       "      <th>ID</th>\n",
       "      <th></th>\n",
       "    </tr>\n",
       "  </thead>\n",
       "  <tbody>\n",
       "    <tr>\n",
       "      <th>NC_007415.1</th>\n",
       "      <td>CTTTAGTAAATACCACCGCCTCTTAATAAGTCTCGAGGCACTCCCC...</td>\n",
       "    </tr>\n",
       "    <tr>\n",
       "      <th>NC_015939.1</th>\n",
       "      <td>GGGGTGATGGGAAACTTACGTTTCGCCAACGTTAAGGTACTGTGAT...</td>\n",
       "    </tr>\n",
       "    <tr>\n",
       "      <th>NC_022896.1</th>\n",
       "      <td>TTTTTGGGGATGGTACTCTCAGGTTTGATCTTTGTAGATCCTAACT...</td>\n",
       "    </tr>\n",
       "    <tr>\n",
       "      <th>NC_026510.1</th>\n",
       "      <td>TTGGCTCCTGGAGACCGTTAGGTCCCCAGAAGCGGTTCAATAGAAC...</td>\n",
       "    </tr>\n",
       "    <tr>\n",
       "      <th>NC_027138.1</th>\n",
       "      <td>GCAATAAAAAGCACAGCCGGAAGGCTTTCTTTTTATTGCCCAGTTT...</td>\n",
       "    </tr>\n",
       "    <tr>\n",
       "      <th>NC_027139.1</th>\n",
       "      <td>GCAATAAAAAGCACAGCCGGAAGGCTTTCTTTTTATTGCCCAGTTT...</td>\n",
       "    </tr>\n",
       "    <tr>\n",
       "      <th>NC_025383.1</th>\n",
       "      <td>AGGGAGTATTATAATTACCTTCGTAGTTGTTCTTACTCTCTGGTAC...</td>\n",
       "    </tr>\n",
       "  </tbody>\n",
       "</table>\n",
       "</div>"
      ],
      "text/plain": [
       "                                                      Sequence\n",
       "ID                                                            \n",
       "NC_007415.1  CTTTAGTAAATACCACCGCCTCTTAATAAGTCTCGAGGCACTCCCC...\n",
       "NC_015939.1  GGGGTGATGGGAAACTTACGTTTCGCCAACGTTAAGGTACTGTGAT...\n",
       "NC_022896.1  TTTTTGGGGATGGTACTCTCAGGTTTGATCTTTGTAGATCCTAACT...\n",
       "NC_026510.1  TTGGCTCCTGGAGACCGTTAGGTCCCCAGAAGCGGTTCAATAGAAC...\n",
       "NC_027138.1  GCAATAAAAAGCACAGCCGGAAGGCTTTCTTTTTATTGCCCAGTTT...\n",
       "NC_027139.1  GCAATAAAAAGCACAGCCGGAAGGCTTTCTTTTTATTGCCCAGTTT...\n",
       "NC_025383.1  AGGGAGTATTATAATTACCTTCGTAGTTGTTCTTACTCTCTGGTAC..."
      ]
     },
     "execution_count": 131,
     "metadata": {},
     "output_type": "execute_result"
    }
   ],
   "source": [
    "virus1 = parseFasta(\"data/Sclerotinia_biocontrol_mycovirus_nucleotide.fasta\")\n",
    "virus1"
   ]
  },
  {
   "cell_type": "code",
   "execution_count": 236,
   "metadata": {},
   "outputs": [],
   "source": [
    "virus01 = parseFasta(\"data/mycovirus_genbank_all_refseq_nucleotide_unique.fasta\")"
   ]
  },
  {
   "cell_type": "code",
   "execution_count": 237,
   "metadata": {},
   "outputs": [
    {
     "data": {
      "text/html": [
       "<div>\n",
       "<style scoped>\n",
       "    .dataframe tbody tr th:only-of-type {\n",
       "        vertical-align: middle;\n",
       "    }\n",
       "\n",
       "    .dataframe tbody tr th {\n",
       "        vertical-align: top;\n",
       "    }\n",
       "\n",
       "    .dataframe thead th {\n",
       "        text-align: right;\n",
       "    }\n",
       "</style>\n",
       "<table border=\"1\" class=\"dataframe\">\n",
       "  <thead>\n",
       "    <tr style=\"text-align: right;\">\n",
       "      <th></th>\n",
       "      <th>Sequence</th>\n",
       "    </tr>\n",
       "    <tr>\n",
       "      <th>ID</th>\n",
       "      <th></th>\n",
       "    </tr>\n",
       "  </thead>\n",
       "  <tbody>\n",
       "    <tr>\n",
       "      <th>NC_000960.1</th>\n",
       "      <td>GGGGGTTAGAGAAATCTTGGGAGATTTCTATCGTCATAGACATATG...</td>\n",
       "    </tr>\n",
       "    <tr>\n",
       "      <th>NC_001278.1</th>\n",
       "      <td>GGGAAATTTGTGAGATTATCGCCCTAAAGGATAACTCTCATGCGGG...</td>\n",
       "    </tr>\n",
       "    <tr>\n",
       "      <th>NC_001492.1</th>\n",
       "      <td>GCCTATGGGTGGTCTACATAGGTGAGCATGCGTTGCTCGATATAGA...</td>\n",
       "    </tr>\n",
       "    <tr>\n",
       "      <th>NC_001633.1</th>\n",
       "      <td>ACAAAATAATTGAAGAAATTATTTTTGTTTTACATATTTAGATCTT...</td>\n",
       "    </tr>\n",
       "    <tr>\n",
       "      <th>NC_001641.1</th>\n",
       "      <td>GAATTTTTCGGTGAACCGGAATTATGTCGTCTCTGTTAAATTCATT...</td>\n",
       "    </tr>\n",
       "    <tr>\n",
       "      <th>...</th>\n",
       "      <td>...</td>\n",
       "    </tr>\n",
       "    <tr>\n",
       "      <th>NC_022896.1</th>\n",
       "      <td>TTTTTGGGGATGGTACTCTCAGGTTTGATCTTTGTAGATCCTAACT...</td>\n",
       "    </tr>\n",
       "    <tr>\n",
       "      <th>NC_026510.1</th>\n",
       "      <td>TTGGCTCCTGGAGACCGTTAGGTCCCCAGAAGCGGTTCAATAGAAC...</td>\n",
       "    </tr>\n",
       "    <tr>\n",
       "      <th>NC_027138.1</th>\n",
       "      <td>GCAATAAAAAGCACAGCCGGAAGGCTTTCTTTTTATTGCCCAGTTT...</td>\n",
       "    </tr>\n",
       "    <tr>\n",
       "      <th>NC_027139.1</th>\n",
       "      <td>GCAATAAAAAGCACAGCCGGAAGGCTTTCTTTTTATTGCCCAGTTT...</td>\n",
       "    </tr>\n",
       "    <tr>\n",
       "      <th>NC_025383.1</th>\n",
       "      <td>AGGGAGTATTATAATTACCTTCGTAGTTGTTCTTACTCTCTGGTAC...</td>\n",
       "    </tr>\n",
       "  </tbody>\n",
       "</table>\n",
       "<p>350 rows × 1 columns</p>\n",
       "</div>"
      ],
      "text/plain": [
       "                                                      Sequence\n",
       "ID                                                            \n",
       "NC_000960.1  GGGGGTTAGAGAAATCTTGGGAGATTTCTATCGTCATAGACATATG...\n",
       "NC_001278.1  GGGAAATTTGTGAGATTATCGCCCTAAAGGATAACTCTCATGCGGG...\n",
       "NC_001492.1  GCCTATGGGTGGTCTACATAGGTGAGCATGCGTTGCTCGATATAGA...\n",
       "NC_001633.1  ACAAAATAATTGAAGAAATTATTTTTGTTTTACATATTTAGATCTT...\n",
       "NC_001641.1  GAATTTTTCGGTGAACCGGAATTATGTCGTCTCTGTTAAATTCATT...\n",
       "...                                                        ...\n",
       "NC_022896.1  TTTTTGGGGATGGTACTCTCAGGTTTGATCTTTGTAGATCCTAACT...\n",
       "NC_026510.1  TTGGCTCCTGGAGACCGTTAGGTCCCCAGAAGCGGTTCAATAGAAC...\n",
       "NC_027138.1  GCAATAAAAAGCACAGCCGGAAGGCTTTCTTTTTATTGCCCAGTTT...\n",
       "NC_027139.1  GCAATAAAAAGCACAGCCGGAAGGCTTTCTTTTTATTGCCCAGTTT...\n",
       "NC_025383.1  AGGGAGTATTATAATTACCTTCGTAGTTGTTCTTACTCTCTGGTAC...\n",
       "\n",
       "[350 rows x 1 columns]"
      ]
     },
     "execution_count": 237,
     "metadata": {},
     "output_type": "execute_result"
    }
   ],
   "source": [
    "# put confirmed virus killers at bottom, and removed the duplicates already in the data\n",
    "virus01 = virus01.append(virus1)\n",
    "virus01 = virus01.drop_duplicates(keep=\"last\")\n",
    "virus01"
   ]
  },
  {
   "cell_type": "markdown",
   "metadata": {},
   "source": [
    "### Make KMER Table"
   ]
  },
  {
   "cell_type": "code",
   "execution_count": 21,
   "metadata": {},
   "outputs": [],
   "source": [
    "from sklearn.feature_extraction.text import TfidfVectorizer"
   ]
  },
  {
   "cell_type": "code",
   "execution_count": 238,
   "metadata": {},
   "outputs": [],
   "source": [
    "# testing\n",
    "tfid_vector = TfidfVectorizer(analyzer='char', ngram_range=(1,2))\n",
    "s_hat = tfid_vector.fit_transform(virus1.Sequence)\n",
    "kmers = s_hat.toarray()\n",
    "kmerNames = count_vect.get_feature_names()"
   ]
  },
  {
   "cell_type": "code",
   "execution_count": 173,
   "metadata": {},
   "outputs": [],
   "source": [
    "# kmer table with kmers of length a to b\n",
    "def kmerXTable(s, a, b):\n",
    "    tfid_vector = TfidfVectorizer(analyzer='char', ngram_range=(a,b))\n",
    "    s_hat = tfid_vector.fit_transform(s.Sequence)\n",
    "    kmerNames = tfid_vector.get_feature_names()\n",
    "    kmers = s_hat.toarray()\n",
    "    return pd.DataFrame(kmers,columns=kmerNames, index = s.index)"
   ]
  },
  {
   "cell_type": "code",
   "execution_count": 239,
   "metadata": {},
   "outputs": [
    {
     "data": {
      "text/html": [
       "<div>\n",
       "<style scoped>\n",
       "    .dataframe tbody tr th:only-of-type {\n",
       "        vertical-align: middle;\n",
       "    }\n",
       "\n",
       "    .dataframe tbody tr th {\n",
       "        vertical-align: top;\n",
       "    }\n",
       "\n",
       "    .dataframe thead th {\n",
       "        text-align: right;\n",
       "    }\n",
       "</style>\n",
       "<table border=\"1\" class=\"dataframe\">\n",
       "  <thead>\n",
       "    <tr style=\"text-align: right;\">\n",
       "      <th></th>\n",
       "      <th>aaaaaaa</th>\n",
       "      <th>aaaaaac</th>\n",
       "      <th>aaaaaag</th>\n",
       "      <th>aaaaaat</th>\n",
       "      <th>aaaaaca</th>\n",
       "      <th>aaaaacc</th>\n",
       "      <th>aaaaacg</th>\n",
       "      <th>aaaaact</th>\n",
       "      <th>aaaaaga</th>\n",
       "      <th>aaaaagc</th>\n",
       "      <th>...</th>\n",
       "      <th>tttttck</th>\n",
       "      <th>tttttct</th>\n",
       "      <th>tttttga</th>\n",
       "      <th>tttttgc</th>\n",
       "      <th>tttttgg</th>\n",
       "      <th>tttttgt</th>\n",
       "      <th>tttttta</th>\n",
       "      <th>ttttttc</th>\n",
       "      <th>ttttttg</th>\n",
       "      <th>ttttttt</th>\n",
       "    </tr>\n",
       "    <tr>\n",
       "      <th>ID</th>\n",
       "      <th></th>\n",
       "      <th></th>\n",
       "      <th></th>\n",
       "      <th></th>\n",
       "      <th></th>\n",
       "      <th></th>\n",
       "      <th></th>\n",
       "      <th></th>\n",
       "      <th></th>\n",
       "      <th></th>\n",
       "      <th></th>\n",
       "      <th></th>\n",
       "      <th></th>\n",
       "      <th></th>\n",
       "      <th></th>\n",
       "      <th></th>\n",
       "      <th></th>\n",
       "      <th></th>\n",
       "      <th></th>\n",
       "      <th></th>\n",
       "      <th></th>\n",
       "    </tr>\n",
       "  </thead>\n",
       "  <tbody>\n",
       "    <tr>\n",
       "      <th>NC_007415.1</th>\n",
       "      <td>0.413798</td>\n",
       "      <td>0.000000</td>\n",
       "      <td>0.00000</td>\n",
       "      <td>0.000000</td>\n",
       "      <td>0.000000</td>\n",
       "      <td>0.009196</td>\n",
       "      <td>0.012391</td>\n",
       "      <td>0.018391</td>\n",
       "      <td>0.000000</td>\n",
       "      <td>0.000000</td>\n",
       "      <td>...</td>\n",
       "      <td>0.000000</td>\n",
       "      <td>0.000000</td>\n",
       "      <td>0.018391</td>\n",
       "      <td>0.024782</td>\n",
       "      <td>0.000000</td>\n",
       "      <td>0.009196</td>\n",
       "      <td>0.000000</td>\n",
       "      <td>0.009196</td>\n",
       "      <td>0.024782</td>\n",
       "      <td>0.021183</td>\n",
       "    </tr>\n",
       "    <tr>\n",
       "      <th>NC_015939.1</th>\n",
       "      <td>0.219900</td>\n",
       "      <td>0.008231</td>\n",
       "      <td>0.00000</td>\n",
       "      <td>0.014071</td>\n",
       "      <td>0.005351</td>\n",
       "      <td>0.000000</td>\n",
       "      <td>0.000000</td>\n",
       "      <td>0.012217</td>\n",
       "      <td>0.006108</td>\n",
       "      <td>0.000000</td>\n",
       "      <td>...</td>\n",
       "      <td>0.000000</td>\n",
       "      <td>0.008231</td>\n",
       "      <td>0.000000</td>\n",
       "      <td>0.000000</td>\n",
       "      <td>0.012217</td>\n",
       "      <td>0.012217</td>\n",
       "      <td>0.007036</td>\n",
       "      <td>0.000000</td>\n",
       "      <td>0.000000</td>\n",
       "      <td>0.000000</td>\n",
       "    </tr>\n",
       "    <tr>\n",
       "      <th>NC_022896.1</th>\n",
       "      <td>0.120535</td>\n",
       "      <td>0.000000</td>\n",
       "      <td>0.00000</td>\n",
       "      <td>0.000000</td>\n",
       "      <td>0.000000</td>\n",
       "      <td>0.009643</td>\n",
       "      <td>0.006497</td>\n",
       "      <td>0.000000</td>\n",
       "      <td>0.000000</td>\n",
       "      <td>0.000000</td>\n",
       "      <td>...</td>\n",
       "      <td>0.000000</td>\n",
       "      <td>0.000000</td>\n",
       "      <td>0.000000</td>\n",
       "      <td>0.000000</td>\n",
       "      <td>0.014464</td>\n",
       "      <td>0.009643</td>\n",
       "      <td>0.005553</td>\n",
       "      <td>0.000000</td>\n",
       "      <td>0.006497</td>\n",
       "      <td>0.000000</td>\n",
       "    </tr>\n",
       "    <tr>\n",
       "      <th>NC_026510.1</th>\n",
       "      <td>0.000000</td>\n",
       "      <td>0.000000</td>\n",
       "      <td>0.00000</td>\n",
       "      <td>0.000000</td>\n",
       "      <td>0.014261</td>\n",
       "      <td>0.000000</td>\n",
       "      <td>0.000000</td>\n",
       "      <td>0.000000</td>\n",
       "      <td>0.016280</td>\n",
       "      <td>0.000000</td>\n",
       "      <td>...</td>\n",
       "      <td>0.000000</td>\n",
       "      <td>0.000000</td>\n",
       "      <td>0.000000</td>\n",
       "      <td>0.000000</td>\n",
       "      <td>0.000000</td>\n",
       "      <td>0.000000</td>\n",
       "      <td>0.000000</td>\n",
       "      <td>0.000000</td>\n",
       "      <td>0.000000</td>\n",
       "      <td>0.000000</td>\n",
       "    </tr>\n",
       "    <tr>\n",
       "      <th>NC_027138.1</th>\n",
       "      <td>0.000000</td>\n",
       "      <td>0.000000</td>\n",
       "      <td>0.00000</td>\n",
       "      <td>0.000000</td>\n",
       "      <td>0.007853</td>\n",
       "      <td>0.008964</td>\n",
       "      <td>0.000000</td>\n",
       "      <td>0.008964</td>\n",
       "      <td>0.000000</td>\n",
       "      <td>0.012080</td>\n",
       "      <td>...</td>\n",
       "      <td>0.000000</td>\n",
       "      <td>0.000000</td>\n",
       "      <td>0.008964</td>\n",
       "      <td>0.012080</td>\n",
       "      <td>0.000000</td>\n",
       "      <td>0.000000</td>\n",
       "      <td>0.000000</td>\n",
       "      <td>0.008964</td>\n",
       "      <td>0.000000</td>\n",
       "      <td>0.000000</td>\n",
       "    </tr>\n",
       "    <tr>\n",
       "      <th>NC_027139.1</th>\n",
       "      <td>0.000000</td>\n",
       "      <td>0.000000</td>\n",
       "      <td>0.01534</td>\n",
       "      <td>0.010884</td>\n",
       "      <td>0.008278</td>\n",
       "      <td>0.018900</td>\n",
       "      <td>0.000000</td>\n",
       "      <td>0.000000</td>\n",
       "      <td>0.018900</td>\n",
       "      <td>0.012734</td>\n",
       "      <td>...</td>\n",
       "      <td>0.000000</td>\n",
       "      <td>0.000000</td>\n",
       "      <td>0.009450</td>\n",
       "      <td>0.000000</td>\n",
       "      <td>0.009450</td>\n",
       "      <td>0.000000</td>\n",
       "      <td>0.000000</td>\n",
       "      <td>0.009450</td>\n",
       "      <td>0.000000</td>\n",
       "      <td>0.010884</td>\n",
       "    </tr>\n",
       "    <tr>\n",
       "      <th>NC_025383.1</th>\n",
       "      <td>0.006236</td>\n",
       "      <td>0.008403</td>\n",
       "      <td>0.00000</td>\n",
       "      <td>0.028731</td>\n",
       "      <td>0.021851</td>\n",
       "      <td>0.000000</td>\n",
       "      <td>0.000000</td>\n",
       "      <td>0.012472</td>\n",
       "      <td>0.018708</td>\n",
       "      <td>0.000000</td>\n",
       "      <td>...</td>\n",
       "      <td>0.010123</td>\n",
       "      <td>0.008403</td>\n",
       "      <td>0.012472</td>\n",
       "      <td>0.000000</td>\n",
       "      <td>0.006236</td>\n",
       "      <td>0.012472</td>\n",
       "      <td>0.014365</td>\n",
       "      <td>0.012472</td>\n",
       "      <td>0.000000</td>\n",
       "      <td>0.007183</td>\n",
       "    </tr>\n",
       "  </tbody>\n",
       "</table>\n",
       "<p>7 rows × 15057 columns</p>\n",
       "</div>"
      ],
      "text/plain": [
       "              aaaaaaa   aaaaaac  aaaaaag   aaaaaat   aaaaaca   aaaaacc  \\\n",
       "ID                                                                       \n",
       "NC_007415.1  0.413798  0.000000  0.00000  0.000000  0.000000  0.009196   \n",
       "NC_015939.1  0.219900  0.008231  0.00000  0.014071  0.005351  0.000000   \n",
       "NC_022896.1  0.120535  0.000000  0.00000  0.000000  0.000000  0.009643   \n",
       "NC_026510.1  0.000000  0.000000  0.00000  0.000000  0.014261  0.000000   \n",
       "NC_027138.1  0.000000  0.000000  0.00000  0.000000  0.007853  0.008964   \n",
       "NC_027139.1  0.000000  0.000000  0.01534  0.010884  0.008278  0.018900   \n",
       "NC_025383.1  0.006236  0.008403  0.00000  0.028731  0.021851  0.000000   \n",
       "\n",
       "              aaaaacg   aaaaact   aaaaaga   aaaaagc  ...   tttttck   tttttct  \\\n",
       "ID                                                   ...                       \n",
       "NC_007415.1  0.012391  0.018391  0.000000  0.000000  ...  0.000000  0.000000   \n",
       "NC_015939.1  0.000000  0.012217  0.006108  0.000000  ...  0.000000  0.008231   \n",
       "NC_022896.1  0.006497  0.000000  0.000000  0.000000  ...  0.000000  0.000000   \n",
       "NC_026510.1  0.000000  0.000000  0.016280  0.000000  ...  0.000000  0.000000   \n",
       "NC_027138.1  0.000000  0.008964  0.000000  0.012080  ...  0.000000  0.000000   \n",
       "NC_027139.1  0.000000  0.000000  0.018900  0.012734  ...  0.000000  0.000000   \n",
       "NC_025383.1  0.000000  0.012472  0.018708  0.000000  ...  0.010123  0.008403   \n",
       "\n",
       "              tttttga   tttttgc   tttttgg   tttttgt   tttttta   ttttttc  \\\n",
       "ID                                                                        \n",
       "NC_007415.1  0.018391  0.024782  0.000000  0.009196  0.000000  0.009196   \n",
       "NC_015939.1  0.000000  0.000000  0.012217  0.012217  0.007036  0.000000   \n",
       "NC_022896.1  0.000000  0.000000  0.014464  0.009643  0.005553  0.000000   \n",
       "NC_026510.1  0.000000  0.000000  0.000000  0.000000  0.000000  0.000000   \n",
       "NC_027138.1  0.008964  0.012080  0.000000  0.000000  0.000000  0.008964   \n",
       "NC_027139.1  0.009450  0.000000  0.009450  0.000000  0.000000  0.009450   \n",
       "NC_025383.1  0.012472  0.000000  0.006236  0.012472  0.014365  0.012472   \n",
       "\n",
       "              ttttttg   ttttttt  \n",
       "ID                               \n",
       "NC_007415.1  0.024782  0.021183  \n",
       "NC_015939.1  0.000000  0.000000  \n",
       "NC_022896.1  0.006497  0.000000  \n",
       "NC_026510.1  0.000000  0.000000  \n",
       "NC_027138.1  0.000000  0.000000  \n",
       "NC_027139.1  0.000000  0.010884  \n",
       "NC_025383.1  0.000000  0.007183  \n",
       "\n",
       "[7 rows x 15057 columns]"
      ]
     },
     "execution_count": 239,
     "metadata": {},
     "output_type": "execute_result"
    }
   ],
   "source": [
    "kmer7Table1 = kmerXTable(virus1, 7,7)\n",
    "kmer7Table1"
   ]
  },
  {
   "cell_type": "code",
   "execution_count": 241,
   "metadata": {},
   "outputs": [],
   "source": [
    "kmer27Table1 = kmerXTable(virus1, 2,7)"
   ]
  },
  {
   "cell_type": "code",
   "execution_count": 240,
   "metadata": {},
   "outputs": [],
   "source": [
    "kmer7Table01 = kmerXTable(virus01, 7,7)"
   ]
  },
  {
   "cell_type": "code",
   "execution_count": 215,
   "metadata": {},
   "outputs": [],
   "source": [
    "kmer27Table01 = kmerXTable(virus01, 2,7)"
   ]
  },
  {
   "cell_type": "markdown",
   "metadata": {},
   "source": [
    "### Find importance of KMERs"
   ]
  },
  {
   "cell_type": "code",
   "execution_count": 33,
   "metadata": {},
   "outputs": [
    {
     "data": {
      "text/html": [
       "<div>\n",
       "<style scoped>\n",
       "    .dataframe tbody tr th:only-of-type {\n",
       "        vertical-align: middle;\n",
       "    }\n",
       "\n",
       "    .dataframe tbody tr th {\n",
       "        vertical-align: top;\n",
       "    }\n",
       "\n",
       "    .dataframe thead th {\n",
       "        text-align: right;\n",
       "    }\n",
       "</style>\n",
       "<table border=\"1\" class=\"dataframe\">\n",
       "  <thead>\n",
       "    <tr style=\"text-align: right;\">\n",
       "      <th></th>\n",
       "      <th>aaaaaaa</th>\n",
       "      <th>aaaaaac</th>\n",
       "      <th>aaaaaag</th>\n",
       "      <th>aaaaaat</th>\n",
       "      <th>aaaaaca</th>\n",
       "      <th>aaaaacc</th>\n",
       "      <th>aaaaacg</th>\n",
       "      <th>aaaaact</th>\n",
       "      <th>aaaaaga</th>\n",
       "      <th>aaaaagc</th>\n",
       "      <th>...</th>\n",
       "      <th>tttttck</th>\n",
       "      <th>tttttct</th>\n",
       "      <th>tttttga</th>\n",
       "      <th>tttttgc</th>\n",
       "      <th>tttttgg</th>\n",
       "      <th>tttttgt</th>\n",
       "      <th>tttttta</th>\n",
       "      <th>ttttttc</th>\n",
       "      <th>ttttttg</th>\n",
       "      <th>ttttttt</th>\n",
       "    </tr>\n",
       "    <tr>\n",
       "      <th>ID</th>\n",
       "      <th></th>\n",
       "      <th></th>\n",
       "      <th></th>\n",
       "      <th></th>\n",
       "      <th></th>\n",
       "      <th></th>\n",
       "      <th></th>\n",
       "      <th></th>\n",
       "      <th></th>\n",
       "      <th></th>\n",
       "      <th></th>\n",
       "      <th></th>\n",
       "      <th></th>\n",
       "      <th></th>\n",
       "      <th></th>\n",
       "      <th></th>\n",
       "      <th></th>\n",
       "      <th></th>\n",
       "      <th></th>\n",
       "      <th></th>\n",
       "      <th></th>\n",
       "    </tr>\n",
       "  </thead>\n",
       "  <tbody>\n",
       "    <tr>\n",
       "      <th>NC_007415.1</th>\n",
       "      <td>0.413798</td>\n",
       "      <td>0.000000</td>\n",
       "      <td>0.00000</td>\n",
       "      <td>0.000000</td>\n",
       "      <td>0.000000</td>\n",
       "      <td>0.009196</td>\n",
       "      <td>0.012391</td>\n",
       "      <td>0.018391</td>\n",
       "      <td>0.000000</td>\n",
       "      <td>0.000000</td>\n",
       "      <td>...</td>\n",
       "      <td>0.000000</td>\n",
       "      <td>0.000000</td>\n",
       "      <td>0.018391</td>\n",
       "      <td>0.024782</td>\n",
       "      <td>0.000000</td>\n",
       "      <td>0.009196</td>\n",
       "      <td>0.000000</td>\n",
       "      <td>0.009196</td>\n",
       "      <td>0.024782</td>\n",
       "      <td>0.021183</td>\n",
       "    </tr>\n",
       "    <tr>\n",
       "      <th>NC_015939.1</th>\n",
       "      <td>0.219900</td>\n",
       "      <td>0.008231</td>\n",
       "      <td>0.00000</td>\n",
       "      <td>0.014071</td>\n",
       "      <td>0.005351</td>\n",
       "      <td>0.000000</td>\n",
       "      <td>0.000000</td>\n",
       "      <td>0.012217</td>\n",
       "      <td>0.006108</td>\n",
       "      <td>0.000000</td>\n",
       "      <td>...</td>\n",
       "      <td>0.000000</td>\n",
       "      <td>0.008231</td>\n",
       "      <td>0.000000</td>\n",
       "      <td>0.000000</td>\n",
       "      <td>0.012217</td>\n",
       "      <td>0.012217</td>\n",
       "      <td>0.007036</td>\n",
       "      <td>0.000000</td>\n",
       "      <td>0.000000</td>\n",
       "      <td>0.000000</td>\n",
       "    </tr>\n",
       "    <tr>\n",
       "      <th>NC_022896.1</th>\n",
       "      <td>0.120535</td>\n",
       "      <td>0.000000</td>\n",
       "      <td>0.00000</td>\n",
       "      <td>0.000000</td>\n",
       "      <td>0.000000</td>\n",
       "      <td>0.009643</td>\n",
       "      <td>0.006497</td>\n",
       "      <td>0.000000</td>\n",
       "      <td>0.000000</td>\n",
       "      <td>0.000000</td>\n",
       "      <td>...</td>\n",
       "      <td>0.000000</td>\n",
       "      <td>0.000000</td>\n",
       "      <td>0.000000</td>\n",
       "      <td>0.000000</td>\n",
       "      <td>0.014464</td>\n",
       "      <td>0.009643</td>\n",
       "      <td>0.005553</td>\n",
       "      <td>0.000000</td>\n",
       "      <td>0.006497</td>\n",
       "      <td>0.000000</td>\n",
       "    </tr>\n",
       "    <tr>\n",
       "      <th>NC_026510.1</th>\n",
       "      <td>0.000000</td>\n",
       "      <td>0.000000</td>\n",
       "      <td>0.00000</td>\n",
       "      <td>0.000000</td>\n",
       "      <td>0.014261</td>\n",
       "      <td>0.000000</td>\n",
       "      <td>0.000000</td>\n",
       "      <td>0.000000</td>\n",
       "      <td>0.016280</td>\n",
       "      <td>0.000000</td>\n",
       "      <td>...</td>\n",
       "      <td>0.000000</td>\n",
       "      <td>0.000000</td>\n",
       "      <td>0.000000</td>\n",
       "      <td>0.000000</td>\n",
       "      <td>0.000000</td>\n",
       "      <td>0.000000</td>\n",
       "      <td>0.000000</td>\n",
       "      <td>0.000000</td>\n",
       "      <td>0.000000</td>\n",
       "      <td>0.000000</td>\n",
       "    </tr>\n",
       "    <tr>\n",
       "      <th>NC_027138.1</th>\n",
       "      <td>0.000000</td>\n",
       "      <td>0.000000</td>\n",
       "      <td>0.00000</td>\n",
       "      <td>0.000000</td>\n",
       "      <td>0.007853</td>\n",
       "      <td>0.008964</td>\n",
       "      <td>0.000000</td>\n",
       "      <td>0.008964</td>\n",
       "      <td>0.000000</td>\n",
       "      <td>0.012080</td>\n",
       "      <td>...</td>\n",
       "      <td>0.000000</td>\n",
       "      <td>0.000000</td>\n",
       "      <td>0.008964</td>\n",
       "      <td>0.012080</td>\n",
       "      <td>0.000000</td>\n",
       "      <td>0.000000</td>\n",
       "      <td>0.000000</td>\n",
       "      <td>0.008964</td>\n",
       "      <td>0.000000</td>\n",
       "      <td>0.000000</td>\n",
       "    </tr>\n",
       "    <tr>\n",
       "      <th>NC_027139.1</th>\n",
       "      <td>0.000000</td>\n",
       "      <td>0.000000</td>\n",
       "      <td>0.01534</td>\n",
       "      <td>0.010884</td>\n",
       "      <td>0.008278</td>\n",
       "      <td>0.018900</td>\n",
       "      <td>0.000000</td>\n",
       "      <td>0.000000</td>\n",
       "      <td>0.018900</td>\n",
       "      <td>0.012734</td>\n",
       "      <td>...</td>\n",
       "      <td>0.000000</td>\n",
       "      <td>0.000000</td>\n",
       "      <td>0.009450</td>\n",
       "      <td>0.000000</td>\n",
       "      <td>0.009450</td>\n",
       "      <td>0.000000</td>\n",
       "      <td>0.000000</td>\n",
       "      <td>0.009450</td>\n",
       "      <td>0.000000</td>\n",
       "      <td>0.010884</td>\n",
       "    </tr>\n",
       "    <tr>\n",
       "      <th>NC_025383.1</th>\n",
       "      <td>0.006236</td>\n",
       "      <td>0.008403</td>\n",
       "      <td>0.00000</td>\n",
       "      <td>0.028731</td>\n",
       "      <td>0.021851</td>\n",
       "      <td>0.000000</td>\n",
       "      <td>0.000000</td>\n",
       "      <td>0.012472</td>\n",
       "      <td>0.018708</td>\n",
       "      <td>0.000000</td>\n",
       "      <td>...</td>\n",
       "      <td>0.010123</td>\n",
       "      <td>0.008403</td>\n",
       "      <td>0.012472</td>\n",
       "      <td>0.000000</td>\n",
       "      <td>0.006236</td>\n",
       "      <td>0.012472</td>\n",
       "      <td>0.014365</td>\n",
       "      <td>0.012472</td>\n",
       "      <td>0.000000</td>\n",
       "      <td>0.007183</td>\n",
       "    </tr>\n",
       "  </tbody>\n",
       "</table>\n",
       "<p>7 rows × 15023 columns</p>\n",
       "</div>"
      ],
      "text/plain": [
       "              aaaaaaa   aaaaaac  aaaaaag   aaaaaat   aaaaaca   aaaaacc  \\\n",
       "ID                                                                       \n",
       "NC_007415.1  0.413798  0.000000  0.00000  0.000000  0.000000  0.009196   \n",
       "NC_015939.1  0.219900  0.008231  0.00000  0.014071  0.005351  0.000000   \n",
       "NC_022896.1  0.120535  0.000000  0.00000  0.000000  0.000000  0.009643   \n",
       "NC_026510.1  0.000000  0.000000  0.00000  0.000000  0.014261  0.000000   \n",
       "NC_027138.1  0.000000  0.000000  0.00000  0.000000  0.007853  0.008964   \n",
       "NC_027139.1  0.000000  0.000000  0.01534  0.010884  0.008278  0.018900   \n",
       "NC_025383.1  0.006236  0.008403  0.00000  0.028731  0.021851  0.000000   \n",
       "\n",
       "              aaaaacg   aaaaact   aaaaaga   aaaaagc  ...   tttttck   tttttct  \\\n",
       "ID                                                   ...                       \n",
       "NC_007415.1  0.012391  0.018391  0.000000  0.000000  ...  0.000000  0.000000   \n",
       "NC_015939.1  0.000000  0.012217  0.006108  0.000000  ...  0.000000  0.008231   \n",
       "NC_022896.1  0.006497  0.000000  0.000000  0.000000  ...  0.000000  0.000000   \n",
       "NC_026510.1  0.000000  0.000000  0.016280  0.000000  ...  0.000000  0.000000   \n",
       "NC_027138.1  0.000000  0.008964  0.000000  0.012080  ...  0.000000  0.000000   \n",
       "NC_027139.1  0.000000  0.000000  0.018900  0.012734  ...  0.000000  0.000000   \n",
       "NC_025383.1  0.000000  0.012472  0.018708  0.000000  ...  0.010123  0.008403   \n",
       "\n",
       "              tttttga   tttttgc   tttttgg   tttttgt   tttttta   ttttttc  \\\n",
       "ID                                                                        \n",
       "NC_007415.1  0.018391  0.024782  0.000000  0.009196  0.000000  0.009196   \n",
       "NC_015939.1  0.000000  0.000000  0.012217  0.012217  0.007036  0.000000   \n",
       "NC_022896.1  0.000000  0.000000  0.014464  0.009643  0.005553  0.000000   \n",
       "NC_026510.1  0.000000  0.000000  0.000000  0.000000  0.000000  0.000000   \n",
       "NC_027138.1  0.008964  0.012080  0.000000  0.000000  0.000000  0.008964   \n",
       "NC_027139.1  0.009450  0.000000  0.009450  0.000000  0.000000  0.009450   \n",
       "NC_025383.1  0.012472  0.000000  0.006236  0.012472  0.014365  0.012472   \n",
       "\n",
       "              ttttttg   ttttttt  \n",
       "ID                               \n",
       "NC_007415.1  0.024782  0.021183  \n",
       "NC_015939.1  0.000000  0.000000  \n",
       "NC_022896.1  0.006497  0.000000  \n",
       "NC_026510.1  0.000000  0.000000  \n",
       "NC_027138.1  0.000000  0.000000  \n",
       "NC_027139.1  0.000000  0.010884  \n",
       "NC_025383.1  0.000000  0.007183  \n",
       "\n",
       "[7 rows x 15023 columns]"
      ]
     },
     "execution_count": 33,
     "metadata": {},
     "output_type": "execute_result"
    }
   ],
   "source": [
    "# all columns that contain zeros for virus1\n",
    "kmer7Table1.loc[:, (kmer7Table1 == 0).any(axis=0) == True]"
   ]
  },
  {
   "cell_type": "code",
   "execution_count": 251,
   "metadata": {},
   "outputs": [
    {
     "data": {
      "text/html": [
       "<div>\n",
       "<style scoped>\n",
       "    .dataframe tbody tr th:only-of-type {\n",
       "        vertical-align: middle;\n",
       "    }\n",
       "\n",
       "    .dataframe tbody tr th {\n",
       "        vertical-align: top;\n",
       "    }\n",
       "\n",
       "    .dataframe thead th {\n",
       "        text-align: right;\n",
       "    }\n",
       "</style>\n",
       "<table border=\"1\" class=\"dataframe\">\n",
       "  <thead>\n",
       "    <tr style=\"text-align: right;\">\n",
       "      <th></th>\n",
       "      <th>aaaacaa</th>\n",
       "      <th>aactttt</th>\n",
       "      <th>aagatga</th>\n",
       "      <th>aatcaaa</th>\n",
       "      <th>acaaata</th>\n",
       "      <th>agaagaa</th>\n",
       "      <th>agatttc</th>\n",
       "      <th>aggaatt</th>\n",
       "      <th>aggagat</th>\n",
       "      <th>aggttga</th>\n",
       "      <th>...</th>\n",
       "      <th>tcaagga</th>\n",
       "      <th>tcacaag</th>\n",
       "      <th>tcttgga</th>\n",
       "      <th>tggaaag</th>\n",
       "      <th>tggaatt</th>\n",
       "      <th>ttcaaag</th>\n",
       "      <th>ttctttc</th>\n",
       "      <th>ttgaaga</th>\n",
       "      <th>ttggaaa</th>\n",
       "      <th>ttttgat</th>\n",
       "    </tr>\n",
       "    <tr>\n",
       "      <th>ID</th>\n",
       "      <th></th>\n",
       "      <th></th>\n",
       "      <th></th>\n",
       "      <th></th>\n",
       "      <th></th>\n",
       "      <th></th>\n",
       "      <th></th>\n",
       "      <th></th>\n",
       "      <th></th>\n",
       "      <th></th>\n",
       "      <th></th>\n",
       "      <th></th>\n",
       "      <th></th>\n",
       "      <th></th>\n",
       "      <th></th>\n",
       "      <th></th>\n",
       "      <th></th>\n",
       "      <th></th>\n",
       "      <th></th>\n",
       "      <th></th>\n",
       "      <th></th>\n",
       "    </tr>\n",
       "  </thead>\n",
       "  <tbody>\n",
       "    <tr>\n",
       "      <th>NC_007415.1</th>\n",
       "      <td>0.012511</td>\n",
       "      <td>0.006255</td>\n",
       "      <td>0.018766</td>\n",
       "      <td>0.012511</td>\n",
       "      <td>0.006255</td>\n",
       "      <td>0.006255</td>\n",
       "      <td>0.006255</td>\n",
       "      <td>0.006255</td>\n",
       "      <td>0.006255</td>\n",
       "      <td>0.006255</td>\n",
       "      <td>...</td>\n",
       "      <td>0.012511</td>\n",
       "      <td>0.012511</td>\n",
       "      <td>0.006255</td>\n",
       "      <td>0.012511</td>\n",
       "      <td>0.006255</td>\n",
       "      <td>0.006255</td>\n",
       "      <td>0.006255</td>\n",
       "      <td>0.012511</td>\n",
       "      <td>0.012511</td>\n",
       "      <td>0.018766</td>\n",
       "    </tr>\n",
       "    <tr>\n",
       "      <th>NC_015939.1</th>\n",
       "      <td>0.008311</td>\n",
       "      <td>0.004155</td>\n",
       "      <td>0.008311</td>\n",
       "      <td>0.012466</td>\n",
       "      <td>0.004155</td>\n",
       "      <td>0.024932</td>\n",
       "      <td>0.004155</td>\n",
       "      <td>0.008311</td>\n",
       "      <td>0.008311</td>\n",
       "      <td>0.004155</td>\n",
       "      <td>...</td>\n",
       "      <td>0.008311</td>\n",
       "      <td>0.004155</td>\n",
       "      <td>0.004155</td>\n",
       "      <td>0.004155</td>\n",
       "      <td>0.004155</td>\n",
       "      <td>0.004155</td>\n",
       "      <td>0.008311</td>\n",
       "      <td>0.004155</td>\n",
       "      <td>0.004155</td>\n",
       "      <td>0.016621</td>\n",
       "    </tr>\n",
       "    <tr>\n",
       "      <th>NC_022896.1</th>\n",
       "      <td>0.003280</td>\n",
       "      <td>0.013119</td>\n",
       "      <td>0.013119</td>\n",
       "      <td>0.003280</td>\n",
       "      <td>0.003280</td>\n",
       "      <td>0.013119</td>\n",
       "      <td>0.003280</td>\n",
       "      <td>0.009840</td>\n",
       "      <td>0.006560</td>\n",
       "      <td>0.003280</td>\n",
       "      <td>...</td>\n",
       "      <td>0.009840</td>\n",
       "      <td>0.009840</td>\n",
       "      <td>0.013119</td>\n",
       "      <td>0.009840</td>\n",
       "      <td>0.006560</td>\n",
       "      <td>0.019679</td>\n",
       "      <td>0.006560</td>\n",
       "      <td>0.016399</td>\n",
       "      <td>0.003280</td>\n",
       "      <td>0.013119</td>\n",
       "    </tr>\n",
       "    <tr>\n",
       "      <th>NC_026510.1</th>\n",
       "      <td>0.011075</td>\n",
       "      <td>0.022150</td>\n",
       "      <td>0.022150</td>\n",
       "      <td>0.011075</td>\n",
       "      <td>0.011075</td>\n",
       "      <td>0.011075</td>\n",
       "      <td>0.011075</td>\n",
       "      <td>0.011075</td>\n",
       "      <td>0.011075</td>\n",
       "      <td>0.011075</td>\n",
       "      <td>...</td>\n",
       "      <td>0.011075</td>\n",
       "      <td>0.011075</td>\n",
       "      <td>0.011075</td>\n",
       "      <td>0.011075</td>\n",
       "      <td>0.011075</td>\n",
       "      <td>0.022150</td>\n",
       "      <td>0.011075</td>\n",
       "      <td>0.022150</td>\n",
       "      <td>0.011075</td>\n",
       "      <td>0.011075</td>\n",
       "    </tr>\n",
       "    <tr>\n",
       "      <th>NC_027138.1</th>\n",
       "      <td>0.012197</td>\n",
       "      <td>0.006098</td>\n",
       "      <td>0.018295</td>\n",
       "      <td>0.018295</td>\n",
       "      <td>0.012197</td>\n",
       "      <td>0.012197</td>\n",
       "      <td>0.006098</td>\n",
       "      <td>0.012197</td>\n",
       "      <td>0.006098</td>\n",
       "      <td>0.006098</td>\n",
       "      <td>...</td>\n",
       "      <td>0.006098</td>\n",
       "      <td>0.006098</td>\n",
       "      <td>0.006098</td>\n",
       "      <td>0.006098</td>\n",
       "      <td>0.006098</td>\n",
       "      <td>0.012197</td>\n",
       "      <td>0.006098</td>\n",
       "      <td>0.012197</td>\n",
       "      <td>0.012197</td>\n",
       "      <td>0.006098</td>\n",
       "    </tr>\n",
       "    <tr>\n",
       "      <th>NC_027139.1</th>\n",
       "      <td>0.019285</td>\n",
       "      <td>0.006428</td>\n",
       "      <td>0.006428</td>\n",
       "      <td>0.006428</td>\n",
       "      <td>0.019285</td>\n",
       "      <td>0.012857</td>\n",
       "      <td>0.006428</td>\n",
       "      <td>0.006428</td>\n",
       "      <td>0.006428</td>\n",
       "      <td>0.006428</td>\n",
       "      <td>...</td>\n",
       "      <td>0.006428</td>\n",
       "      <td>0.006428</td>\n",
       "      <td>0.012857</td>\n",
       "      <td>0.006428</td>\n",
       "      <td>0.006428</td>\n",
       "      <td>0.012857</td>\n",
       "      <td>0.006428</td>\n",
       "      <td>0.038570</td>\n",
       "      <td>0.006428</td>\n",
       "      <td>0.012857</td>\n",
       "    </tr>\n",
       "    <tr>\n",
       "      <th>NC_025383.1</th>\n",
       "      <td>0.021211</td>\n",
       "      <td>0.004242</td>\n",
       "      <td>0.008484</td>\n",
       "      <td>0.004242</td>\n",
       "      <td>0.004242</td>\n",
       "      <td>0.016969</td>\n",
       "      <td>0.008484</td>\n",
       "      <td>0.008484</td>\n",
       "      <td>0.029696</td>\n",
       "      <td>0.004242</td>\n",
       "      <td>...</td>\n",
       "      <td>0.004242</td>\n",
       "      <td>0.004242</td>\n",
       "      <td>0.004242</td>\n",
       "      <td>0.004242</td>\n",
       "      <td>0.008484</td>\n",
       "      <td>0.008484</td>\n",
       "      <td>0.004242</td>\n",
       "      <td>0.008484</td>\n",
       "      <td>0.004242</td>\n",
       "      <td>0.004242</td>\n",
       "    </tr>\n",
       "  </tbody>\n",
       "</table>\n",
       "<p>7 rows × 34 columns</p>\n",
       "</div>"
      ],
      "text/plain": [
       "              aaaacaa   aactttt   aagatga   aatcaaa   acaaata   agaagaa  \\\n",
       "ID                                                                        \n",
       "NC_007415.1  0.012511  0.006255  0.018766  0.012511  0.006255  0.006255   \n",
       "NC_015939.1  0.008311  0.004155  0.008311  0.012466  0.004155  0.024932   \n",
       "NC_022896.1  0.003280  0.013119  0.013119  0.003280  0.003280  0.013119   \n",
       "NC_026510.1  0.011075  0.022150  0.022150  0.011075  0.011075  0.011075   \n",
       "NC_027138.1  0.012197  0.006098  0.018295  0.018295  0.012197  0.012197   \n",
       "NC_027139.1  0.019285  0.006428  0.006428  0.006428  0.019285  0.012857   \n",
       "NC_025383.1  0.021211  0.004242  0.008484  0.004242  0.004242  0.016969   \n",
       "\n",
       "              agatttc   aggaatt   aggagat   aggttga  ...   tcaagga   tcacaag  \\\n",
       "ID                                                   ...                       \n",
       "NC_007415.1  0.006255  0.006255  0.006255  0.006255  ...  0.012511  0.012511   \n",
       "NC_015939.1  0.004155  0.008311  0.008311  0.004155  ...  0.008311  0.004155   \n",
       "NC_022896.1  0.003280  0.009840  0.006560  0.003280  ...  0.009840  0.009840   \n",
       "NC_026510.1  0.011075  0.011075  0.011075  0.011075  ...  0.011075  0.011075   \n",
       "NC_027138.1  0.006098  0.012197  0.006098  0.006098  ...  0.006098  0.006098   \n",
       "NC_027139.1  0.006428  0.006428  0.006428  0.006428  ...  0.006428  0.006428   \n",
       "NC_025383.1  0.008484  0.008484  0.029696  0.004242  ...  0.004242  0.004242   \n",
       "\n",
       "              tcttgga   tggaaag   tggaatt   ttcaaag   ttctttc   ttgaaga  \\\n",
       "ID                                                                        \n",
       "NC_007415.1  0.006255  0.012511  0.006255  0.006255  0.006255  0.012511   \n",
       "NC_015939.1  0.004155  0.004155  0.004155  0.004155  0.008311  0.004155   \n",
       "NC_022896.1  0.013119  0.009840  0.006560  0.019679  0.006560  0.016399   \n",
       "NC_026510.1  0.011075  0.011075  0.011075  0.022150  0.011075  0.022150   \n",
       "NC_027138.1  0.006098  0.006098  0.006098  0.012197  0.006098  0.012197   \n",
       "NC_027139.1  0.012857  0.006428  0.006428  0.012857  0.006428  0.038570   \n",
       "NC_025383.1  0.004242  0.004242  0.008484  0.008484  0.004242  0.008484   \n",
       "\n",
       "              ttggaaa   ttttgat  \n",
       "ID                               \n",
       "NC_007415.1  0.012511  0.018766  \n",
       "NC_015939.1  0.004155  0.016621  \n",
       "NC_022896.1  0.003280  0.013119  \n",
       "NC_026510.1  0.011075  0.011075  \n",
       "NC_027138.1  0.012197  0.006098  \n",
       "NC_027139.1  0.006428  0.012857  \n",
       "NC_025383.1  0.004242  0.004242  \n",
       "\n",
       "[7 rows x 34 columns]"
      ]
     },
     "execution_count": 251,
     "metadata": {},
     "output_type": "execute_result"
    }
   ],
   "source": [
    "# all columns that do not contain any zeros for virus1\n",
    "kmer7Table1.loc[:, (kmer7Table1 == 0).any(axis=0) != True]"
   ]
  },
  {
   "cell_type": "code",
   "execution_count": 61,
   "metadata": {},
   "outputs": [],
   "source": [
    "#kmer7TableNonZero1 = kmer7Table1.loc[:, (kmer7Table1 == 0).any(axis=0) != True]\n",
    "#kmer7TableNonZero1.hist()"
   ]
  },
  {
   "cell_type": "code",
   "execution_count": 195,
   "metadata": {},
   "outputs": [],
   "source": [
    "# labels for virus01\n",
    "labels = [0 for x in range(343)] + [1 for x in range(7)]"
   ]
  },
  {
   "cell_type": "markdown",
   "metadata": {},
   "source": [
    "## Models\n",
    "-----"
   ]
  },
  {
   "cell_type": "markdown",
   "metadata": {},
   "source": [
    "### Unsupervised:"
   ]
  },
  {
   "cell_type": "markdown",
   "metadata": {},
   "source": [
    "Only the 1 labels are known, everything else is unknown, so I'm attempting to find clusters in the data in which all the 1 labels reside"
   ]
  },
  {
   "cell_type": "markdown",
   "metadata": {},
   "source": [
    "#### KMeans (try 1)"
   ]
  },
  {
   "cell_type": "code",
   "execution_count": 263,
   "metadata": {},
   "outputs": [
    {
     "data": {
      "text/plain": [
       "KMeans(algorithm='auto', copy_x=True, init='k-means++', max_iter=300,\n",
       "       n_clusters=2, n_init=10, n_jobs=None, precompute_distances='auto',\n",
       "       random_state=42, tol=0.0001, verbose=0)"
      ]
     },
     "execution_count": 263,
     "metadata": {},
     "output_type": "execute_result"
    }
   ],
   "source": [
    "from sklearn.cluster import KMeans\n",
    "km1 = KMeans(random_state = 42, n_clusters = 2)\n",
    "km1.fit(kmer27Table01)"
   ]
  },
  {
   "cell_type": "code",
   "execution_count": 278,
   "metadata": {},
   "outputs": [
    {
     "data": {
      "text/plain": [
       "array([0, 0, 1, 0, 1, 1, 0])"
      ]
     },
     "execution_count": 278,
     "metadata": {},
     "output_type": "execute_result"
    }
   ],
   "source": [
    "# last 7 numbers in array are clusters for virus killers. We want these to all be the same\n",
    "y_hat = km1.predict(kmer27Table01)\n",
    "y_hat[343:]"
   ]
  },
  {
   "cell_type": "code",
   "execution_count": 217,
   "metadata": {},
   "outputs": [
    {
     "name": "stdout",
     "output_type": "stream",
     "text": [
      "22789\n",
      "16641\n"
     ]
    }
   ],
   "source": [
    "print(len(kmer27Table01.columns))\n",
    "print(len(kmer7Table01.columns))"
   ]
  },
  {
   "cell_type": "code",
   "execution_count": 233,
   "metadata": {},
   "outputs": [],
   "source": [
    "# Visulization attempt"
   ]
  },
  {
   "cell_type": "code",
   "execution_count": 258,
   "metadata": {},
   "outputs": [
    {
     "data": {
      "text/plain": [
       "<matplotlib.axes._subplots.AxesSubplot at 0x1f586ffd888>"
      ]
     },
     "execution_count": 258,
     "metadata": {},
     "output_type": "execute_result"
    },
    {
     "data": {
      "image/png": "[encoded data removed]",
      "text/plain": [
       "<Figure size 432x288 with 2 Axes>"
      ]
     },
     "metadata": {
      "needs_background": "light"
     },
     "output_type": "display_data"
    }
   ],
   "source": [
    "# KMeans labels\n",
    "kmer27Table01.plot.scatter(x=7, y=49, c=y_hat, cmap=\"viridis\")"
   ]
  },
  {
   "cell_type": "code",
   "execution_count": 259,
   "metadata": {},
   "outputs": [
    {
     "data": {
      "text/plain": [
       "<matplotlib.axes._subplots.AxesSubplot at 0x1f597238448>"
      ]
     },
     "execution_count": 259,
     "metadata": {},
     "output_type": "execute_result"
    },
    {
     "data": {
      "image/png": "[encoded data removed]",
      "text/plain": [
       "<Figure size 432x288 with 2 Axes>"
      ]
     },
     "metadata": {
      "needs_background": "light"
     },
     "output_type": "display_data"
    }
   ],
   "source": [
    "# actual labels\n",
    "kmer27Table01.plot.scatter(x=7, y=49, c=labels, cmap=\"viridis\")"
   ]
  },
  {
   "cell_type": "markdown",
   "metadata": {},
   "source": [
    "#### KMeans (try 2)"
   ]
  },
  {
   "cell_type": "code",
   "execution_count": 267,
   "metadata": {},
   "outputs": [
    {
     "data": {
      "text/plain": [
       "KMeans(algorithm='auto', copy_x=True, init='k-means++', max_iter=300,\n",
       "       n_clusters=2, n_init=10, n_jobs=None, precompute_distances='auto',\n",
       "       random_state=42, tol=0.0001, verbose=0)"
      ]
     },
     "execution_count": 267,
     "metadata": {},
     "output_type": "execute_result"
    }
   ],
   "source": [
    "from sklearn.cluster import KMeans\n",
    "km2 = KMeans(random_state = 42, n_clusters = 2)\n",
    "# only use columns that confirmed virus killers have no zeros in and kmer legnths 2 t 7\n",
    "cols = kmer27Table1.loc[:, (kmer27Table1 == 0).any(axis=0) != True].columns\n",
    "km2.fit(kmer27Table01[cols])"
   ]
  },
  {
   "cell_type": "code",
   "execution_count": 269,
   "metadata": {},
   "outputs": [
    {
     "data": {
      "text/plain": [
       "array([0, 0, 1, 0, 1, 1, 0])"
      ]
     },
     "execution_count": 269,
     "metadata": {},
     "output_type": "execute_result"
    }
   ],
   "source": [
    "# last 7 numbers in array are clusters for virus killers\n",
    "y_hat = km2.predict(kmer27Table01[cols])\n",
    "y_hat[343:]"
   ]
  },
  {
   "cell_type": "markdown",
   "metadata": {},
   "source": [
    "#### KMeans (try 3)"
   ]
  },
  {
   "cell_type": "code",
   "execution_count": 270,
   "metadata": {},
   "outputs": [
    {
     "data": {
      "text/plain": [
       "KMeans(algorithm='auto', copy_x=True, init='k-means++', max_iter=300,\n",
       "       n_clusters=2, n_init=10, n_jobs=None, precompute_distances='auto',\n",
       "       random_state=42, tol=0.0001, verbose=0)"
      ]
     },
     "execution_count": 270,
     "metadata": {},
     "output_type": "execute_result"
    }
   ],
   "source": [
    "from sklearn.cluster import KMeans\n",
    "km3 = KMeans(random_state = 42, n_clusters = 2)\n",
    "# only use kmers of length 7\n",
    "km3.fit(kmer7Table01)"
   ]
  },
  {
   "cell_type": "code",
   "execution_count": 271,
   "metadata": {},
   "outputs": [
    {
     "data": {
      "text/plain": [
       "array([1, 1, 1, 1, 0, 0, 1])"
      ]
     },
     "execution_count": 271,
     "metadata": {},
     "output_type": "execute_result"
    }
   ],
   "source": [
    "# last 7 numbers in array are clusters for virus killers\n",
    "y_hat = km3.predict(kmer7Table01)\n",
    "y_hat[343:]"
   ]
  },
  {
   "cell_type": "markdown",
   "metadata": {},
   "source": [
    "#### KMeans (try 4) best!"
   ]
  },
  {
   "cell_type": "code",
   "execution_count": 272,
   "metadata": {},
   "outputs": [
    {
     "data": {
      "text/plain": [
       "KMeans(algorithm='auto', copy_x=True, init='k-means++', max_iter=300,\n",
       "       n_clusters=2, n_init=10, n_jobs=None, precompute_distances='auto',\n",
       "       random_state=42, tol=0.0001, verbose=0)"
      ]
     },
     "execution_count": 272,
     "metadata": {},
     "output_type": "execute_result"
    }
   ],
   "source": [
    "from sklearn.cluster import KMeans\n",
    "km4 = KMeans(random_state = 42, n_clusters = 2)\n",
    "# only use columns that confirmed virus killers have no zeros in for kmer length 7\n",
    "cols = kmer7Table1.loc[:, (kmer7Table1 == 0).any(axis=0) != True].columns\n",
    "km4.fit(kmer7Table01[cols])"
   ]
  },
  {
   "cell_type": "code",
   "execution_count": 274,
   "metadata": {},
   "outputs": [
    {
     "data": {
      "text/plain": [
       "array([1, 1, 1, 1, 1, 1, 1])"
      ]
     },
     "execution_count": 274,
     "metadata": {},
     "output_type": "execute_result"
    }
   ],
   "source": [
    "# last 7 numbers in array are clusters for virus killers\n",
    "y_hat = km4.predict(kmer7Table01[cols])\n",
    "y_hat[343:]"
   ]
  },
  {
   "cell_type": "code",
   "execution_count": 275,
   "metadata": {},
   "outputs": [
    {
     "data": {
      "text/plain": [
       "array([1, 0, 1, 1, 0, 0, 0, 0, 0, 1, 0, 0, 1, 0, 0, 0, 0, 0, 1, 1, 0, 0,\n",
       "       1, 0, 0, 0, 0, 0, 0, 1, 1, 1, 1, 1, 0, 0, 0, 0, 0, 0, 0, 0, 0, 0,\n",
       "       0, 0, 1, 0, 0, 0, 0, 0, 1, 1, 1, 0, 1, 0, 0, 1, 1, 1, 1, 0, 1, 1,\n",
       "       0, 0, 0, 0, 0, 0, 0, 0, 0, 0, 0, 0, 0, 0, 0, 1, 1, 0, 0, 0, 0, 0,\n",
       "       0, 0, 0, 0, 0, 0, 1, 0, 0, 1, 1, 0, 0, 0, 0, 0, 1, 0, 1, 1, 0, 0,\n",
       "       0, 0, 0, 0, 0, 0, 0, 1, 1, 0, 0, 0, 0, 0, 0, 1, 1, 0, 1, 1, 1, 0,\n",
       "       0, 0, 0, 0, 0, 0, 0, 0, 0, 1, 0, 0, 1, 1, 1, 1, 0, 1, 0, 1, 0, 0,\n",
       "       0, 0, 0, 1, 0, 0, 0, 0, 1, 0, 0, 1, 1, 1, 0, 1, 1, 1, 1, 1, 1, 0,\n",
       "       0, 0, 0, 0, 0, 0, 1, 1, 0, 1, 1, 0, 0, 0, 0, 0, 0, 0, 0, 1, 0, 0,\n",
       "       0, 0, 0, 1, 0, 1, 0, 1, 0, 0, 1, 1, 1, 1, 1, 0, 0, 0, 0, 0, 0, 1,\n",
       "       1, 1, 1, 0, 0, 0, 0, 0, 0, 0, 1, 1, 1, 1, 1, 1, 1, 1, 0, 0, 1, 1,\n",
       "       1, 0, 0, 0, 0, 1, 1, 0, 1, 1, 0, 0, 0, 1, 1, 0, 1, 1, 1, 0, 1, 0,\n",
       "       0, 1, 0, 0, 0, 1, 0, 0, 0, 0, 0, 1, 0, 0, 0, 0, 0, 0, 0, 1, 0, 0,\n",
       "       0, 0, 0, 0, 0, 1, 0, 1, 0, 0, 0, 1, 0, 1, 0, 0, 0, 1, 0, 0, 0, 0,\n",
       "       0, 0, 0, 0, 1, 1, 0, 0, 1, 0, 0, 1, 1, 1, 1, 1, 1, 0, 1, 1, 0, 1,\n",
       "       0, 1, 1, 1, 1, 1, 0, 0, 0, 0, 1, 1, 1, 1, 1, 1, 1, 1, 1, 1])"
      ]
     },
     "execution_count": 275,
     "metadata": {},
     "output_type": "execute_result"
    }
   ],
   "source": [
    "y_hat"
   ]
  },
  {
   "cell_type": "code",
   "execution_count": 282,
   "metadata": {},
   "outputs": [
    {
     "name": "stdout",
     "output_type": "stream",
     "text": [
      "34\n"
     ]
    }
   ],
   "source": [
    "print(len(kmer7Table01[cols].columns))"
   ]
  },
  {
   "cell_type": "code",
   "execution_count": 285,
   "metadata": {},
   "outputs": [
    {
     "data": {
      "text/plain": [
       "<matplotlib.axes._subplots.AxesSubplot at 0x1f59721f1c8>"
      ]
     },
     "execution_count": 285,
     "metadata": {},
     "output_type": "execute_result"
    },
    {
     "data": {
      "image/png": "[encoded data removed]",
      "text/plain": [
       "<Figure size 432x288 with 2 Axes>"
      ]
     },
     "metadata": {
      "needs_background": "light"
     },
     "output_type": "display_data"
    }
   ],
   "source": [
    "# KMeans labels\n",
    "kmer7Table01[cols].plot.scatter(x=4, y=12, c=y_hat, cmap=\"viridis\")"
   ]
  },
  {
   "cell_type": "code",
   "execution_count": 286,
   "metadata": {},
   "outputs": [
    {
     "data": {
      "text/plain": [
       "<matplotlib.axes._subplots.AxesSubplot at 0x1f597128b88>"
      ]
     },
     "execution_count": 286,
     "metadata": {},
     "output_type": "execute_result"
    },
    {
     "data": {
      "image/png": "[encoded data removed]",
      "text/plain": [
       "<Figure size 432x288 with 2 Axes>"
      ]
     },
     "metadata": {
      "needs_background": "light"
     },
     "output_type": "display_data"
    }
   ],
   "source": [
    "# actual labels\n",
    "kmer7Table01[cols].plot.scatter(x=4, y=12, c=labels, cmap=\"viridis\")"
   ]
  },
  {
   "cell_type": "markdown",
   "metadata": {},
   "source": [
    "#### PCA"
   ]
  },
  {
   "cell_type": "code",
   "execution_count": 211,
   "metadata": {},
   "outputs": [
    {
     "data": {
      "text/plain": [
       "PCA(copy=True, iterated_power='auto', n_components=None, random_state=None,\n",
       "    svd_solver='auto', tol=0.0, whiten=False)"
      ]
     },
     "execution_count": 211,
     "metadata": {},
     "output_type": "execute_result"
    }
   ],
   "source": [
    "from sklearn.decomposition import PCA\n",
    "embedding = PCA()\n",
    "embedding.fit(kmer27Table01)"
   ]
  },
  {
   "cell_type": "code",
   "execution_count": 212,
   "metadata": {},
   "outputs": [
    {
     "data": {
      "text/plain": [
       "dimensions\n",
       "1    0.348472\n",
       "2    0.127270\n",
       "3    0.049630\n",
       "4    0.037235\n",
       "5    0.034573\n",
       "dtype: float64"
      ]
     },
     "execution_count": 212,
     "metadata": {},
     "output_type": "execute_result"
    }
   ],
   "source": [
    "dimensions = pd.Index(range(1,embedding.n_components_ + 1), name=\"dimensions\")\n",
    "dimensions_ratio = pd.Series(embedding.explained_variance_ratio_, index=dims)\n",
    "dimensions_ratio.head()"
   ]
  },
  {
   "cell_type": "code",
   "execution_count": 223,
   "metadata": {},
   "outputs": [
    {
     "data": {
      "text/plain": [
       "<matplotlib.axes._subplots.AxesSubplot at 0x1f58dc6d4c8>"
      ]
     },
     "execution_count": 223,
     "metadata": {},
     "output_type": "execute_result"
    },
    {
     "data": {
      "image/png": "[encoded data removed]",
      "text/plain": [
       "<Figure size 432x288 with 1 Axes>"
      ]
     },
     "metadata": {
      "needs_background": "light"
     },
     "output_type": "display_data"
    }
   ],
   "source": [
    "# Importance of each dimension\n",
    "dimensions_ratio.cumsum().plot(grid=True)"
   ]
  },
  {
   "cell_type": "code",
   "execution_count": 221,
   "metadata": {},
   "outputs": [
    {
     "data": {
      "text/plain": [
       "<matplotlib.axes._subplots.AxesSubplot at 0x1f586fdef48>"
      ]
     },
     "execution_count": 221,
     "metadata": {},
     "output_type": "execute_result"
    },
    {
     "data": {
      "image/png": "[encoded data removed]",
      "text/plain": [
       "<Figure size 432x288 with 2 Axes>"
      ]
     },
     "metadata": {
      "needs_background": "light"
     },
     "output_type": "display_data"
    }
   ],
   "source": [
    "# Plotting the two most important dimensions against each other\n",
    "import matplotlib.pyplot as plt\n",
    "\n",
    "show = pd.DataFrame(embedding.transform(kmer27Table01))\n",
    "show.plot.scatter(x=0, y=1, style=\"o\", c=labels, cmap = \"viridis\", s=2)"
   ]
  }
 ],
 "metadata": {
  "kernelspec": {
   "display_name": "Python 3",
   "language": "python",
   "name": "python3"
  },
  "language_info": {
   "codemirror_mode": {
    "name": "ipython",
    "version": 3
   },
   "file_extension": ".py",
   "mimetype": "text/x-python",
   "name": "python",
   "nbconvert_exporter": "python",
   "pygments_lexer": "ipython3",
   "version": "3.7.4"
  }
 },
 "nbformat": 4,
 "nbformat_minor": 4
}
