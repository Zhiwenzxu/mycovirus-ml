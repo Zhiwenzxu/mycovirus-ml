{
 "cells": [
  {
   "cell_type": "markdown",
   "metadata": {},
   "source": [
    "# Summary:\n",
    "---\n",
    "\n",
    "1. This notebook is a workspace for general scratchwork"
   ]
  },
  {
   "cell_type": "markdown",
   "metadata": {},
   "source": [
    "### Read Files"
   ]
  },
  {
   "cell_type": "code",
   "execution_count": 1,
   "metadata": {},
   "outputs": [],
   "source": [
    "import pandas as pd\n",
    "from Bio import SeqIO"
   ]
  },
  {
   "cell_type": "code",
   "execution_count": 2,
   "metadata": {},
   "outputs": [],
   "source": [
    "# parse attempt 2 from dataParsing notebook\n",
    "def parseFasta(data):\n",
    "    d = {fasta.id : str(fasta.seq) for fasta in SeqIO.parse(data, \"fasta\")}\n",
    "    pd.DataFrame([d])\n",
    "\n",
    "    s = pd.Series(d, name='Sequence')\n",
    "    s.index.name = 'ID'\n",
    "    s.reset_index()\n",
    "    return pd.DataFrame(s)"
   ]
  },
  {
   "cell_type": "code",
   "execution_count": 3,
   "metadata": {},
   "outputs": [
    {
     "data": {
      "text/html": [
       "<div>\n",
       "<style scoped>\n",
       "    .dataframe tbody tr th:only-of-type {\n",
       "        vertical-align: middle;\n",
       "    }\n",
       "\n",
       "    .dataframe tbody tr th {\n",
       "        vertical-align: top;\n",
       "    }\n",
       "\n",
       "    .dataframe thead th {\n",
       "        text-align: right;\n",
       "    }\n",
       "</style>\n",
       "<table border=\"1\" class=\"dataframe\">\n",
       "  <thead>\n",
       "    <tr style=\"text-align: right;\">\n",
       "      <th></th>\n",
       "      <th>Sequence</th>\n",
       "    </tr>\n",
       "    <tr>\n",
       "      <th>ID</th>\n",
       "      <th></th>\n",
       "    </tr>\n",
       "  </thead>\n",
       "  <tbody>\n",
       "    <tr>\n",
       "      <th>NC_007415.1</th>\n",
       "      <td>CTTTAGTAAATACCACCGCCTCTTAATAAGTCTCGAGGCACTCCCC...</td>\n",
       "    </tr>\n",
       "    <tr>\n",
       "      <th>NC_015939.1</th>\n",
       "      <td>GGGGTGATGGGAAACTTACGTTTCGCCAACGTTAAGGTACTGTGAT...</td>\n",
       "    </tr>\n",
       "    <tr>\n",
       "      <th>NC_022896.1</th>\n",
       "      <td>TTTTTGGGGATGGTACTCTCAGGTTTGATCTTTGTAGATCCTAACT...</td>\n",
       "    </tr>\n",
       "    <tr>\n",
       "      <th>NC_026510.1</th>\n",
       "      <td>TTGGCTCCTGGAGACCGTTAGGTCCCCAGAAGCGGTTCAATAGAAC...</td>\n",
       "    </tr>\n",
       "    <tr>\n",
       "      <th>NC_027138.1</th>\n",
       "      <td>GCAATAAAAAGCACAGCCGGAAGGCTTTCTTTTTATTGCCCAGTTT...</td>\n",
       "    </tr>\n",
       "    <tr>\n",
       "      <th>NC_027139.1</th>\n",
       "      <td>GCAATAAAAAGCACAGCCGGAAGGCTTTCTTTTTATTGCCCAGTTT...</td>\n",
       "    </tr>\n",
       "    <tr>\n",
       "      <th>NC_025383.1</th>\n",
       "      <td>AGGGAGTATTATAATTACCTTCGTAGTTGTTCTTACTCTCTGGTAC...</td>\n",
       "    </tr>\n",
       "  </tbody>\n",
       "</table>\n",
       "</div>"
      ],
      "text/plain": [
       "                                                      Sequence\n",
       "ID                                                            \n",
       "NC_007415.1  CTTTAGTAAATACCACCGCCTCTTAATAAGTCTCGAGGCACTCCCC...\n",
       "NC_015939.1  GGGGTGATGGGAAACTTACGTTTCGCCAACGTTAAGGTACTGTGAT...\n",
       "NC_022896.1  TTTTTGGGGATGGTACTCTCAGGTTTGATCTTTGTAGATCCTAACT...\n",
       "NC_026510.1  TTGGCTCCTGGAGACCGTTAGGTCCCCAGAAGCGGTTCAATAGAAC...\n",
       "NC_027138.1  GCAATAAAAAGCACAGCCGGAAGGCTTTCTTTTTATTGCCCAGTTT...\n",
       "NC_027139.1  GCAATAAAAAGCACAGCCGGAAGGCTTTCTTTTTATTGCCCAGTTT...\n",
       "NC_025383.1  AGGGAGTATTATAATTACCTTCGTAGTTGTTCTTACTCTCTGGTAC..."
      ]
     },
     "execution_count": 3,
     "metadata": {},
     "output_type": "execute_result"
    }
   ],
   "source": [
    "virus1 = parseFasta(\"data/Sclerotinia_biocontrol_mycovirus_nucleotide.fasta\")\n",
    "virus1"
   ]
  },
  {
   "cell_type": "code",
   "execution_count": 4,
   "metadata": {},
   "outputs": [],
   "source": [
    "virus01 = parseFasta(\"data/mycovirus_genbank_all_refseq_nucleotide_unique.fasta\")"
   ]
  },
  {
   "cell_type": "code",
   "execution_count": 5,
   "metadata": {},
   "outputs": [
    {
     "data": {
      "text/html": [
       "<div>\n",
       "<style scoped>\n",
       "    .dataframe tbody tr th:only-of-type {\n",
       "        vertical-align: middle;\n",
       "    }\n",
       "\n",
       "    .dataframe tbody tr th {\n",
       "        vertical-align: top;\n",
       "    }\n",
       "\n",
       "    .dataframe thead th {\n",
       "        text-align: right;\n",
       "    }\n",
       "</style>\n",
       "<table border=\"1\" class=\"dataframe\">\n",
       "  <thead>\n",
       "    <tr style=\"text-align: right;\">\n",
       "      <th></th>\n",
       "      <th>Sequence</th>\n",
       "    </tr>\n",
       "    <tr>\n",
       "      <th>ID</th>\n",
       "      <th></th>\n",
       "    </tr>\n",
       "  </thead>\n",
       "  <tbody>\n",
       "    <tr>\n",
       "      <th>NC_000960.1</th>\n",
       "      <td>GGGGGTTAGAGAAATCTTGGGAGATTTCTATCGTCATAGACATATG...</td>\n",
       "    </tr>\n",
       "    <tr>\n",
       "      <th>NC_001278.1</th>\n",
       "      <td>GGGAAATTTGTGAGATTATCGCCCTAAAGGATAACTCTCATGCGGG...</td>\n",
       "    </tr>\n",
       "    <tr>\n",
       "      <th>NC_001492.1</th>\n",
       "      <td>GCCTATGGGTGGTCTACATAGGTGAGCATGCGTTGCTCGATATAGA...</td>\n",
       "    </tr>\n",
       "    <tr>\n",
       "      <th>NC_001633.1</th>\n",
       "      <td>ACAAAATAATTGAAGAAATTATTTTTGTTTTACATATTTAGATCTT...</td>\n",
       "    </tr>\n",
       "    <tr>\n",
       "      <th>NC_001641.1</th>\n",
       "      <td>GAATTTTTCGGTGAACCGGAATTATGTCGTCTCTGTTAAATTCATT...</td>\n",
       "    </tr>\n",
       "    <tr>\n",
       "      <th>...</th>\n",
       "      <td>...</td>\n",
       "    </tr>\n",
       "    <tr>\n",
       "      <th>NC_022896.1</th>\n",
       "      <td>TTTTTGGGGATGGTACTCTCAGGTTTGATCTTTGTAGATCCTAACT...</td>\n",
       "    </tr>\n",
       "    <tr>\n",
       "      <th>NC_026510.1</th>\n",
       "      <td>TTGGCTCCTGGAGACCGTTAGGTCCCCAGAAGCGGTTCAATAGAAC...</td>\n",
       "    </tr>\n",
       "    <tr>\n",
       "      <th>NC_027138.1</th>\n",
       "      <td>GCAATAAAAAGCACAGCCGGAAGGCTTTCTTTTTATTGCCCAGTTT...</td>\n",
       "    </tr>\n",
       "    <tr>\n",
       "      <th>NC_027139.1</th>\n",
       "      <td>GCAATAAAAAGCACAGCCGGAAGGCTTTCTTTTTATTGCCCAGTTT...</td>\n",
       "    </tr>\n",
       "    <tr>\n",
       "      <th>NC_025383.1</th>\n",
       "      <td>AGGGAGTATTATAATTACCTTCGTAGTTGTTCTTACTCTCTGGTAC...</td>\n",
       "    </tr>\n",
       "  </tbody>\n",
       "</table>\n",
       "<p>350 rows × 1 columns</p>\n",
       "</div>"
      ],
      "text/plain": [
       "                                                      Sequence\n",
       "ID                                                            \n",
       "NC_000960.1  GGGGGTTAGAGAAATCTTGGGAGATTTCTATCGTCATAGACATATG...\n",
       "NC_001278.1  GGGAAATTTGTGAGATTATCGCCCTAAAGGATAACTCTCATGCGGG...\n",
       "NC_001492.1  GCCTATGGGTGGTCTACATAGGTGAGCATGCGTTGCTCGATATAGA...\n",
       "NC_001633.1  ACAAAATAATTGAAGAAATTATTTTTGTTTTACATATTTAGATCTT...\n",
       "NC_001641.1  GAATTTTTCGGTGAACCGGAATTATGTCGTCTCTGTTAAATTCATT...\n",
       "...                                                        ...\n",
       "NC_022896.1  TTTTTGGGGATGGTACTCTCAGGTTTGATCTTTGTAGATCCTAACT...\n",
       "NC_026510.1  TTGGCTCCTGGAGACCGTTAGGTCCCCAGAAGCGGTTCAATAGAAC...\n",
       "NC_027138.1  GCAATAAAAAGCACAGCCGGAAGGCTTTCTTTTTATTGCCCAGTTT...\n",
       "NC_027139.1  GCAATAAAAAGCACAGCCGGAAGGCTTTCTTTTTATTGCCCAGTTT...\n",
       "NC_025383.1  AGGGAGTATTATAATTACCTTCGTAGTTGTTCTTACTCTCTGGTAC...\n",
       "\n",
       "[350 rows x 1 columns]"
      ]
     },
     "execution_count": 5,
     "metadata": {},
     "output_type": "execute_result"
    }
   ],
   "source": [
    "# put confirmed virus killers at bottom, and removed the duplicates already in the data\n",
    "virus01 = virus01.append(virus1)\n",
    "virus01 = virus01.drop_duplicates(keep=\"last\")\n",
    "virus01"
   ]
  },
  {
   "cell_type": "markdown",
   "metadata": {},
   "source": [
    "### Make KMER Table"
   ]
  },
  {
   "cell_type": "code",
   "execution_count": 6,
   "metadata": {},
   "outputs": [],
   "source": [
    "from sklearn.feature_extraction.text import TfidfVectorizer"
   ]
  },
  {
   "cell_type": "code",
   "execution_count": 7,
   "metadata": {},
   "outputs": [],
   "source": [
    "# testing\n",
    "tfid_vector = TfidfVectorizer(analyzer='char', ngram_range=(1,2))\n",
    "s_hat = tfid_vector.fit_transform(virus1.Sequence)\n",
    "kmers = s_hat.toarray()\n",
    "kmerNames = tfid_vector.get_feature_names()"
   ]
  },
  {
   "cell_type": "code",
   "execution_count": 8,
   "metadata": {},
   "outputs": [],
   "source": [
    "# kmer table with kmers of length a to b\n",
    "def kmerXTable(s, a, b):\n",
    "    tfid_vector = TfidfVectorizer(analyzer='char', ngram_range=(a,b))\n",
    "    s_hat = tfid_vector.fit_transform(s.Sequence)\n",
    "    kmerNames = tfid_vector.get_feature_names()\n",
    "    kmers = s_hat.toarray()\n",
    "    return pd.DataFrame(kmers,columns=kmerNames, index = s.index)"
   ]
  },
  {
   "cell_type": "code",
   "execution_count": 9,
   "metadata": {},
   "outputs": [
    {
     "data": {
      "text/html": [
       "<div>\n",
       "<style scoped>\n",
       "    .dataframe tbody tr th:only-of-type {\n",
       "        vertical-align: middle;\n",
       "    }\n",
       "\n",
       "    .dataframe tbody tr th {\n",
       "        vertical-align: top;\n",
       "    }\n",
       "\n",
       "    .dataframe thead th {\n",
       "        text-align: right;\n",
       "    }\n",
       "</style>\n",
       "<table border=\"1\" class=\"dataframe\">\n",
       "  <thead>\n",
       "    <tr style=\"text-align: right;\">\n",
       "      <th></th>\n",
       "      <th>aaaaaaa</th>\n",
       "      <th>aaaaaac</th>\n",
       "      <th>aaaaaag</th>\n",
       "      <th>aaaaaat</th>\n",
       "      <th>aaaaaca</th>\n",
       "      <th>aaaaacc</th>\n",
       "      <th>aaaaacg</th>\n",
       "      <th>aaaaact</th>\n",
       "      <th>aaaaaga</th>\n",
       "      <th>aaaaagc</th>\n",
       "      <th>...</th>\n",
       "      <th>tttttck</th>\n",
       "      <th>tttttct</th>\n",
       "      <th>tttttga</th>\n",
       "      <th>tttttgc</th>\n",
       "      <th>tttttgg</th>\n",
       "      <th>tttttgt</th>\n",
       "      <th>tttttta</th>\n",
       "      <th>ttttttc</th>\n",
       "      <th>ttttttg</th>\n",
       "      <th>ttttttt</th>\n",
       "    </tr>\n",
       "    <tr>\n",
       "      <th>ID</th>\n",
       "      <th></th>\n",
       "      <th></th>\n",
       "      <th></th>\n",
       "      <th></th>\n",
       "      <th></th>\n",
       "      <th></th>\n",
       "      <th></th>\n",
       "      <th></th>\n",
       "      <th></th>\n",
       "      <th></th>\n",
       "      <th></th>\n",
       "      <th></th>\n",
       "      <th></th>\n",
       "      <th></th>\n",
       "      <th></th>\n",
       "      <th></th>\n",
       "      <th></th>\n",
       "      <th></th>\n",
       "      <th></th>\n",
       "      <th></th>\n",
       "      <th></th>\n",
       "    </tr>\n",
       "  </thead>\n",
       "  <tbody>\n",
       "    <tr>\n",
       "      <th>NC_007415.1</th>\n",
       "      <td>0.413798</td>\n",
       "      <td>0.000000</td>\n",
       "      <td>0.00000</td>\n",
       "      <td>0.000000</td>\n",
       "      <td>0.000000</td>\n",
       "      <td>0.009196</td>\n",
       "      <td>0.012391</td>\n",
       "      <td>0.018391</td>\n",
       "      <td>0.000000</td>\n",
       "      <td>0.000000</td>\n",
       "      <td>...</td>\n",
       "      <td>0.000000</td>\n",
       "      <td>0.000000</td>\n",
       "      <td>0.018391</td>\n",
       "      <td>0.024782</td>\n",
       "      <td>0.000000</td>\n",
       "      <td>0.009196</td>\n",
       "      <td>0.000000</td>\n",
       "      <td>0.009196</td>\n",
       "      <td>0.024782</td>\n",
       "      <td>0.021183</td>\n",
       "    </tr>\n",
       "    <tr>\n",
       "      <th>NC_015939.1</th>\n",
       "      <td>0.219900</td>\n",
       "      <td>0.008231</td>\n",
       "      <td>0.00000</td>\n",
       "      <td>0.014071</td>\n",
       "      <td>0.005351</td>\n",
       "      <td>0.000000</td>\n",
       "      <td>0.000000</td>\n",
       "      <td>0.012217</td>\n",
       "      <td>0.006108</td>\n",
       "      <td>0.000000</td>\n",
       "      <td>...</td>\n",
       "      <td>0.000000</td>\n",
       "      <td>0.008231</td>\n",
       "      <td>0.000000</td>\n",
       "      <td>0.000000</td>\n",
       "      <td>0.012217</td>\n",
       "      <td>0.012217</td>\n",
       "      <td>0.007036</td>\n",
       "      <td>0.000000</td>\n",
       "      <td>0.000000</td>\n",
       "      <td>0.000000</td>\n",
       "    </tr>\n",
       "    <tr>\n",
       "      <th>NC_022896.1</th>\n",
       "      <td>0.120535</td>\n",
       "      <td>0.000000</td>\n",
       "      <td>0.00000</td>\n",
       "      <td>0.000000</td>\n",
       "      <td>0.000000</td>\n",
       "      <td>0.009643</td>\n",
       "      <td>0.006497</td>\n",
       "      <td>0.000000</td>\n",
       "      <td>0.000000</td>\n",
       "      <td>0.000000</td>\n",
       "      <td>...</td>\n",
       "      <td>0.000000</td>\n",
       "      <td>0.000000</td>\n",
       "      <td>0.000000</td>\n",
       "      <td>0.000000</td>\n",
       "      <td>0.014464</td>\n",
       "      <td>0.009643</td>\n",
       "      <td>0.005553</td>\n",
       "      <td>0.000000</td>\n",
       "      <td>0.006497</td>\n",
       "      <td>0.000000</td>\n",
       "    </tr>\n",
       "    <tr>\n",
       "      <th>NC_026510.1</th>\n",
       "      <td>0.000000</td>\n",
       "      <td>0.000000</td>\n",
       "      <td>0.00000</td>\n",
       "      <td>0.000000</td>\n",
       "      <td>0.014261</td>\n",
       "      <td>0.000000</td>\n",
       "      <td>0.000000</td>\n",
       "      <td>0.000000</td>\n",
       "      <td>0.016280</td>\n",
       "      <td>0.000000</td>\n",
       "      <td>...</td>\n",
       "      <td>0.000000</td>\n",
       "      <td>0.000000</td>\n",
       "      <td>0.000000</td>\n",
       "      <td>0.000000</td>\n",
       "      <td>0.000000</td>\n",
       "      <td>0.000000</td>\n",
       "      <td>0.000000</td>\n",
       "      <td>0.000000</td>\n",
       "      <td>0.000000</td>\n",
       "      <td>0.000000</td>\n",
       "    </tr>\n",
       "    <tr>\n",
       "      <th>NC_027138.1</th>\n",
       "      <td>0.000000</td>\n",
       "      <td>0.000000</td>\n",
       "      <td>0.00000</td>\n",
       "      <td>0.000000</td>\n",
       "      <td>0.007853</td>\n",
       "      <td>0.008964</td>\n",
       "      <td>0.000000</td>\n",
       "      <td>0.008964</td>\n",
       "      <td>0.000000</td>\n",
       "      <td>0.012080</td>\n",
       "      <td>...</td>\n",
       "      <td>0.000000</td>\n",
       "      <td>0.000000</td>\n",
       "      <td>0.008964</td>\n",
       "      <td>0.012080</td>\n",
       "      <td>0.000000</td>\n",
       "      <td>0.000000</td>\n",
       "      <td>0.000000</td>\n",
       "      <td>0.008964</td>\n",
       "      <td>0.000000</td>\n",
       "      <td>0.000000</td>\n",
       "    </tr>\n",
       "    <tr>\n",
       "      <th>NC_027139.1</th>\n",
       "      <td>0.000000</td>\n",
       "      <td>0.000000</td>\n",
       "      <td>0.01534</td>\n",
       "      <td>0.010884</td>\n",
       "      <td>0.008278</td>\n",
       "      <td>0.018900</td>\n",
       "      <td>0.000000</td>\n",
       "      <td>0.000000</td>\n",
       "      <td>0.018900</td>\n",
       "      <td>0.012734</td>\n",
       "      <td>...</td>\n",
       "      <td>0.000000</td>\n",
       "      <td>0.000000</td>\n",
       "      <td>0.009450</td>\n",
       "      <td>0.000000</td>\n",
       "      <td>0.009450</td>\n",
       "      <td>0.000000</td>\n",
       "      <td>0.000000</td>\n",
       "      <td>0.009450</td>\n",
       "      <td>0.000000</td>\n",
       "      <td>0.010884</td>\n",
       "    </tr>\n",
       "    <tr>\n",
       "      <th>NC_025383.1</th>\n",
       "      <td>0.006236</td>\n",
       "      <td>0.008403</td>\n",
       "      <td>0.00000</td>\n",
       "      <td>0.028731</td>\n",
       "      <td>0.021851</td>\n",
       "      <td>0.000000</td>\n",
       "      <td>0.000000</td>\n",
       "      <td>0.012472</td>\n",
       "      <td>0.018708</td>\n",
       "      <td>0.000000</td>\n",
       "      <td>...</td>\n",
       "      <td>0.010123</td>\n",
       "      <td>0.008403</td>\n",
       "      <td>0.012472</td>\n",
       "      <td>0.000000</td>\n",
       "      <td>0.006236</td>\n",
       "      <td>0.012472</td>\n",
       "      <td>0.014365</td>\n",
       "      <td>0.012472</td>\n",
       "      <td>0.000000</td>\n",
       "      <td>0.007183</td>\n",
       "    </tr>\n",
       "  </tbody>\n",
       "</table>\n",
       "<p>7 rows × 15057 columns</p>\n",
       "</div>"
      ],
      "text/plain": [
       "              aaaaaaa   aaaaaac  aaaaaag   aaaaaat   aaaaaca   aaaaacc  \\\n",
       "ID                                                                       \n",
       "NC_007415.1  0.413798  0.000000  0.00000  0.000000  0.000000  0.009196   \n",
       "NC_015939.1  0.219900  0.008231  0.00000  0.014071  0.005351  0.000000   \n",
       "NC_022896.1  0.120535  0.000000  0.00000  0.000000  0.000000  0.009643   \n",
       "NC_026510.1  0.000000  0.000000  0.00000  0.000000  0.014261  0.000000   \n",
       "NC_027138.1  0.000000  0.000000  0.00000  0.000000  0.007853  0.008964   \n",
       "NC_027139.1  0.000000  0.000000  0.01534  0.010884  0.008278  0.018900   \n",
       "NC_025383.1  0.006236  0.008403  0.00000  0.028731  0.021851  0.000000   \n",
       "\n",
       "              aaaaacg   aaaaact   aaaaaga   aaaaagc  ...   tttttck   tttttct  \\\n",
       "ID                                                   ...                       \n",
       "NC_007415.1  0.012391  0.018391  0.000000  0.000000  ...  0.000000  0.000000   \n",
       "NC_015939.1  0.000000  0.012217  0.006108  0.000000  ...  0.000000  0.008231   \n",
       "NC_022896.1  0.006497  0.000000  0.000000  0.000000  ...  0.000000  0.000000   \n",
       "NC_026510.1  0.000000  0.000000  0.016280  0.000000  ...  0.000000  0.000000   \n",
       "NC_027138.1  0.000000  0.008964  0.000000  0.012080  ...  0.000000  0.000000   \n",
       "NC_027139.1  0.000000  0.000000  0.018900  0.012734  ...  0.000000  0.000000   \n",
       "NC_025383.1  0.000000  0.012472  0.018708  0.000000  ...  0.010123  0.008403   \n",
       "\n",
       "              tttttga   tttttgc   tttttgg   tttttgt   tttttta   ttttttc  \\\n",
       "ID                                                                        \n",
       "NC_007415.1  0.018391  0.024782  0.000000  0.009196  0.000000  0.009196   \n",
       "NC_015939.1  0.000000  0.000000  0.012217  0.012217  0.007036  0.000000   \n",
       "NC_022896.1  0.000000  0.000000  0.014464  0.009643  0.005553  0.000000   \n",
       "NC_026510.1  0.000000  0.000000  0.000000  0.000000  0.000000  0.000000   \n",
       "NC_027138.1  0.008964  0.012080  0.000000  0.000000  0.000000  0.008964   \n",
       "NC_027139.1  0.009450  0.000000  0.009450  0.000000  0.000000  0.009450   \n",
       "NC_025383.1  0.012472  0.000000  0.006236  0.012472  0.014365  0.012472   \n",
       "\n",
       "              ttttttg   ttttttt  \n",
       "ID                               \n",
       "NC_007415.1  0.024782  0.021183  \n",
       "NC_015939.1  0.000000  0.000000  \n",
       "NC_022896.1  0.006497  0.000000  \n",
       "NC_026510.1  0.000000  0.000000  \n",
       "NC_027138.1  0.000000  0.000000  \n",
       "NC_027139.1  0.000000  0.010884  \n",
       "NC_025383.1  0.000000  0.007183  \n",
       "\n",
       "[7 rows x 15057 columns]"
      ]
     },
     "execution_count": 9,
     "metadata": {},
     "output_type": "execute_result"
    }
   ],
   "source": [
    "kmer7Table1 = kmerXTable(virus1, 7,7)\n",
    "kmer7Table1"
   ]
  },
  {
   "cell_type": "code",
   "execution_count": 10,
   "metadata": {},
   "outputs": [],
   "source": [
    "kmer27Table1 = kmerXTable(virus1, 2,7)"
   ]
  },
  {
   "cell_type": "code",
   "execution_count": 11,
   "metadata": {},
   "outputs": [],
   "source": [
    "kmer7Table01 = kmerXTable(virus01, 7,7)"
   ]
  },
  {
   "cell_type": "code",
   "execution_count": 12,
   "metadata": {},
   "outputs": [],
   "source": [
    "kmer27Table01 = kmerXTable(virus01, 2,7)"
   ]
  },
  {
   "cell_type": "markdown",
   "metadata": {},
   "source": [
    "### Find importance of KMERs"
   ]
  },
  {
   "cell_type": "code",
   "execution_count": 13,
   "metadata": {},
   "outputs": [
    {
     "data": {
      "text/html": [
       "<div>\n",
       "<style scoped>\n",
       "    .dataframe tbody tr th:only-of-type {\n",
       "        vertical-align: middle;\n",
       "    }\n",
       "\n",
       "    .dataframe tbody tr th {\n",
       "        vertical-align: top;\n",
       "    }\n",
       "\n",
       "    .dataframe thead th {\n",
       "        text-align: right;\n",
       "    }\n",
       "</style>\n",
       "<table border=\"1\" class=\"dataframe\">\n",
       "  <thead>\n",
       "    <tr style=\"text-align: right;\">\n",
       "      <th></th>\n",
       "      <th>aaaaaaa</th>\n",
       "      <th>aaaaaac</th>\n",
       "      <th>aaaaaag</th>\n",
       "      <th>aaaaaat</th>\n",
       "      <th>aaaaaca</th>\n",
       "      <th>aaaaacc</th>\n",
       "      <th>aaaaacg</th>\n",
       "      <th>aaaaact</th>\n",
       "      <th>aaaaaga</th>\n",
       "      <th>aaaaagc</th>\n",
       "      <th>...</th>\n",
       "      <th>tttttck</th>\n",
       "      <th>tttttct</th>\n",
       "      <th>tttttga</th>\n",
       "      <th>tttttgc</th>\n",
       "      <th>tttttgg</th>\n",
       "      <th>tttttgt</th>\n",
       "      <th>tttttta</th>\n",
       "      <th>ttttttc</th>\n",
       "      <th>ttttttg</th>\n",
       "      <th>ttttttt</th>\n",
       "    </tr>\n",
       "    <tr>\n",
       "      <th>ID</th>\n",
       "      <th></th>\n",
       "      <th></th>\n",
       "      <th></th>\n",
       "      <th></th>\n",
       "      <th></th>\n",
       "      <th></th>\n",
       "      <th></th>\n",
       "      <th></th>\n",
       "      <th></th>\n",
       "      <th></th>\n",
       "      <th></th>\n",
       "      <th></th>\n",
       "      <th></th>\n",
       "      <th></th>\n",
       "      <th></th>\n",
       "      <th></th>\n",
       "      <th></th>\n",
       "      <th></th>\n",
       "      <th></th>\n",
       "      <th></th>\n",
       "      <th></th>\n",
       "    </tr>\n",
       "  </thead>\n",
       "  <tbody>\n",
       "    <tr>\n",
       "      <th>NC_007415.1</th>\n",
       "      <td>0.413798</td>\n",
       "      <td>0.000000</td>\n",
       "      <td>0.00000</td>\n",
       "      <td>0.000000</td>\n",
       "      <td>0.000000</td>\n",
       "      <td>0.009196</td>\n",
       "      <td>0.012391</td>\n",
       "      <td>0.018391</td>\n",
       "      <td>0.000000</td>\n",
       "      <td>0.000000</td>\n",
       "      <td>...</td>\n",
       "      <td>0.000000</td>\n",
       "      <td>0.000000</td>\n",
       "      <td>0.018391</td>\n",
       "      <td>0.024782</td>\n",
       "      <td>0.000000</td>\n",
       "      <td>0.009196</td>\n",
       "      <td>0.000000</td>\n",
       "      <td>0.009196</td>\n",
       "      <td>0.024782</td>\n",
       "      <td>0.021183</td>\n",
       "    </tr>\n",
       "    <tr>\n",
       "      <th>NC_015939.1</th>\n",
       "      <td>0.219900</td>\n",
       "      <td>0.008231</td>\n",
       "      <td>0.00000</td>\n",
       "      <td>0.014071</td>\n",
       "      <td>0.005351</td>\n",
       "      <td>0.000000</td>\n",
       "      <td>0.000000</td>\n",
       "      <td>0.012217</td>\n",
       "      <td>0.006108</td>\n",
       "      <td>0.000000</td>\n",
       "      <td>...</td>\n",
       "      <td>0.000000</td>\n",
       "      <td>0.008231</td>\n",
       "      <td>0.000000</td>\n",
       "      <td>0.000000</td>\n",
       "      <td>0.012217</td>\n",
       "      <td>0.012217</td>\n",
       "      <td>0.007036</td>\n",
       "      <td>0.000000</td>\n",
       "      <td>0.000000</td>\n",
       "      <td>0.000000</td>\n",
       "    </tr>\n",
       "    <tr>\n",
       "      <th>NC_022896.1</th>\n",
       "      <td>0.120535</td>\n",
       "      <td>0.000000</td>\n",
       "      <td>0.00000</td>\n",
       "      <td>0.000000</td>\n",
       "      <td>0.000000</td>\n",
       "      <td>0.009643</td>\n",
       "      <td>0.006497</td>\n",
       "      <td>0.000000</td>\n",
       "      <td>0.000000</td>\n",
       "      <td>0.000000</td>\n",
       "      <td>...</td>\n",
       "      <td>0.000000</td>\n",
       "      <td>0.000000</td>\n",
       "      <td>0.000000</td>\n",
       "      <td>0.000000</td>\n",
       "      <td>0.014464</td>\n",
       "      <td>0.009643</td>\n",
       "      <td>0.005553</td>\n",
       "      <td>0.000000</td>\n",
       "      <td>0.006497</td>\n",
       "      <td>0.000000</td>\n",
       "    </tr>\n",
       "    <tr>\n",
       "      <th>NC_026510.1</th>\n",
       "      <td>0.000000</td>\n",
       "      <td>0.000000</td>\n",
       "      <td>0.00000</td>\n",
       "      <td>0.000000</td>\n",
       "      <td>0.014261</td>\n",
       "      <td>0.000000</td>\n",
       "      <td>0.000000</td>\n",
       "      <td>0.000000</td>\n",
       "      <td>0.016280</td>\n",
       "      <td>0.000000</td>\n",
       "      <td>...</td>\n",
       "      <td>0.000000</td>\n",
       "      <td>0.000000</td>\n",
       "      <td>0.000000</td>\n",
       "      <td>0.000000</td>\n",
       "      <td>0.000000</td>\n",
       "      <td>0.000000</td>\n",
       "      <td>0.000000</td>\n",
       "      <td>0.000000</td>\n",
       "      <td>0.000000</td>\n",
       "      <td>0.000000</td>\n",
       "    </tr>\n",
       "    <tr>\n",
       "      <th>NC_027138.1</th>\n",
       "      <td>0.000000</td>\n",
       "      <td>0.000000</td>\n",
       "      <td>0.00000</td>\n",
       "      <td>0.000000</td>\n",
       "      <td>0.007853</td>\n",
       "      <td>0.008964</td>\n",
       "      <td>0.000000</td>\n",
       "      <td>0.008964</td>\n",
       "      <td>0.000000</td>\n",
       "      <td>0.012080</td>\n",
       "      <td>...</td>\n",
       "      <td>0.000000</td>\n",
       "      <td>0.000000</td>\n",
       "      <td>0.008964</td>\n",
       "      <td>0.012080</td>\n",
       "      <td>0.000000</td>\n",
       "      <td>0.000000</td>\n",
       "      <td>0.000000</td>\n",
       "      <td>0.008964</td>\n",
       "      <td>0.000000</td>\n",
       "      <td>0.000000</td>\n",
       "    </tr>\n",
       "    <tr>\n",
       "      <th>NC_027139.1</th>\n",
       "      <td>0.000000</td>\n",
       "      <td>0.000000</td>\n",
       "      <td>0.01534</td>\n",
       "      <td>0.010884</td>\n",
       "      <td>0.008278</td>\n",
       "      <td>0.018900</td>\n",
       "      <td>0.000000</td>\n",
       "      <td>0.000000</td>\n",
       "      <td>0.018900</td>\n",
       "      <td>0.012734</td>\n",
       "      <td>...</td>\n",
       "      <td>0.000000</td>\n",
       "      <td>0.000000</td>\n",
       "      <td>0.009450</td>\n",
       "      <td>0.000000</td>\n",
       "      <td>0.009450</td>\n",
       "      <td>0.000000</td>\n",
       "      <td>0.000000</td>\n",
       "      <td>0.009450</td>\n",
       "      <td>0.000000</td>\n",
       "      <td>0.010884</td>\n",
       "    </tr>\n",
       "    <tr>\n",
       "      <th>NC_025383.1</th>\n",
       "      <td>0.006236</td>\n",
       "      <td>0.008403</td>\n",
       "      <td>0.00000</td>\n",
       "      <td>0.028731</td>\n",
       "      <td>0.021851</td>\n",
       "      <td>0.000000</td>\n",
       "      <td>0.000000</td>\n",
       "      <td>0.012472</td>\n",
       "      <td>0.018708</td>\n",
       "      <td>0.000000</td>\n",
       "      <td>...</td>\n",
       "      <td>0.010123</td>\n",
       "      <td>0.008403</td>\n",
       "      <td>0.012472</td>\n",
       "      <td>0.000000</td>\n",
       "      <td>0.006236</td>\n",
       "      <td>0.012472</td>\n",
       "      <td>0.014365</td>\n",
       "      <td>0.012472</td>\n",
       "      <td>0.000000</td>\n",
       "      <td>0.007183</td>\n",
       "    </tr>\n",
       "  </tbody>\n",
       "</table>\n",
       "<p>7 rows × 15023 columns</p>\n",
       "</div>"
      ],
      "text/plain": [
       "              aaaaaaa   aaaaaac  aaaaaag   aaaaaat   aaaaaca   aaaaacc  \\\n",
       "ID                                                                       \n",
       "NC_007415.1  0.413798  0.000000  0.00000  0.000000  0.000000  0.009196   \n",
       "NC_015939.1  0.219900  0.008231  0.00000  0.014071  0.005351  0.000000   \n",
       "NC_022896.1  0.120535  0.000000  0.00000  0.000000  0.000000  0.009643   \n",
       "NC_026510.1  0.000000  0.000000  0.00000  0.000000  0.014261  0.000000   \n",
       "NC_027138.1  0.000000  0.000000  0.00000  0.000000  0.007853  0.008964   \n",
       "NC_027139.1  0.000000  0.000000  0.01534  0.010884  0.008278  0.018900   \n",
       "NC_025383.1  0.006236  0.008403  0.00000  0.028731  0.021851  0.000000   \n",
       "\n",
       "              aaaaacg   aaaaact   aaaaaga   aaaaagc  ...   tttttck   tttttct  \\\n",
       "ID                                                   ...                       \n",
       "NC_007415.1  0.012391  0.018391  0.000000  0.000000  ...  0.000000  0.000000   \n",
       "NC_015939.1  0.000000  0.012217  0.006108  0.000000  ...  0.000000  0.008231   \n",
       "NC_022896.1  0.006497  0.000000  0.000000  0.000000  ...  0.000000  0.000000   \n",
       "NC_026510.1  0.000000  0.000000  0.016280  0.000000  ...  0.000000  0.000000   \n",
       "NC_027138.1  0.000000  0.008964  0.000000  0.012080  ...  0.000000  0.000000   \n",
       "NC_027139.1  0.000000  0.000000  0.018900  0.012734  ...  0.000000  0.000000   \n",
       "NC_025383.1  0.000000  0.012472  0.018708  0.000000  ...  0.010123  0.008403   \n",
       "\n",
       "              tttttga   tttttgc   tttttgg   tttttgt   tttttta   ttttttc  \\\n",
       "ID                                                                        \n",
       "NC_007415.1  0.018391  0.024782  0.000000  0.009196  0.000000  0.009196   \n",
       "NC_015939.1  0.000000  0.000000  0.012217  0.012217  0.007036  0.000000   \n",
       "NC_022896.1  0.000000  0.000000  0.014464  0.009643  0.005553  0.000000   \n",
       "NC_026510.1  0.000000  0.000000  0.000000  0.000000  0.000000  0.000000   \n",
       "NC_027138.1  0.008964  0.012080  0.000000  0.000000  0.000000  0.008964   \n",
       "NC_027139.1  0.009450  0.000000  0.009450  0.000000  0.000000  0.009450   \n",
       "NC_025383.1  0.012472  0.000000  0.006236  0.012472  0.014365  0.012472   \n",
       "\n",
       "              ttttttg   ttttttt  \n",
       "ID                               \n",
       "NC_007415.1  0.024782  0.021183  \n",
       "NC_015939.1  0.000000  0.000000  \n",
       "NC_022896.1  0.006497  0.000000  \n",
       "NC_026510.1  0.000000  0.000000  \n",
       "NC_027138.1  0.000000  0.000000  \n",
       "NC_027139.1  0.000000  0.010884  \n",
       "NC_025383.1  0.000000  0.007183  \n",
       "\n",
       "[7 rows x 15023 columns]"
      ]
     },
     "execution_count": 13,
     "metadata": {},
     "output_type": "execute_result"
    }
   ],
   "source": [
    "# all columns that contain zeros for virus1\n",
    "kmer7Table1.loc[:, (kmer7Table1 == 0).any(axis=0) == True]"
   ]
  },
  {
   "cell_type": "code",
   "execution_count": 14,
   "metadata": {},
   "outputs": [
    {
     "data": {
      "text/html": [
       "<div>\n",
       "<style scoped>\n",
       "    .dataframe tbody tr th:only-of-type {\n",
       "        vertical-align: middle;\n",
       "    }\n",
       "\n",
       "    .dataframe tbody tr th {\n",
       "        vertical-align: top;\n",
       "    }\n",
       "\n",
       "    .dataframe thead th {\n",
       "        text-align: right;\n",
       "    }\n",
       "</style>\n",
       "<table border=\"1\" class=\"dataframe\">\n",
       "  <thead>\n",
       "    <tr style=\"text-align: right;\">\n",
       "      <th></th>\n",
       "      <th>aaaacaa</th>\n",
       "      <th>aactttt</th>\n",
       "      <th>aagatga</th>\n",
       "      <th>aatcaaa</th>\n",
       "      <th>acaaata</th>\n",
       "      <th>agaagaa</th>\n",
       "      <th>agatttc</th>\n",
       "      <th>aggaatt</th>\n",
       "      <th>aggagat</th>\n",
       "      <th>aggttga</th>\n",
       "      <th>...</th>\n",
       "      <th>tcaagga</th>\n",
       "      <th>tcacaag</th>\n",
       "      <th>tcttgga</th>\n",
       "      <th>tggaaag</th>\n",
       "      <th>tggaatt</th>\n",
       "      <th>ttcaaag</th>\n",
       "      <th>ttctttc</th>\n",
       "      <th>ttgaaga</th>\n",
       "      <th>ttggaaa</th>\n",
       "      <th>ttttgat</th>\n",
       "    </tr>\n",
       "    <tr>\n",
       "      <th>ID</th>\n",
       "      <th></th>\n",
       "      <th></th>\n",
       "      <th></th>\n",
       "      <th></th>\n",
       "      <th></th>\n",
       "      <th></th>\n",
       "      <th></th>\n",
       "      <th></th>\n",
       "      <th></th>\n",
       "      <th></th>\n",
       "      <th></th>\n",
       "      <th></th>\n",
       "      <th></th>\n",
       "      <th></th>\n",
       "      <th></th>\n",
       "      <th></th>\n",
       "      <th></th>\n",
       "      <th></th>\n",
       "      <th></th>\n",
       "      <th></th>\n",
       "      <th></th>\n",
       "    </tr>\n",
       "  </thead>\n",
       "  <tbody>\n",
       "    <tr>\n",
       "      <th>NC_007415.1</th>\n",
       "      <td>0.012511</td>\n",
       "      <td>0.006255</td>\n",
       "      <td>0.018766</td>\n",
       "      <td>0.012511</td>\n",
       "      <td>0.006255</td>\n",
       "      <td>0.006255</td>\n",
       "      <td>0.006255</td>\n",
       "      <td>0.006255</td>\n",
       "      <td>0.006255</td>\n",
       "      <td>0.006255</td>\n",
       "      <td>...</td>\n",
       "      <td>0.012511</td>\n",
       "      <td>0.012511</td>\n",
       "      <td>0.006255</td>\n",
       "      <td>0.012511</td>\n",
       "      <td>0.006255</td>\n",
       "      <td>0.006255</td>\n",
       "      <td>0.006255</td>\n",
       "      <td>0.012511</td>\n",
       "      <td>0.012511</td>\n",
       "      <td>0.018766</td>\n",
       "    </tr>\n",
       "    <tr>\n",
       "      <th>NC_015939.1</th>\n",
       "      <td>0.008311</td>\n",
       "      <td>0.004155</td>\n",
       "      <td>0.008311</td>\n",
       "      <td>0.012466</td>\n",
       "      <td>0.004155</td>\n",
       "      <td>0.024932</td>\n",
       "      <td>0.004155</td>\n",
       "      <td>0.008311</td>\n",
       "      <td>0.008311</td>\n",
       "      <td>0.004155</td>\n",
       "      <td>...</td>\n",
       "      <td>0.008311</td>\n",
       "      <td>0.004155</td>\n",
       "      <td>0.004155</td>\n",
       "      <td>0.004155</td>\n",
       "      <td>0.004155</td>\n",
       "      <td>0.004155</td>\n",
       "      <td>0.008311</td>\n",
       "      <td>0.004155</td>\n",
       "      <td>0.004155</td>\n",
       "      <td>0.016621</td>\n",
       "    </tr>\n",
       "    <tr>\n",
       "      <th>NC_022896.1</th>\n",
       "      <td>0.003280</td>\n",
       "      <td>0.013119</td>\n",
       "      <td>0.013119</td>\n",
       "      <td>0.003280</td>\n",
       "      <td>0.003280</td>\n",
       "      <td>0.013119</td>\n",
       "      <td>0.003280</td>\n",
       "      <td>0.009840</td>\n",
       "      <td>0.006560</td>\n",
       "      <td>0.003280</td>\n",
       "      <td>...</td>\n",
       "      <td>0.009840</td>\n",
       "      <td>0.009840</td>\n",
       "      <td>0.013119</td>\n",
       "      <td>0.009840</td>\n",
       "      <td>0.006560</td>\n",
       "      <td>0.019679</td>\n",
       "      <td>0.006560</td>\n",
       "      <td>0.016399</td>\n",
       "      <td>0.003280</td>\n",
       "      <td>0.013119</td>\n",
       "    </tr>\n",
       "    <tr>\n",
       "      <th>NC_026510.1</th>\n",
       "      <td>0.011075</td>\n",
       "      <td>0.022150</td>\n",
       "      <td>0.022150</td>\n",
       "      <td>0.011075</td>\n",
       "      <td>0.011075</td>\n",
       "      <td>0.011075</td>\n",
       "      <td>0.011075</td>\n",
       "      <td>0.011075</td>\n",
       "      <td>0.011075</td>\n",
       "      <td>0.011075</td>\n",
       "      <td>...</td>\n",
       "      <td>0.011075</td>\n",
       "      <td>0.011075</td>\n",
       "      <td>0.011075</td>\n",
       "      <td>0.011075</td>\n",
       "      <td>0.011075</td>\n",
       "      <td>0.022150</td>\n",
       "      <td>0.011075</td>\n",
       "      <td>0.022150</td>\n",
       "      <td>0.011075</td>\n",
       "      <td>0.011075</td>\n",
       "    </tr>\n",
       "    <tr>\n",
       "      <th>NC_027138.1</th>\n",
       "      <td>0.012197</td>\n",
       "      <td>0.006098</td>\n",
       "      <td>0.018295</td>\n",
       "      <td>0.018295</td>\n",
       "      <td>0.012197</td>\n",
       "      <td>0.012197</td>\n",
       "      <td>0.006098</td>\n",
       "      <td>0.012197</td>\n",
       "      <td>0.006098</td>\n",
       "      <td>0.006098</td>\n",
       "      <td>...</td>\n",
       "      <td>0.006098</td>\n",
       "      <td>0.006098</td>\n",
       "      <td>0.006098</td>\n",
       "      <td>0.006098</td>\n",
       "      <td>0.006098</td>\n",
       "      <td>0.012197</td>\n",
       "      <td>0.006098</td>\n",
       "      <td>0.012197</td>\n",
       "      <td>0.012197</td>\n",
       "      <td>0.006098</td>\n",
       "    </tr>\n",
       "    <tr>\n",
       "      <th>NC_027139.1</th>\n",
       "      <td>0.019285</td>\n",
       "      <td>0.006428</td>\n",
       "      <td>0.006428</td>\n",
       "      <td>0.006428</td>\n",
       "      <td>0.019285</td>\n",
       "      <td>0.012857</td>\n",
       "      <td>0.006428</td>\n",
       "      <td>0.006428</td>\n",
       "      <td>0.006428</td>\n",
       "      <td>0.006428</td>\n",
       "      <td>...</td>\n",
       "      <td>0.006428</td>\n",
       "      <td>0.006428</td>\n",
       "      <td>0.012857</td>\n",
       "      <td>0.006428</td>\n",
       "      <td>0.006428</td>\n",
       "      <td>0.012857</td>\n",
       "      <td>0.006428</td>\n",
       "      <td>0.038570</td>\n",
       "      <td>0.006428</td>\n",
       "      <td>0.012857</td>\n",
       "    </tr>\n",
       "    <tr>\n",
       "      <th>NC_025383.1</th>\n",
       "      <td>0.021211</td>\n",
       "      <td>0.004242</td>\n",
       "      <td>0.008484</td>\n",
       "      <td>0.004242</td>\n",
       "      <td>0.004242</td>\n",
       "      <td>0.016969</td>\n",
       "      <td>0.008484</td>\n",
       "      <td>0.008484</td>\n",
       "      <td>0.029696</td>\n",
       "      <td>0.004242</td>\n",
       "      <td>...</td>\n",
       "      <td>0.004242</td>\n",
       "      <td>0.004242</td>\n",
       "      <td>0.004242</td>\n",
       "      <td>0.004242</td>\n",
       "      <td>0.008484</td>\n",
       "      <td>0.008484</td>\n",
       "      <td>0.004242</td>\n",
       "      <td>0.008484</td>\n",
       "      <td>0.004242</td>\n",
       "      <td>0.004242</td>\n",
       "    </tr>\n",
       "  </tbody>\n",
       "</table>\n",
       "<p>7 rows × 34 columns</p>\n",
       "</div>"
      ],
      "text/plain": [
       "              aaaacaa   aactttt   aagatga   aatcaaa   acaaata   agaagaa  \\\n",
       "ID                                                                        \n",
       "NC_007415.1  0.012511  0.006255  0.018766  0.012511  0.006255  0.006255   \n",
       "NC_015939.1  0.008311  0.004155  0.008311  0.012466  0.004155  0.024932   \n",
       "NC_022896.1  0.003280  0.013119  0.013119  0.003280  0.003280  0.013119   \n",
       "NC_026510.1  0.011075  0.022150  0.022150  0.011075  0.011075  0.011075   \n",
       "NC_027138.1  0.012197  0.006098  0.018295  0.018295  0.012197  0.012197   \n",
       "NC_027139.1  0.019285  0.006428  0.006428  0.006428  0.019285  0.012857   \n",
       "NC_025383.1  0.021211  0.004242  0.008484  0.004242  0.004242  0.016969   \n",
       "\n",
       "              agatttc   aggaatt   aggagat   aggttga  ...   tcaagga   tcacaag  \\\n",
       "ID                                                   ...                       \n",
       "NC_007415.1  0.006255  0.006255  0.006255  0.006255  ...  0.012511  0.012511   \n",
       "NC_015939.1  0.004155  0.008311  0.008311  0.004155  ...  0.008311  0.004155   \n",
       "NC_022896.1  0.003280  0.009840  0.006560  0.003280  ...  0.009840  0.009840   \n",
       "NC_026510.1  0.011075  0.011075  0.011075  0.011075  ...  0.011075  0.011075   \n",
       "NC_027138.1  0.006098  0.012197  0.006098  0.006098  ...  0.006098  0.006098   \n",
       "NC_027139.1  0.006428  0.006428  0.006428  0.006428  ...  0.006428  0.006428   \n",
       "NC_025383.1  0.008484  0.008484  0.029696  0.004242  ...  0.004242  0.004242   \n",
       "\n",
       "              tcttgga   tggaaag   tggaatt   ttcaaag   ttctttc   ttgaaga  \\\n",
       "ID                                                                        \n",
       "NC_007415.1  0.006255  0.012511  0.006255  0.006255  0.006255  0.012511   \n",
       "NC_015939.1  0.004155  0.004155  0.004155  0.004155  0.008311  0.004155   \n",
       "NC_022896.1  0.013119  0.009840  0.006560  0.019679  0.006560  0.016399   \n",
       "NC_026510.1  0.011075  0.011075  0.011075  0.022150  0.011075  0.022150   \n",
       "NC_027138.1  0.006098  0.006098  0.006098  0.012197  0.006098  0.012197   \n",
       "NC_027139.1  0.012857  0.006428  0.006428  0.012857  0.006428  0.038570   \n",
       "NC_025383.1  0.004242  0.004242  0.008484  0.008484  0.004242  0.008484   \n",
       "\n",
       "              ttggaaa   ttttgat  \n",
       "ID                               \n",
       "NC_007415.1  0.012511  0.018766  \n",
       "NC_015939.1  0.004155  0.016621  \n",
       "NC_022896.1  0.003280  0.013119  \n",
       "NC_026510.1  0.011075  0.011075  \n",
       "NC_027138.1  0.012197  0.006098  \n",
       "NC_027139.1  0.006428  0.012857  \n",
       "NC_025383.1  0.004242  0.004242  \n",
       "\n",
       "[7 rows x 34 columns]"
      ]
     },
     "execution_count": 14,
     "metadata": {},
     "output_type": "execute_result"
    }
   ],
   "source": [
    "# all columns that do not contain any zeros for virus1\n",
    "kmer7Table1.loc[:, (kmer7Table1 == 0).any(axis=0) != True]"
   ]
  },
  {
   "cell_type": "code",
   "execution_count": 15,
   "metadata": {},
   "outputs": [],
   "source": [
    "#kmer7TableNonZero1 = kmer7Table1.loc[:, (kmer7Table1 == 0).any(axis=0) != True]\n",
    "#kmer7TableNonZero1.hist()"
   ]
  },
  {
   "cell_type": "code",
   "execution_count": 16,
   "metadata": {},
   "outputs": [],
   "source": [
    "# labels for virus01\n",
    "labels = [0 for x in range(343)] + [1 for x in range(7)]"
   ]
  },
  {
   "cell_type": "markdown",
   "metadata": {},
   "source": [
    "### Un-align Aligned Fasta Files"
   ]
  },
  {
   "cell_type": "code",
   "execution_count": 17,
   "metadata": {},
   "outputs": [
    {
     "data": {
      "text/html": [
       "<div>\n",
       "<style scoped>\n",
       "    .dataframe tbody tr th:only-of-type {\n",
       "        vertical-align: middle;\n",
       "    }\n",
       "\n",
       "    .dataframe tbody tr th {\n",
       "        vertical-align: top;\n",
       "    }\n",
       "\n",
       "    .dataframe thead th {\n",
       "        text-align: right;\n",
       "    }\n",
       "</style>\n",
       "<table border=\"1\" class=\"dataframe\">\n",
       "  <thead>\n",
       "    <tr style=\"text-align: right;\">\n",
       "      <th></th>\n",
       "      <th>Sequence</th>\n",
       "    </tr>\n",
       "    <tr>\n",
       "      <th>ID</th>\n",
       "      <th></th>\n",
       "    </tr>\n",
       "  </thead>\n",
       "  <tbody>\n",
       "    <tr>\n",
       "      <th>JF781304.1:542-9388_Sclerotinia_sclerotiorum_hypovirus_1_strain_SZ-150_complete_genome</th>\n",
       "      <td>----------------------------------------------...</td>\n",
       "    </tr>\n",
       "    <tr>\n",
       "      <th>KF525367.1:314-14221_Sclerotinia_sclerotiorum_hypovirus_2_isolate_5472_complete_genome</th>\n",
       "      <td>ATGATCCCCTGTTGTTACCTGTCAGACTGGCCCCGGCACACCGTGA...</td>\n",
       "    </tr>\n",
       "    <tr>\n",
       "      <th>KJ561218.1:468-14567_Sclerotinia_sclerotiorum_hypovirus_2_isolate_SX247_complete_genome</th>\n",
       "      <td>----------------------------------------------...</td>\n",
       "    </tr>\n",
       "    <tr>\n",
       "      <th>KP208178.1:458-12292_Fusarium_graminearum_hypovirus_2_isolate_FgHV2/JS16_complete_genome</th>\n",
       "      <td>----------------------------------------------...</td>\n",
       "    </tr>\n",
       "    <tr>\n",
       "      <th>NC_001492.1:496-11861_Cryphonectria_hypovirus_1_complete_genome</th>\n",
       "      <td>----------------------------------------------...</td>\n",
       "    </tr>\n",
       "  </tbody>\n",
       "</table>\n",
       "</div>"
      ],
      "text/plain": [
       "                                                                                             Sequence\n",
       "ID                                                                                                   \n",
       "JF781304.1:542-9388_Sclerotinia_sclerotiorum_hy...  ----------------------------------------------...\n",
       "KF525367.1:314-14221_Sclerotinia_sclerotiorum_h...  ATGATCCCCTGTTGTTACCTGTCAGACTGGCCCCGGCACACCGTGA...\n",
       "KJ561218.1:468-14567_Sclerotinia_sclerotiorum_h...  ----------------------------------------------...\n",
       "KP208178.1:458-12292_Fusarium_graminearum_hypov...  ----------------------------------------------...\n",
       "NC_001492.1:496-11861_Cryphonectria_hypovirus_1...  ----------------------------------------------..."
      ]
     },
     "execution_count": 17,
     "metadata": {},
     "output_type": "execute_result"
    }
   ],
   "source": [
    "virus1A = parseFasta(\"data/hypoviridae_aligned_polyprotein_nucleotide_biocontrol.fas\")\n",
    "virus1A.head()"
   ]
  },
  {
   "cell_type": "code",
   "execution_count": 18,
   "metadata": {},
   "outputs": [
    {
     "name": "stdout",
     "output_type": "stream",
     "text": [
      "-----\n",
      "ATGAA\n"
     ]
    }
   ],
   "source": [
    "print(virus1A.Sequence[0][0:5])\n",
    "print(virus1A.Sequence[0].replace(\"-\", \"\")[0:5])"
   ]
  },
  {
   "cell_type": "code",
   "execution_count": 19,
   "metadata": {},
   "outputs": [],
   "source": [
    "# broken:\n",
    "#virus1AtoU = virus1A.apply(lambda x: x.replace(\"-\", \"\") if x.name == \"Sequence\" else x, axis=1)\n",
    "#virus1AtoU.head()"
   ]
  },
  {
   "cell_type": "code",
   "execution_count": 20,
   "metadata": {},
   "outputs": [
    {
     "data": {
      "text/html": [
       "<div>\n",
       "<style scoped>\n",
       "    .dataframe tbody tr th:only-of-type {\n",
       "        vertical-align: middle;\n",
       "    }\n",
       "\n",
       "    .dataframe tbody tr th {\n",
       "        vertical-align: top;\n",
       "    }\n",
       "\n",
       "    .dataframe thead th {\n",
       "        text-align: right;\n",
       "    }\n",
       "</style>\n",
       "<table border=\"1\" class=\"dataframe\">\n",
       "  <thead>\n",
       "    <tr style=\"text-align: right;\">\n",
       "      <th></th>\n",
       "      <th>Sequence</th>\n",
       "    </tr>\n",
       "    <tr>\n",
       "      <th>ID</th>\n",
       "      <th></th>\n",
       "    </tr>\n",
       "  </thead>\n",
       "  <tbody>\n",
       "    <tr>\n",
       "      <th>JF781304.1:542-9388_Sclerotinia_sclerotiorum_hypovirus_1_strain_SZ-150_complete_genome</th>\n",
       "      <td>ATGAATTCTTTAAAACAAAACCTTTTTGTCAAGCGGAATCGATCTG...</td>\n",
       "    </tr>\n",
       "    <tr>\n",
       "      <th>KF525367.1:314-14221_Sclerotinia_sclerotiorum_hypovirus_2_isolate_5472_complete_genome</th>\n",
       "      <td>ATGATCCCCTGTTGTTACCTGTCAGACTGGCCCCGGCACACCGTGA...</td>\n",
       "    </tr>\n",
       "    <tr>\n",
       "      <th>KJ561218.1:468-14567_Sclerotinia_sclerotiorum_hypovirus_2_isolate_SX247_complete_genome</th>\n",
       "      <td>ATGAAGAAGGATTTCCGTGAAACCCGGAAAAATGGCCGTGAGTCGG...</td>\n",
       "    </tr>\n",
       "    <tr>\n",
       "      <th>KP208178.1:458-12292_Fusarium_graminearum_hypovirus_2_isolate_FgHV2/JS16_complete_genome</th>\n",
       "      <td>ATGATTAGCTCAATGAGCAACCAGTTGGAGTCTGGAACTCTCCAAA...</td>\n",
       "    </tr>\n",
       "    <tr>\n",
       "      <th>NC_001492.1:496-11861_Cryphonectria_hypovirus_1_complete_genome</th>\n",
       "      <td>ATGGCTCAATTAAGAAAACCCAGTCAGAGTCTGGTGCTCTCTGAAA...</td>\n",
       "    </tr>\n",
       "  </tbody>\n",
       "</table>\n",
       "</div>"
      ],
      "text/plain": [
       "                                                                                             Sequence\n",
       "ID                                                                                                   \n",
       "JF781304.1:542-9388_Sclerotinia_sclerotiorum_hy...  ATGAATTCTTTAAAACAAAACCTTTTTGTCAAGCGGAATCGATCTG...\n",
       "KF525367.1:314-14221_Sclerotinia_sclerotiorum_h...  ATGATCCCCTGTTGTTACCTGTCAGACTGGCCCCGGCACACCGTGA...\n",
       "KJ561218.1:468-14567_Sclerotinia_sclerotiorum_h...  ATGAAGAAGGATTTCCGTGAAACCCGGAAAAATGGCCGTGAGTCGG...\n",
       "KP208178.1:458-12292_Fusarium_graminearum_hypov...  ATGATTAGCTCAATGAGCAACCAGTTGGAGTCTGGAACTCTCCAAA...\n",
       "NC_001492.1:496-11861_Cryphonectria_hypovirus_1...  ATGGCTCAATTAAGAAAACCCAGTCAGAGTCTGGTGCTCTCTGAAA..."
      ]
     },
     "execution_count": 20,
     "metadata": {},
     "output_type": "execute_result"
    }
   ],
   "source": [
    "virus1A[\"Sequence\"] = virus1A[\"Sequence\"].apply(lambda x: x.replace(\"-\", \"\"))\n",
    "virus1A.head()"
   ]
  },
  {
   "cell_type": "code",
   "execution_count": 21,
   "metadata": {},
   "outputs": [],
   "source": [
    "def parseFastaAtoU(data):\n",
    "    d = {fasta.id : str(fasta.seq) for fasta in SeqIO.parse(data, \"fasta\")}\n",
    "    pd.DataFrame([d])\n",
    "\n",
    "    s = pd.Series(d, name='Sequence')\n",
    "    s.index.name = 'ID'\n",
    "    s.reset_index()\n",
    "    df = pd.DataFrame(s)\n",
    "    df[\"Sequence\"] = df[\"Sequence\"].apply(lambda x: x.replace(\"-\", \"\"))\n",
    "    return df"
   ]
  },
  {
   "cell_type": "code",
   "execution_count": 22,
   "metadata": {},
   "outputs": [],
   "source": [
    "virus1AtoU = parseFastaAtoU(\"data/hypoviridae_aligned_polyprotein_nucleotide_biocontrol.fas\")\n",
    "virus0AtoU = parseFastaAtoU(\"data/hypoviridae_aligned_polyprotein_nucleotide_nobiocontrol.fas\")\n",
    "virus01AtoU = parseFastaAtoU(\"data/hypoviridae_aligned_polyprotein_nucleotide_all.fas\")\n"
   ]
  },
  {
   "cell_type": "code",
   "execution_count": 23,
   "metadata": {},
   "outputs": [
    {
     "data": {
      "text/html": [
       "<div>\n",
       "<style scoped>\n",
       "    .dataframe tbody tr th:only-of-type {\n",
       "        vertical-align: middle;\n",
       "    }\n",
       "\n",
       "    .dataframe tbody tr th {\n",
       "        vertical-align: top;\n",
       "    }\n",
       "\n",
       "    .dataframe thead th {\n",
       "        text-align: right;\n",
       "    }\n",
       "</style>\n",
       "<table border=\"1\" class=\"dataframe\">\n",
       "  <thead>\n",
       "    <tr style=\"text-align: right;\">\n",
       "      <th></th>\n",
       "      <th>Sequence</th>\n",
       "    </tr>\n",
       "    <tr>\n",
       "      <th>ID</th>\n",
       "      <th></th>\n",
       "    </tr>\n",
       "  </thead>\n",
       "  <tbody>\n",
       "    <tr>\n",
       "      <th>JF781304.1:542-9388_Sclerotinia_sclerotiorum_hypovirus_1_strain_SZ-150_complete_genome</th>\n",
       "      <td>ATGAATTCTTTAAAACAAAACCTTTTTGTCAAGCGGAATCGATCTG...</td>\n",
       "    </tr>\n",
       "    <tr>\n",
       "      <th>KF525367.1:314-14221_Sclerotinia_sclerotiorum_hypovirus_2_isolate_5472_complete_genome</th>\n",
       "      <td>ATGATCCCCTGTTGTTACCTGTCAGACTGGCCCCGGCACACCGTGA...</td>\n",
       "    </tr>\n",
       "    <tr>\n",
       "      <th>KJ561218.1:468-14567_Sclerotinia_sclerotiorum_hypovirus_2_isolate_SX247_complete_genome</th>\n",
       "      <td>ATGAAGAAGGATTTCCGTGAAACCCGGAAAAATGGCCGTGAGTCGG...</td>\n",
       "    </tr>\n",
       "    <tr>\n",
       "      <th>KP208178.1:458-12292_Fusarium_graminearum_hypovirus_2_isolate_FgHV2/JS16_complete_genome</th>\n",
       "      <td>ATGATTAGCTCAATGAGCAACCAGTTGGAGTCTGGAACTCTCCAAA...</td>\n",
       "    </tr>\n",
       "    <tr>\n",
       "      <th>NC_001492.1:496-11861_Cryphonectria_hypovirus_1_complete_genome</th>\n",
       "      <td>ATGGCTCAATTAAGAAAACCCAGTCAGAGTCTGGTGCTCTCTGAAA...</td>\n",
       "    </tr>\n",
       "    <tr>\n",
       "      <th>NC_003534.1:488-11679_Cryphonectria_hypovirus_2_genome</th>\n",
       "      <td>ATGTCTAAACAAAGCCAACCCCAGTGGAAGCCTGGTACTCTTCCAA...</td>\n",
       "    </tr>\n",
       "    <tr>\n",
       "      <th>NC_000960.1:370-8994_Cryphonectria_hypovirus_3_complete_genome</th>\n",
       "      <td>ATGCAGGAGAAACTCCAAAACAACCAGCCGGGATCTGGCTCTTCCC...</td>\n",
       "    </tr>\n",
       "  </tbody>\n",
       "</table>\n",
       "</div>"
      ],
      "text/plain": [
       "                                                                                             Sequence\n",
       "ID                                                                                                   \n",
       "JF781304.1:542-9388_Sclerotinia_sclerotiorum_hy...  ATGAATTCTTTAAAACAAAACCTTTTTGTCAAGCGGAATCGATCTG...\n",
       "KF525367.1:314-14221_Sclerotinia_sclerotiorum_h...  ATGATCCCCTGTTGTTACCTGTCAGACTGGCCCCGGCACACCGTGA...\n",
       "KJ561218.1:468-14567_Sclerotinia_sclerotiorum_h...  ATGAAGAAGGATTTCCGTGAAACCCGGAAAAATGGCCGTGAGTCGG...\n",
       "KP208178.1:458-12292_Fusarium_graminearum_hypov...  ATGATTAGCTCAATGAGCAACCAGTTGGAGTCTGGAACTCTCCAAA...\n",
       "NC_001492.1:496-11861_Cryphonectria_hypovirus_1...  ATGGCTCAATTAAGAAAACCCAGTCAGAGTCTGGTGCTCTCTGAAA...\n",
       "NC_003534.1:488-11679_Cryphonectria_hypovirus_2...  ATGTCTAAACAAAGCCAACCCCAGTGGAAGCCTGGTACTCTTCCAA...\n",
       "NC_000960.1:370-8994_Cryphonectria_hypovirus_3_...  ATGCAGGAGAAACTCCAAAACAACCAGCCGGGATCTGGCTCTTCCC..."
      ]
     },
     "execution_count": 23,
     "metadata": {},
     "output_type": "execute_result"
    }
   ],
   "source": [
    "virus1AtoU"
   ]
  },
  {
   "cell_type": "code",
   "execution_count": 24,
   "metadata": {},
   "outputs": [
    {
     "name": "stdout",
     "output_type": "stream",
     "text": [
      "8847\n",
      "8846\n"
     ]
    }
   ],
   "source": [
    "print(len(virus1AtoU.iloc[0].Sequence))\n",
    "print(9388-542)"
   ]
  },
  {
   "cell_type": "code",
   "execution_count": 25,
   "metadata": {},
   "outputs": [
    {
     "data": {
      "text/html": [
       "<div>\n",
       "<style scoped>\n",
       "    .dataframe tbody tr th:only-of-type {\n",
       "        vertical-align: middle;\n",
       "    }\n",
       "\n",
       "    .dataframe tbody tr th {\n",
       "        vertical-align: top;\n",
       "    }\n",
       "\n",
       "    .dataframe thead th {\n",
       "        text-align: right;\n",
       "    }\n",
       "</style>\n",
       "<table border=\"1\" class=\"dataframe\">\n",
       "  <thead>\n",
       "    <tr style=\"text-align: right;\">\n",
       "      <th></th>\n",
       "      <th>Sequence</th>\n",
       "    </tr>\n",
       "    <tr>\n",
       "      <th>ID</th>\n",
       "      <th></th>\n",
       "    </tr>\n",
       "  </thead>\n",
       "  <tbody>\n",
       "    <tr>\n",
       "      <th>AB690372.1:379-9201_Valsa_ceratosperma_hypovirus_1_RNA_complete_genome_strain:_MVC86</th>\n",
       "      <td>ATGAGCGGCGTCCCCGCGAATGGAAGCCTTGGGGCTACGCGATCCC...</td>\n",
       "    </tr>\n",
       "    <tr>\n",
       "      <th>KF537784.1:310-8856_Phomopsis_longicolla_hypovirus_isolate_ME711_complete_genome</th>\n",
       "      <td>CTGCGAGGATCAGTACCTTACCAAGTCCGACGGAGGCAAAGTAAAC...</td>\n",
       "    </tr>\n",
       "    <tr>\n",
       "      <th>KC330231.1:511-12543_Fusarium_graminearum_hypovirus_1_isolate_HN10_complete_genome</th>\n",
       "      <td>ATGGATGATCCCGCTTGGCTTGGTGATGCATTGCTAGAGTGGGATC...</td>\n",
       "    </tr>\n",
       "    <tr>\n",
       "      <th>LC150612.1:462-12296_Fusarium_poae_hypovirus_1_genomic_RNA_complete_genome</th>\n",
       "      <td>ATGACTGGCTCAATGAGCAACCAGTTGGAGTCTGGAACTCTCCAAG...</td>\n",
       "    </tr>\n",
       "    <tr>\n",
       "      <th>KY120321.1:476-12331_Fusarium_langsethiae_hypovirus_1_isolate_FlHV1/AH32_complete_genome</th>\n",
       "      <td>ATGAGCACCCAGTTGGAGTCTGGACCTCTCCAAGCAGCCCGCTCGC...</td>\n",
       "    </tr>\n",
       "    <tr>\n",
       "      <th>KX883007.1:521-11977_Wuhan_insect_virus_14_strain_WHZM10168_polyprotein_gene_complete_cds</th>\n",
       "      <td>ATGGCTTGTAAATGTGAGATTCATAAAGGCTTTGATTCTTCGATCG...</td>\n",
       "    </tr>\n",
       "    <tr>\n",
       "      <th>KX883006.1:409-9906_Beihai_hypo-like_virus_1_strain_BHZC36965_polyprotein_gene_complete_cds</th>\n",
       "      <td>ATGCGACCCAAGGCATTACCAGCAGTTACGAAACGATATTCAAAAC...</td>\n",
       "    </tr>\n",
       "    <tr>\n",
       "      <th>KX883005.1:589-8892_Beihai_sipunculid_worm_virus_6_strain_BHNXC41400_polyprotein_gene_complete_cds</th>\n",
       "      <td>ATGTCTAATGGAAGCAGACCTGCCGGGAGACGAATCCCGGATGGAA...</td>\n",
       "    </tr>\n",
       "    <tr>\n",
       "      <th>NC_006431.1:194-8740_Cryphonectria_hypovirus_4_endogenous_virus_complete_genome</th>\n",
       "      <td>ATGCAAAGTACCAGGGCTACCCCCCGAATGAGGGTCGATAAACTAT...</td>\n",
       "    </tr>\n",
       "  </tbody>\n",
       "</table>\n",
       "</div>"
      ],
      "text/plain": [
       "                                                                                             Sequence\n",
       "ID                                                                                                   \n",
       "AB690372.1:379-9201_Valsa_ceratosperma_hypoviru...  ATGAGCGGCGTCCCCGCGAATGGAAGCCTTGGGGCTACGCGATCCC...\n",
       "KF537784.1:310-8856_Phomopsis_longicolla_hypovi...  CTGCGAGGATCAGTACCTTACCAAGTCCGACGGAGGCAAAGTAAAC...\n",
       "KC330231.1:511-12543_Fusarium_graminearum_hypov...  ATGGATGATCCCGCTTGGCTTGGTGATGCATTGCTAGAGTGGGATC...\n",
       "LC150612.1:462-12296_Fusarium_poae_hypovirus_1_...  ATGACTGGCTCAATGAGCAACCAGTTGGAGTCTGGAACTCTCCAAG...\n",
       "KY120321.1:476-12331_Fusarium_langsethiae_hypov...  ATGAGCACCCAGTTGGAGTCTGGACCTCTCCAAGCAGCCCGCTCGC...\n",
       "KX883007.1:521-11977_Wuhan_insect_virus_14_stra...  ATGGCTTGTAAATGTGAGATTCATAAAGGCTTTGATTCTTCGATCG...\n",
       "KX883006.1:409-9906_Beihai_hypo-like_virus_1_st...  ATGCGACCCAAGGCATTACCAGCAGTTACGAAACGATATTCAAAAC...\n",
       "KX883005.1:589-8892_Beihai_sipunculid_worm_viru...  ATGTCTAATGGAAGCAGACCTGCCGGGAGACGAATCCCGGATGGAA...\n",
       "NC_006431.1:194-8740_Cryphonectria_hypovirus_4_...  ATGCAAAGTACCAGGGCTACCCCCCGAATGAGGGTCGATAAACTAT..."
      ]
     },
     "execution_count": 25,
     "metadata": {},
     "output_type": "execute_result"
    }
   ],
   "source": [
    "virus0AtoU"
   ]
  },
  {
   "cell_type": "code",
   "execution_count": 26,
   "metadata": {},
   "outputs": [
    {
     "data": {
      "text/html": [
       "<div>\n",
       "<style scoped>\n",
       "    .dataframe tbody tr th:only-of-type {\n",
       "        vertical-align: middle;\n",
       "    }\n",
       "\n",
       "    .dataframe tbody tr th {\n",
       "        vertical-align: top;\n",
       "    }\n",
       "\n",
       "    .dataframe thead th {\n",
       "        text-align: right;\n",
       "    }\n",
       "</style>\n",
       "<table border=\"1\" class=\"dataframe\">\n",
       "  <thead>\n",
       "    <tr style=\"text-align: right;\">\n",
       "      <th></th>\n",
       "      <th>Sequence</th>\n",
       "    </tr>\n",
       "    <tr>\n",
       "      <th>ID</th>\n",
       "      <th></th>\n",
       "    </tr>\n",
       "  </thead>\n",
       "  <tbody>\n",
       "    <tr>\n",
       "      <th>JF781304.1:542-9388_Sclerotinia_sclerotiorum_hypovirus_1_strain_SZ-150_complete_genome</th>\n",
       "      <td>ATGAATTCTTTAAAACAAAACCTTTTTGTCAAGCGGAATCGATCTG...</td>\n",
       "    </tr>\n",
       "    <tr>\n",
       "      <th>KF525367.1:314-14221_Sclerotinia_sclerotiorum_hypovirus_2_isolate_5472_complete_genome</th>\n",
       "      <td>ATGATCCCCTGTTGTTACCTGTCAGACTGGCCCCGGCACACCGTGA...</td>\n",
       "    </tr>\n",
       "    <tr>\n",
       "      <th>KJ561218.1:468-14567_Sclerotinia_sclerotiorum_hypovirus_2_isolate_SX247_complete_genome</th>\n",
       "      <td>ATGAAGAAGGATTTCCGTGAAACCCGGAAAAATGGCCGTGAGTCGG...</td>\n",
       "    </tr>\n",
       "    <tr>\n",
       "      <th>AB690372.1:379-9201_Valsa_ceratosperma_hypovirus_1_RNA_complete_genome_strain:_MVC86</th>\n",
       "      <td>ATGAGCGGCGTCCCCGCGAATGGAAGCCTTGGGGCTACGCGATCCC...</td>\n",
       "    </tr>\n",
       "    <tr>\n",
       "      <th>KF537784.1:310-8856_Phomopsis_longicolla_hypovirus_isolate_ME711_complete_genome</th>\n",
       "      <td>CTGCGAGGATCAGTACCTTACCAAGTCCGACGGAGGCAAAGTAAAC...</td>\n",
       "    </tr>\n",
       "    <tr>\n",
       "      <th>KC330231.1:511-12543_Fusarium_graminearum_hypovirus_1_isolate_HN10_complete_genome</th>\n",
       "      <td>ATGGATGATCCCGCTTGGCTTGGTGATGCATTGCTAGAGTGGGATC...</td>\n",
       "    </tr>\n",
       "    <tr>\n",
       "      <th>KP208178.1:458-12292_Fusarium_graminearum_hypovirus_2_isolate_FgHV2/JS16_complete_genome</th>\n",
       "      <td>ATGATTAGCTCAATGAGCAACCAGTTGGAGTCTGGAACTCTCCAAA...</td>\n",
       "    </tr>\n",
       "    <tr>\n",
       "      <th>LC150612.1:462-12296_Fusarium_poae_hypovirus_1_genomic_RNA_complete_genome</th>\n",
       "      <td>ATGACTGGCTCAATGAGCAACCAGTTGGAGTCTGGAACTCTCCAAG...</td>\n",
       "    </tr>\n",
       "    <tr>\n",
       "      <th>KY120321.1:476-12331_Fusarium_langsethiae_hypovirus_1_isolate_FlHV1/AH32_complete_genome</th>\n",
       "      <td>ATGAGCACCCAGTTGGAGTCTGGACCTCTCCAAGCAGCCCGCTCGC...</td>\n",
       "    </tr>\n",
       "    <tr>\n",
       "      <th>KX883007.1:521-11977_Wuhan_insect_virus_14_strain_WHZM10168_polyprotein_gene_complete_cds</th>\n",
       "      <td>ATGGCTTGTAAATGTGAGATTCATAAAGGCTTTGATTCTTCGATCG...</td>\n",
       "    </tr>\n",
       "    <tr>\n",
       "      <th>KX883006.1:409-9906_Beihai_hypo-like_virus_1_strain_BHZC36965_polyprotein_gene_complete_cds</th>\n",
       "      <td>ATGCGACCCAAGGCATTACCAGCAGTTACGAAACGATATTCAAAAC...</td>\n",
       "    </tr>\n",
       "    <tr>\n",
       "      <th>KX883005.1:589-8892_Beihai_sipunculid_worm_virus_6_strain_BHNXC41400_polyprotein_gene_complete_cds</th>\n",
       "      <td>ATGTCTAATGGAAGCAGACCTGCCGGGAGACGAATCCCGGATGGAA...</td>\n",
       "    </tr>\n",
       "    <tr>\n",
       "      <th>NC_001492.1:496-11861_Cryphonectria_hypovirus_1_complete_genome</th>\n",
       "      <td>ATGGCTCAATTAAGAAAACCCAGTCAGAGTCTGGTGCTCTCTGAAA...</td>\n",
       "    </tr>\n",
       "    <tr>\n",
       "      <th>NC_003534.1:488-11679_Cryphonectria_hypovirus_2_genome</th>\n",
       "      <td>ATGTCTAAACAAAGCCAACCCCAGTGGAAGCCTGGTACTCTTCCAA...</td>\n",
       "    </tr>\n",
       "    <tr>\n",
       "      <th>NC_000960.1:370-8994_Cryphonectria_hypovirus_3_complete_genome</th>\n",
       "      <td>ATGCAGGAGAAACTCCAAAACAACCAGCCGGGATCTGGCTCTTCCC...</td>\n",
       "    </tr>\n",
       "    <tr>\n",
       "      <th>NC_006431.1:194-8740_Cryphonectria_hypovirus_4_endogenous_virus_complete_genome</th>\n",
       "      <td>ATGCAAAGTACCAGGGCTACCCCCCGAATGAGGGTCGATAAACTAT...</td>\n",
       "    </tr>\n",
       "  </tbody>\n",
       "</table>\n",
       "</div>"
      ],
      "text/plain": [
       "                                                                                             Sequence\n",
       "ID                                                                                                   \n",
       "JF781304.1:542-9388_Sclerotinia_sclerotiorum_hy...  ATGAATTCTTTAAAACAAAACCTTTTTGTCAAGCGGAATCGATCTG...\n",
       "KF525367.1:314-14221_Sclerotinia_sclerotiorum_h...  ATGATCCCCTGTTGTTACCTGTCAGACTGGCCCCGGCACACCGTGA...\n",
       "KJ561218.1:468-14567_Sclerotinia_sclerotiorum_h...  ATGAAGAAGGATTTCCGTGAAACCCGGAAAAATGGCCGTGAGTCGG...\n",
       "AB690372.1:379-9201_Valsa_ceratosperma_hypoviru...  ATGAGCGGCGTCCCCGCGAATGGAAGCCTTGGGGCTACGCGATCCC...\n",
       "KF537784.1:310-8856_Phomopsis_longicolla_hypovi...  CTGCGAGGATCAGTACCTTACCAAGTCCGACGGAGGCAAAGTAAAC...\n",
       "KC330231.1:511-12543_Fusarium_graminearum_hypov...  ATGGATGATCCCGCTTGGCTTGGTGATGCATTGCTAGAGTGGGATC...\n",
       "KP208178.1:458-12292_Fusarium_graminearum_hypov...  ATGATTAGCTCAATGAGCAACCAGTTGGAGTCTGGAACTCTCCAAA...\n",
       "LC150612.1:462-12296_Fusarium_poae_hypovirus_1_...  ATGACTGGCTCAATGAGCAACCAGTTGGAGTCTGGAACTCTCCAAG...\n",
       "KY120321.1:476-12331_Fusarium_langsethiae_hypov...  ATGAGCACCCAGTTGGAGTCTGGACCTCTCCAAGCAGCCCGCTCGC...\n",
       "KX883007.1:521-11977_Wuhan_insect_virus_14_stra...  ATGGCTTGTAAATGTGAGATTCATAAAGGCTTTGATTCTTCGATCG...\n",
       "KX883006.1:409-9906_Beihai_hypo-like_virus_1_st...  ATGCGACCCAAGGCATTACCAGCAGTTACGAAACGATATTCAAAAC...\n",
       "KX883005.1:589-8892_Beihai_sipunculid_worm_viru...  ATGTCTAATGGAAGCAGACCTGCCGGGAGACGAATCCCGGATGGAA...\n",
       "NC_001492.1:496-11861_Cryphonectria_hypovirus_1...  ATGGCTCAATTAAGAAAACCCAGTCAGAGTCTGGTGCTCTCTGAAA...\n",
       "NC_003534.1:488-11679_Cryphonectria_hypovirus_2...  ATGTCTAAACAAAGCCAACCCCAGTGGAAGCCTGGTACTCTTCCAA...\n",
       "NC_000960.1:370-8994_Cryphonectria_hypovirus_3_...  ATGCAGGAGAAACTCCAAAACAACCAGCCGGGATCTGGCTCTTCCC...\n",
       "NC_006431.1:194-8740_Cryphonectria_hypovirus_4_...  ATGCAAAGTACCAGGGCTACCCCCCGAATGAGGGTCGATAAACTAT..."
      ]
     },
     "execution_count": 26,
     "metadata": {},
     "output_type": "execute_result"
    }
   ],
   "source": [
    "virus01AtoU"
   ]
  },
  {
   "cell_type": "markdown",
   "metadata": {},
   "source": [
    "## Models\n",
    "-----"
   ]
  },
  {
   "cell_type": "markdown",
   "metadata": {},
   "source": [
    "### Unsupervised:"
   ]
  },
  {
   "cell_type": "markdown",
   "metadata": {},
   "source": [
    "Only the 1 labels are known, everything else is unknown, so I'm attempting to find clusters in the data in which all the 1 labels reside"
   ]
  },
  {
   "cell_type": "markdown",
   "metadata": {},
   "source": [
    "#### **KMeans**\n",
    "I'm trying a variety of different features to try to get a cluster containing the 1s"
   ]
  },
  {
   "cell_type": "markdown",
   "metadata": {},
   "source": [
    "#### KMeans (try 1)"
   ]
  },
  {
   "cell_type": "code",
   "execution_count": 27,
   "metadata": {},
   "outputs": [
    {
     "data": {
      "text/plain": [
       "KMeans(algorithm='auto', copy_x=True, init='k-means++', max_iter=300,\n",
       "       n_clusters=2, n_init=10, n_jobs=None, precompute_distances='auto',\n",
       "       random_state=42, tol=0.0001, verbose=0)"
      ]
     },
     "execution_count": 27,
     "metadata": {},
     "output_type": "execute_result"
    }
   ],
   "source": [
    "from sklearn.cluster import KMeans\n",
    "km1 = KMeans(random_state = 42, n_clusters = 2)\n",
    "km1.fit(kmer27Table01)"
   ]
  },
  {
   "cell_type": "code",
   "execution_count": 28,
   "metadata": {},
   "outputs": [
    {
     "data": {
      "text/plain": [
       "array([0, 0, 1, 0, 1, 1, 0])"
      ]
     },
     "execution_count": 28,
     "metadata": {},
     "output_type": "execute_result"
    }
   ],
   "source": [
    "# last 7 numbers in array are clusters for virus killers. We want these to all be the same\n",
    "y_hat1 = km1.predict(kmer27Table01)\n",
    "y_hat1[343:]"
   ]
  },
  {
   "cell_type": "code",
   "execution_count": 29,
   "metadata": {},
   "outputs": [
    {
     "name": "stdout",
     "output_type": "stream",
     "text": [
      "22789\n",
      "16641\n"
     ]
    }
   ],
   "source": [
    "print(len(kmer27Table01.columns))\n",
    "print(len(kmer7Table01.columns))"
   ]
  },
  {
   "cell_type": "code",
   "execution_count": 30,
   "metadata": {},
   "outputs": [],
   "source": [
    "# Visulization attempt"
   ]
  },
  {
   "cell_type": "code",
   "execution_count": 31,
   "metadata": {},
   "outputs": [],
   "source": [
    "# KMeans labels\n",
    "#kmer27Table01.plot.scatter(x=7, y=49, c=y_hat1, cmap=\"viridis\")"
   ]
  },
  {
   "cell_type": "code",
   "execution_count": 32,
   "metadata": {},
   "outputs": [],
   "source": [
    "# actual labels\n",
    "#kmer27Table01.plot.scatter(x=7, y=49, c=labels, cmap=\"viridis\")"
   ]
  },
  {
   "cell_type": "markdown",
   "metadata": {},
   "source": [
    "#### KMeans (try 2)"
   ]
  },
  {
   "cell_type": "code",
   "execution_count": 33,
   "metadata": {},
   "outputs": [
    {
     "data": {
      "text/plain": [
       "KMeans(algorithm='auto', copy_x=True, init='k-means++', max_iter=300,\n",
       "       n_clusters=2, n_init=10, n_jobs=None, precompute_distances='auto',\n",
       "       random_state=42, tol=0.0001, verbose=0)"
      ]
     },
     "execution_count": 33,
     "metadata": {},
     "output_type": "execute_result"
    }
   ],
   "source": [
    "km2 = KMeans(random_state = 42, n_clusters = 2)\n",
    "# only use columns that confirmed virus killers have no zeros in and kmer legnths 2 to 7\n",
    "cols2 = kmer27Table1.loc[:, (kmer27Table1 == 0).any(axis=0) != True].columns\n",
    "km2.fit(kmer27Table01[cols2])"
   ]
  },
  {
   "cell_type": "code",
   "execution_count": 34,
   "metadata": {},
   "outputs": [
    {
     "data": {
      "text/plain": [
       "array([0, 0, 1, 0, 1, 1, 0])"
      ]
     },
     "execution_count": 34,
     "metadata": {},
     "output_type": "execute_result"
    }
   ],
   "source": [
    "# last 7 numbers in array are clusters for virus killers\n",
    "y_hat2 = km2.predict(kmer27Table01[cols2])\n",
    "y_hat2[343:]"
   ]
  },
  {
   "cell_type": "markdown",
   "metadata": {},
   "source": [
    "#### KMeans (try 3)"
   ]
  },
  {
   "cell_type": "code",
   "execution_count": 35,
   "metadata": {},
   "outputs": [
    {
     "data": {
      "text/plain": [
       "KMeans(algorithm='auto', copy_x=True, init='k-means++', max_iter=300,\n",
       "       n_clusters=2, n_init=10, n_jobs=None, precompute_distances='auto',\n",
       "       random_state=42, tol=0.0001, verbose=0)"
      ]
     },
     "execution_count": 35,
     "metadata": {},
     "output_type": "execute_result"
    }
   ],
   "source": [
    "km3 = KMeans(random_state = 42, n_clusters = 2)\n",
    "# only use kmers of length 7\n",
    "km3.fit(kmer7Table01)"
   ]
  },
  {
   "cell_type": "code",
   "execution_count": 36,
   "metadata": {},
   "outputs": [
    {
     "data": {
      "text/plain": [
       "array([1, 1, 1, 1, 0, 0, 1])"
      ]
     },
     "execution_count": 36,
     "metadata": {},
     "output_type": "execute_result"
    }
   ],
   "source": [
    "# last 7 numbers in array are clusters for virus killers\n",
    "y_hat3 = km3.predict(kmer7Table01)\n",
    "y_hat3[343:]"
   ]
  },
  {
   "cell_type": "markdown",
   "metadata": {},
   "source": [
    "#### KMeans (try 4) best!"
   ]
  },
  {
   "cell_type": "code",
   "execution_count": 37,
   "metadata": {},
   "outputs": [
    {
     "data": {
      "text/plain": [
       "KMeans(algorithm='auto', copy_x=True, init='k-means++', max_iter=300,\n",
       "       n_clusters=2, n_init=10, n_jobs=None, precompute_distances='auto',\n",
       "       random_state=42, tol=0.0001, verbose=0)"
      ]
     },
     "execution_count": 37,
     "metadata": {},
     "output_type": "execute_result"
    }
   ],
   "source": [
    "km4 = KMeans(random_state = 42, n_clusters = 2)\n",
    "# only use columns that confirmed virus killers have no zeros in for kmer length 7\n",
    "cols4 = kmer7Table1.loc[:, (kmer7Table1 == 0).any(axis=0) != True].columns\n",
    "km4.fit(kmer7Table01[cols4])"
   ]
  },
  {
   "cell_type": "code",
   "execution_count": 38,
   "metadata": {},
   "outputs": [
    {
     "data": {
      "text/plain": [
       "array([1, 1, 1, 1, 1, 1, 1])"
      ]
     },
     "execution_count": 38,
     "metadata": {},
     "output_type": "execute_result"
    }
   ],
   "source": [
    "# last 7 numbers in array are clusters for virus killers\n",
    "y_hat4 = km4.predict(kmer7Table01[cols4])\n",
    "y_hat4[343:]"
   ]
  },
  {
   "cell_type": "code",
   "execution_count": 39,
   "metadata": {},
   "outputs": [
    {
     "data": {
      "text/plain": [
       "array([1, 0, 1, 1, 0, 0, 0, 0, 0, 1, 0, 0, 1, 0, 0, 0, 0, 0, 1, 1, 0, 0,\n",
       "       1, 0, 0, 0, 0, 0, 0, 1, 1, 1, 1, 1, 0, 0, 0, 0, 0, 0, 0, 0, 0, 0,\n",
       "       0, 0, 1, 0, 0, 0, 0, 0, 1, 1, 1, 0, 1, 0, 0, 1, 1, 1, 1, 0, 1, 1,\n",
       "       0, 0, 0, 0, 0, 0, 0, 0, 0, 0, 0, 0, 0, 0, 0, 1, 1, 0, 0, 0, 0, 0,\n",
       "       0, 0, 0, 0, 0, 0, 1, 0, 0, 1, 1, 0, 0, 0, 0, 0, 1, 0, 1, 1, 0, 0,\n",
       "       0, 0, 0, 0, 0, 0, 0, 1, 1, 0, 0, 0, 0, 0, 0, 1, 1, 0, 1, 1, 1, 0,\n",
       "       0, 0, 0, 0, 0, 0, 0, 0, 0, 1, 0, 0, 1, 1, 1, 1, 0, 1, 0, 1, 0, 0,\n",
       "       0, 0, 0, 1, 0, 0, 0, 0, 1, 0, 0, 1, 1, 1, 0, 1, 1, 1, 1, 1, 1, 0,\n",
       "       0, 0, 0, 0, 0, 0, 1, 1, 0, 1, 1, 0, 0, 0, 0, 0, 0, 0, 0, 1, 0, 0,\n",
       "       0, 0, 0, 1, 0, 1, 0, 1, 0, 0, 1, 1, 1, 1, 1, 0, 0, 0, 0, 0, 0, 1,\n",
       "       1, 1, 1, 0, 0, 0, 0, 0, 0, 0, 1, 1, 1, 1, 1, 1, 1, 1, 0, 0, 1, 1,\n",
       "       1, 0, 0, 0, 0, 1, 1, 0, 1, 1, 0, 0, 0, 1, 1, 0, 1, 1, 1, 0, 1, 0,\n",
       "       0, 1, 0, 0, 0, 1, 0, 0, 0, 0, 0, 1, 0, 0, 0, 0, 0, 0, 0, 1, 0, 0,\n",
       "       0, 0, 0, 0, 0, 1, 0, 1, 0, 0, 0, 1, 0, 1, 0, 0, 0, 1, 0, 0, 0, 0,\n",
       "       0, 0, 0, 0, 1, 1, 0, 0, 1, 0, 0, 1, 1, 1, 1, 1, 1, 0, 1, 1, 0, 1,\n",
       "       0, 1, 1, 1, 1, 1, 0, 0, 0, 0, 1, 1, 1, 1, 1, 1, 1, 1, 1, 1])"
      ]
     },
     "execution_count": 39,
     "metadata": {},
     "output_type": "execute_result"
    }
   ],
   "source": [
    "y_hat4"
   ]
  },
  {
   "cell_type": "code",
   "execution_count": 40,
   "metadata": {},
   "outputs": [
    {
     "name": "stdout",
     "output_type": "stream",
     "text": [
      "34\n"
     ]
    }
   ],
   "source": [
    "print(len(kmer7Table01[cols4].columns))"
   ]
  },
  {
   "cell_type": "code",
   "execution_count": 41,
   "metadata": {},
   "outputs": [],
   "source": [
    "# Visulization attempt"
   ]
  },
  {
   "cell_type": "code",
   "execution_count": 42,
   "metadata": {},
   "outputs": [],
   "source": [
    "# confirmed labels\n",
    "# for i in range(1,10):\n",
    "#     kmer7Table01[cols4].plot.scatter(x=0, y=i, c=labels, cmap=\"viridis\")"
   ]
  },
  {
   "cell_type": "code",
   "execution_count": 43,
   "metadata": {},
   "outputs": [],
   "source": [
    "# KMeans labels\n",
    "# for i in range(1,10):\n",
    "#     kmer7Table01[cols4].plot.scatter(x=0, y=i, c=y_hat4, cmap=\"viridis\")"
   ]
  },
  {
   "cell_type": "markdown",
   "metadata": {},
   "source": [
    "#### KMeans (try 5)"
   ]
  },
  {
   "cell_type": "code",
   "execution_count": 44,
   "metadata": {},
   "outputs": [
    {
     "data": {
      "text/plain": [
       "KMeans(algorithm='auto', copy_x=True, init='k-means++', max_iter=300,\n",
       "       n_clusters=4, n_init=10, n_jobs=None, precompute_distances='auto',\n",
       "       random_state=42, tol=0.0001, verbose=0)"
      ]
     },
     "execution_count": 44,
     "metadata": {},
     "output_type": "execute_result"
    }
   ],
   "source": [
    "from sklearn.cluster import KMeans\n",
    "# 4 clusters because of mean shift\n",
    "km5 = KMeans(random_state = 42, n_clusters = 4)\n",
    "km5.fit(kmer27Table01)"
   ]
  },
  {
   "cell_type": "code",
   "execution_count": 45,
   "metadata": {},
   "outputs": [
    {
     "data": {
      "text/plain": [
       "array([2, 2, 1, 2, 3, 1, 2])"
      ]
     },
     "execution_count": 45,
     "metadata": {},
     "output_type": "execute_result"
    }
   ],
   "source": [
    "# last 7 numbers in array are clusters for virus killers\n",
    "y_hat5 = km5.predict(kmer27Table01)\n",
    "y_hat5[343:]"
   ]
  },
  {
   "cell_type": "code",
   "execution_count": 46,
   "metadata": {},
   "outputs": [
    {
     "data": {
      "text/plain": [
       "KMeans(algorithm='auto', copy_x=True, init='k-means++', max_iter=300,\n",
       "       n_clusters=8, n_init=10, n_jobs=None, precompute_distances='auto',\n",
       "       random_state=42, tol=0.0001, verbose=0)"
      ]
     },
     "execution_count": 46,
     "metadata": {},
     "output_type": "execute_result"
    }
   ],
   "source": [
    "from sklearn.cluster import KMeans\n",
    "km6 = KMeans(random_state = 42)\n",
    "km6.fit(kmer27Table01)"
   ]
  },
  {
   "cell_type": "code",
   "execution_count": 47,
   "metadata": {},
   "outputs": [
    {
     "data": {
      "text/plain": [
       "array([7, 5, 5, 7, 3, 3, 7])"
      ]
     },
     "execution_count": 47,
     "metadata": {},
     "output_type": "execute_result"
    }
   ],
   "source": [
    "# last 7 numbers in array are clusters for virus killers\n",
    "y_hat6 = km6.predict(kmer27Table01)\n",
    "y_hat6[343:]"
   ]
  },
  {
   "cell_type": "markdown",
   "metadata": {},
   "source": [
    "#### **PCA**\n",
    "Same with KMeans, I'm trying a variety of different features. I'm also graphing kmeans (try4) labels on the same graph as the PCA graphs to better see clusters."
   ]
  },
  {
   "cell_type": "markdown",
   "metadata": {},
   "source": [
    "#### PCA (try 1)"
   ]
  },
  {
   "cell_type": "code",
   "execution_count": 48,
   "metadata": {},
   "outputs": [
    {
     "data": {
      "text/plain": [
       "PCA(copy=True, iterated_power='auto', n_components=None, random_state=None,\n",
       "    svd_solver='auto', tol=0.0, whiten=False)"
      ]
     },
     "execution_count": 48,
     "metadata": {},
     "output_type": "execute_result"
    }
   ],
   "source": [
    "from sklearn.decomposition import PCA\n",
    "embedding1 = PCA()\n",
    "embedding1.fit(kmer27Table01)"
   ]
  },
  {
   "cell_type": "code",
   "execution_count": 49,
   "metadata": {},
   "outputs": [
    {
     "data": {
      "text/plain": [
       "dimensions\n",
       "1    0.348472\n",
       "2    0.127270\n",
       "3    0.049630\n",
       "4    0.037235\n",
       "5    0.034573\n",
       "dtype: float64"
      ]
     },
     "execution_count": 49,
     "metadata": {},
     "output_type": "execute_result"
    }
   ],
   "source": [
    "dimensions1 = pd.Index(range(1,embedding1.n_components_ + 1), name=\"dimensions\")\n",
    "dimensions_ratio1 = pd.Series(embedding1.explained_variance_ratio_, index=dimensions1)\n",
    "dimensions_ratio1.head()"
   ]
  },
  {
   "cell_type": "code",
   "execution_count": 50,
   "metadata": {},
   "outputs": [
    {
     "data": {
      "text/plain": [
       "<matplotlib.axes._subplots.AxesSubplot at 0x2825ad39808>"
      ]
     },
     "execution_count": 50,
     "metadata": {},
     "output_type": "execute_result"
    },
    {
     "data": {
      "image/png": "[encoded data removed]",
      "text/plain": [
       "<Figure size 432x288 with 1 Axes>"
      ]
     },
     "metadata": {
      "needs_background": "light"
     },
     "output_type": "display_data"
    }
   ],
   "source": [
    "# Importance of each dimension\n",
    "dimensions_ratio1.cumsum().plot(grid=True)"
   ]
  },
  {
   "cell_type": "code",
   "execution_count": 51,
   "metadata": {},
   "outputs": [
    {
     "data": {
      "text/plain": [
       "<matplotlib.axes._subplots.AxesSubplot at 0x2825b55f948>"
      ]
     },
     "execution_count": 51,
     "metadata": {},
     "output_type": "execute_result"
    },
    {
     "data": {
      "image/png": "[encoded data removed]",
      "text/plain": [
       "<Figure size 432x288 with 2 Axes>"
      ]
     },
     "metadata": {
      "needs_background": "light"
     },
     "output_type": "display_data"
    }
   ],
   "source": [
    "# Plotting the two most important dimensions against each other\n",
    "import matplotlib.pyplot as plt\n",
    "\n",
    "show1 = pd.DataFrame(embedding1.transform(kmer27Table01))\n",
    "show1.plot.scatter(x=0, y=1, style=\"o\", c=labels, cmap = \"viridis\", s=2)"
   ]
  },
  {
   "cell_type": "code",
   "execution_count": 52,
   "metadata": {},
   "outputs": [
    {
     "data": {
      "text/plain": [
       "<matplotlib.axes._subplots.AxesSubplot at 0x2825b5a4688>"
      ]
     },
     "execution_count": 52,
     "metadata": {},
     "output_type": "execute_result"
    },
    {
     "data": {
      "image/png": "[encoded data removed]",
      "text/plain": [
       "<Figure size 432x288 with 2 Axes>"
      ]
     },
     "metadata": {
      "needs_background": "light"
     },
     "output_type": "display_data"
    }
   ],
   "source": [
    "# kmeans (try4) clustering\n",
    "show1.plot.scatter(x=0, y=1, style=\"o\", c=y_hat4, cmap = \"viridis\", s=2)"
   ]
  },
  {
   "cell_type": "code",
   "execution_count": 53,
   "metadata": {},
   "outputs": [
    {
     "data": {
      "text/plain": [
       "<matplotlib.axes._subplots.AxesSubplot at 0x2825b5d7d08>"
      ]
     },
     "execution_count": 53,
     "metadata": {},
     "output_type": "execute_result"
    },
    {
     "data": {
      "image/png": "[encoded data removed]",
      "text/plain": [
       "<Figure size 432x288 with 2 Axes>"
      ]
     },
     "metadata": {
      "needs_background": "light"
     },
     "output_type": "display_data"
    }
   ],
   "source": [
    "# kmeans (try5) clustering\n",
    "show1.plot.scatter(x=0, y=1, style=\"o\", c=y_hat6, cmap = \"viridis\", s=2)"
   ]
  },
  {
   "cell_type": "markdown",
   "metadata": {},
   "source": [
    "#### PCA (try 2) best!"
   ]
  },
  {
   "cell_type": "code",
   "execution_count": 54,
   "metadata": {},
   "outputs": [
    {
     "data": {
      "text/plain": [
       "PCA(copy=True, iterated_power='auto', n_components=None, random_state=None,\n",
       "    svd_solver='auto', tol=0.0, whiten=False)"
      ]
     },
     "execution_count": 54,
     "metadata": {},
     "output_type": "execute_result"
    }
   ],
   "source": [
    "embedding2 = PCA()\n",
    "# only use columns that confirmed virus killers have no zeros in for kmer length 7\n",
    "cols = kmer7Table1.loc[:, (kmer7Table1 == 0).any(axis=0) != True].columns\n",
    "embedding2.fit(kmer7Table01[cols])"
   ]
  },
  {
   "cell_type": "code",
   "execution_count": 55,
   "metadata": {},
   "outputs": [
    {
     "data": {
      "text/plain": [
       "dimensions\n",
       "1    0.147604\n",
       "2    0.067802\n",
       "3    0.052073\n",
       "4    0.049220\n",
       "5    0.043775\n",
       "dtype: float64"
      ]
     },
     "execution_count": 55,
     "metadata": {},
     "output_type": "execute_result"
    }
   ],
   "source": [
    "dimensions2 = pd.Index(range(1,embedding2.n_components_ + 1), name=\"dimensions\")\n",
    "dimensions_ratio2 = pd.Series(embedding2.explained_variance_ratio_, index=dimensions2)\n",
    "dimensions_ratio2.head()"
   ]
  },
  {
   "cell_type": "code",
   "execution_count": 56,
   "metadata": {},
   "outputs": [
    {
     "data": {
      "text/plain": [
       "<matplotlib.axes._subplots.AxesSubplot at 0x2825b629f08>"
      ]
     },
     "execution_count": 56,
     "metadata": {},
     "output_type": "execute_result"
    },
    {
     "data": {
      "image/png": "[encoded data removed]",
      "text/plain": [
       "<Figure size 432x288 with 1 Axes>"
      ]
     },
     "metadata": {
      "needs_background": "light"
     },
     "output_type": "display_data"
    }
   ],
   "source": [
    "# Importance of each dimension\n",
    "dimensions_ratio2.cumsum().plot(grid=True)"
   ]
  },
  {
   "cell_type": "code",
   "execution_count": 57,
   "metadata": {},
   "outputs": [
    {
     "data": {
      "text/plain": [
       "<matplotlib.axes._subplots.AxesSubplot at 0x2825b162608>"
      ]
     },
     "execution_count": 57,
     "metadata": {},
     "output_type": "execute_result"
    },
    {
     "data": {
      "image/png": "[encoded data removed]",
      "text/plain": [
       "<Figure size 432x288 with 2 Axes>"
      ]
     },
     "metadata": {
      "needs_background": "light"
     },
     "output_type": "display_data"
    }
   ],
   "source": [
    "# Plotting the two most important dimensions against each other\n",
    "import matplotlib.pyplot as plt\n",
    "\n",
    "# Confirmed labels\n",
    "show2 = pd.DataFrame(embedding2.transform(kmer7Table01[cols]))\n",
    "show2.plot.scatter(x=0, y=1, style=\"o\", c=labels, cmap = \"viridis\", s=2)"
   ]
  },
  {
   "cell_type": "code",
   "execution_count": 58,
   "metadata": {},
   "outputs": [
    {
     "data": {
      "text/plain": [
       "Text(0, 0.5, 'Second Principal Component')"
      ]
     },
     "execution_count": 58,
     "metadata": {},
     "output_type": "execute_result"
    },
    {
     "data": {
      "image/png": "[encoded data removed]",
      "text/plain": [
       "<Figure size 432x288 with 2 Axes>"
      ]
     },
     "metadata": {
      "needs_background": "light"
     },
     "output_type": "display_data"
    }
   ],
   "source": [
    "# kmeans clustering\n",
    "show2.plot.scatter(x=0, y=1, style=\"o\", c=y_hat4, cmap = \"viridis\", s=2)\n",
    "plt.title('PCA Visualization for KMeans Clustering')\n",
    "plt.xlabel('First Principal Component')\n",
    "plt.ylabel('Second Principal Component')\n",
    "#plt.savefig('foo.png', bbox_inches='tight')"
   ]
  },
  {
   "cell_type": "code",
   "execution_count": 59,
   "metadata": {},
   "outputs": [
    {
     "data": {
      "image/png": "[encoded data removed]",
      "text/plain": [
       "<Figure size 432x288 with 1 Axes>"
      ]
     },
     "metadata": {
      "needs_background": "light"
     },
     "output_type": "display_data"
    }
   ],
   "source": [
    "from mpl_toolkits.mplot3d import Axes3D\n",
    "ax = plt.figure().gca(projection='3d')\n",
    "ax.scatter(show2[0], show2[1], show2[2], c=labels, cmap='viridis')\n",
    "ax.set_xlabel('0')\n",
    "ax.set_ylabel('1')\n",
    "ax.set_zlabel('2')\n",
    "plt.show()"
   ]
  },
  {
   "cell_type": "code",
   "execution_count": 60,
   "metadata": {},
   "outputs": [
    {
     "data": {
      "text/plain": [
       "Text(0, 0.5, 'Second Principal Component')"
      ]
     },
     "execution_count": 60,
     "metadata": {},
     "output_type": "execute_result"
    },
    {
     "data": {
      "image/png": "[encoded data removed]",
      "text/plain": [
       "<Figure size 432x288 with 2 Axes>"
      ]
     },
     "metadata": {
      "needs_background": "light"
     },
     "output_type": "display_data"
    }
   ],
   "source": [
    "# kmeans clustering\n",
    "show2.plot.scatter(x=0, y=1, style=\"o\", c=y_hat6, cmap = \"viridis\", s=2)\n",
    "plt.title('PCA Visualization for KMeans Clustering')\n",
    "plt.xlabel('First Principal Component')\n",
    "plt.ylabel('Second Principal Component')\n",
    "#plt.savefig('foo.png', bbox_inches='tight')"
   ]
  },
  {
   "cell_type": "markdown",
   "metadata": {},
   "source": [
    "#### **tSNE**"
   ]
  },
  {
   "cell_type": "markdown",
   "metadata": {},
   "source": [
    "#### tSNE (try 1)"
   ]
  },
  {
   "cell_type": "code",
   "execution_count": 61,
   "metadata": {},
   "outputs": [
    {
     "data": {
      "text/plain": [
       "<matplotlib.axes._subplots.AxesSubplot at 0x28266880d88>"
      ]
     },
     "execution_count": 61,
     "metadata": {},
     "output_type": "execute_result"
    },
    {
     "data": {
      "image/png": "[encoded data removed]",
      "text/plain": [
       "<Figure size 432x288 with 2 Axes>"
      ]
     },
     "metadata": {
      "needs_background": "light"
     },
     "output_type": "display_data"
    },
    {
     "data": {
      "image/png": "[encoded data removed]",
      "text/plain": [
       "<Figure size 432x288 with 2 Axes>"
      ]
     },
     "metadata": {
      "needs_background": "light"
     },
     "output_type": "display_data"
    }
   ],
   "source": [
    "from sklearn.manifold import TSNE\n",
    "tSNEembedding = TSNE(n_components=2, random_state = 0)\n",
    "tSNEembedding_low = tSNEembedding.fit_transform(kmer7Table01[cols])\n",
    "\n",
    "tSNEshow = pd.DataFrame(tSNEembedding_low)\n",
    "tSNEshow.plot.scatter(x=0, y=1, style=\"o\", c=y_hat4, cmap = \"viridis\", s=2)\n",
    "tSNEshow.plot.scatter(x=0, y=1, style=\"o\", c=labels, cmap = \"viridis\", s=2)"
   ]
  },
  {
   "cell_type": "code",
   "execution_count": 62,
   "metadata": {},
   "outputs": [
    {
     "data": {
      "image/png": "[encoded data removed]",
      "text/plain": [
       "<Figure size 432x288 with 1 Axes>"
      ]
     },
     "metadata": {
      "needs_background": "light"
     },
     "output_type": "display_data"
    },
    {
     "data": {
      "image/png": "[encoded data removed]",
      "text/plain": [
       "<Figure size 432x288 with 1 Axes>"
      ]
     },
     "metadata": {
      "needs_background": "light"
     },
     "output_type": "display_data"
    }
   ],
   "source": [
    "tSNEembedding = TSNE(n_components=3, random_state = 0)\n",
    "tSNEembedding_low = tSNEembedding.fit_transform(kmer7Table01[cols])\n",
    "\n",
    "tSNEshow = pd.DataFrame(tSNEembedding_low)\n",
    "\n",
    "ax = plt.figure().gca(projection='3d')\n",
    "ax.scatter(tSNEshow[0], tSNEshow[1], tSNEshow[2], c=labels, cmap='viridis')\n",
    "ax.set_xlabel('0')\n",
    "ax.set_ylabel('1')\n",
    "ax.set_zlabel('2')\n",
    "plt.show()\n",
    "\n",
    "ax = plt.figure().gca(projection='3d')\n",
    "ax.scatter(tSNEshow[0], tSNEshow[1], tSNEshow[2], c=y_hat4, cmap='viridis')\n",
    "ax.set_xlabel('0')\n",
    "ax.set_ylabel('1')\n",
    "ax.set_zlabel('2')\n",
    "plt.show()"
   ]
  },
  {
   "cell_type": "markdown",
   "metadata": {},
   "source": [
    "#### **Spectral Clustering**"
   ]
  },
  {
   "cell_type": "markdown",
   "metadata": {},
   "source": [
    "#### Spectral Clustering with PCA (try 2)"
   ]
  },
  {
   "cell_type": "code",
   "execution_count": 63,
   "metadata": {},
   "outputs": [],
   "source": [
    "from sklearn.cluster import SpectralClustering\n",
    "clustering = SpectralClustering(n_clusters=2, random_state=0).fit(show2)"
   ]
  },
  {
   "cell_type": "code",
   "execution_count": 64,
   "metadata": {},
   "outputs": [
    {
     "data": {
      "text/plain": [
       "<matplotlib.axes._subplots.AxesSubplot at 0x28266ab2248>"
      ]
     },
     "execution_count": 64,
     "metadata": {},
     "output_type": "execute_result"
    },
    {
     "data": {
      "image/png": "[encoded data removed]",
      "text/plain": [
       "<Figure size 432x288 with 2 Axes>"
      ]
     },
     "metadata": {
      "needs_background": "light"
     },
     "output_type": "display_data"
    }
   ],
   "source": [
    "# Clustering labels\n",
    "show2.plot.scatter(x=0, y=1, style=\"o\", c=clustering.labels_, cmap = \"viridis\", s=2)"
   ]
  },
  {
   "cell_type": "code",
   "execution_count": 65,
   "metadata": {},
   "outputs": [
    {
     "data": {
      "text/plain": [
       "<matplotlib.axes._subplots.AxesSubplot at 0x28267b47908>"
      ]
     },
     "execution_count": 65,
     "metadata": {},
     "output_type": "execute_result"
    },
    {
     "data": {
      "image/png": "[encoded data removed]",
      "text/plain": [
       "<Figure size 432x288 with 2 Axes>"
      ]
     },
     "metadata": {
      "needs_background": "light"
     },
     "output_type": "display_data"
    }
   ],
   "source": [
    "# Confirmed labels\n",
    "show2.plot.scatter(x=0, y=1, style=\"o\", c=labels, cmap = \"viridis\", s=2)"
   ]
  },
  {
   "cell_type": "code",
   "execution_count": 66,
   "metadata": {},
   "outputs": [
    {
     "data": {
      "text/plain": [
       "<matplotlib.axes._subplots.AxesSubplot at 0x28267c139c8>"
      ]
     },
     "execution_count": 66,
     "metadata": {},
     "output_type": "execute_result"
    },
    {
     "data": {
      "image/png": "[encoded data removed]",
      "text/plain": [
       "<Figure size 432x288 with 2 Axes>"
      ]
     },
     "metadata": {
      "needs_background": "light"
     },
     "output_type": "display_data"
    }
   ],
   "source": [
    "# Kmeans clustering\n",
    "show2.plot.scatter(x=0, y=1, style=\"o\", c=y_hat4, cmap = \"viridis\", s=2)"
   ]
  },
  {
   "cell_type": "markdown",
   "metadata": {},
   "source": [
    "#### **Mean Shift**\n",
    "Trying to eliminate effect of common clusters. Lot's of work still needed, but if common kmers can be removed to better illustrate feature importance, clusterng methods will work alot better."
   ]
  },
  {
   "cell_type": "markdown",
   "metadata": {},
   "source": [
    "#### Mean Shift (try 1)"
   ]
  },
  {
   "cell_type": "code",
   "execution_count": 67,
   "metadata": {},
   "outputs": [],
   "source": [
    "from sklearn.cluster import MeanShift\n",
    "ms = MeanShift()\n",
    "ms.fit(show1)\n",
    "cluster_centers = ms.cluster_centers_"
   ]
  },
  {
   "cell_type": "code",
   "execution_count": 68,
   "metadata": {},
   "outputs": [
    {
     "data": {
      "text/plain": [
       "Text(0, 0.5, '1')"
      ]
     },
     "execution_count": 68,
     "metadata": {},
     "output_type": "execute_result"
    },
    {
     "data": {
      "image/png": "[encoded data removed]",
      "text/plain": [
       "<Figure size 432x288 with 2 Axes>"
      ]
     },
     "metadata": {
      "needs_background": "light"
     },
     "output_type": "display_data"
    }
   ],
   "source": [
    "ax = show1.plot.scatter(x=0, y=1, style=\"o\", c=labels, cmap = \"viridis\", s=2)\n",
    "ax.scatter(cluster_centers[:,0], cluster_centers[:,1], marker='x', color='red', s=100, linewidth=1)\n",
    "ax.set_xlabel('0')\n",
    "ax.set_ylabel('1')"
   ]
  },
  {
   "cell_type": "code",
   "execution_count": 69,
   "metadata": {},
   "outputs": [
    {
     "data": {
      "image/png": "[encoded data removed]",
      "text/plain": [
       "<Figure size 432x288 with 1 Axes>"
      ]
     },
     "metadata": {
      "needs_background": "light"
     },
     "output_type": "display_data"
    }
   ],
   "source": [
    "ax = plt.figure().gca(projection='3d')\n",
    "ax.scatter(show1[0], show1[1], show1[2], c=labels, cmap='viridis')\n",
    "ax.scatter(cluster_centers[:,0], cluster_centers[:,1], cluster_centers[:,2], marker='x', color='red', s=300, linewidth=5, zorder=10)\n",
    "ax.set_xlabel('0')\n",
    "ax.set_ylabel('1')\n",
    "ax.set_zlabel('2')\n",
    "plt.show()"
   ]
  },
  {
   "cell_type": "markdown",
   "metadata": {},
   "source": [
    "#### Mean Shift (try 2)"
   ]
  },
  {
   "cell_type": "code",
   "execution_count": 70,
   "metadata": {},
   "outputs": [],
   "source": [
    "ms = MeanShift()\n",
    "ms.fit(show2)\n",
    "cluster_centers = ms.cluster_centers_"
   ]
  },
  {
   "cell_type": "code",
   "execution_count": 71,
   "metadata": {},
   "outputs": [
    {
     "data": {
      "text/plain": [
       "Text(0, 0.5, '1')"
      ]
     },
     "execution_count": 71,
     "metadata": {},
     "output_type": "execute_result"
    },
    {
     "data": {
      "image/png": "[encoded data removed]",
      "text/plain": [
       "<Figure size 432x288 with 2 Axes>"
      ]
     },
     "metadata": {
      "needs_background": "light"
     },
     "output_type": "display_data"
    }
   ],
   "source": [
    "ax = show2.plot.scatter(x=0, y=1, style=\"o\", c=labels, cmap = \"viridis\", s=2)\n",
    "ax.scatter(cluster_centers[:,0], cluster_centers[:,1], marker='x', color='red', s=100, linewidth=1)\n",
    "ax.set_xlabel('0')\n",
    "ax.set_ylabel('1')"
   ]
  },
  {
   "cell_type": "code",
   "execution_count": 72,
   "metadata": {},
   "outputs": [
    {
     "data": {
      "text/plain": [
       "array([0.00500029, 0.00283078, 0.00387404, 0.00270907, 0.00296418,\n",
       "       0.00541534, 0.00356917, 0.00290208, 0.00387834, 0.00381071,\n",
       "       0.00370791, 0.00355257, 0.00309258, 0.00313879, 0.00328262,\n",
       "       0.00304122, 0.00436592, 0.00326359, 0.00322572, 0.00280265,\n",
       "       0.0033803 , 0.00350289, 0.00460773, 0.00474789, 0.00444827,\n",
       "       0.0029092 , 0.00314505, 0.00361447, 0.00345367, 0.00382174,\n",
       "       0.0043725 , 0.00446568, 0.00378362, 0.00425733])"
      ]
     },
     "execution_count": 72,
     "metadata": {},
     "output_type": "execute_result"
    }
   ],
   "source": [
    "ms = MeanShift()\n",
    "ms.fit(kmer7Table01[cols4])\n",
    "cluster_centers = ms.cluster_centers_\n",
    "cluster_centers[0]"
   ]
  },
  {
   "cell_type": "code",
   "execution_count": 73,
   "metadata": {},
   "outputs": [
    {
     "name": "stdout",
     "output_type": "stream",
     "text": [
      "[-6.33924876e-03 -1.00660991e-05  9.23686174e-05 -1.67547532e-04\n",
      " -6.90636985e-04 -9.41128597e-05 -1.02606960e-04  9.92680258e-05\n",
      " -1.35514555e-04  1.85166457e-05 -5.47522679e-05 -2.63955517e-04\n",
      " -7.06849332e-05  1.42731236e-04  6.06862628e-05 -2.74002400e-04\n",
      "  5.80646268e-05 -1.26668626e-04 -9.87505338e-08  7.10144658e-06\n",
      "  1.53330492e-04 -2.72118508e-04 -2.59313338e-04  9.44052728e-06\n",
      " -1.29156914e-04 -4.41844136e-05 -4.14355005e-05  2.87829938e-04\n",
      "  2.97666027e-04  1.00467614e-04  1.51203633e-05 -1.63631720e-04\n",
      "  3.89414763e-05 -1.25345044e-04]\n",
      "[0.00500029 0.00283078 0.00387404 0.00270907 0.00296418 0.00541534\n",
      " 0.00356917 0.00290208 0.00387834 0.00381071 0.00370791 0.00355257\n",
      " 0.00309258 0.00313879 0.00328262 0.00304122 0.00436592 0.00326359\n",
      " 0.00322572 0.00280265 0.0033803  0.00350289 0.00460773 0.00474789\n",
      " 0.00444827 0.0029092  0.00314505 0.00361447 0.00345367 0.00382174\n",
      " 0.0043725  0.00446568 0.00378362 0.00425733]\n"
     ]
    }
   ],
   "source": [
    "ms = MeanShift()\n",
    "ms.fit(show2)\n",
    "cluster_centers = ms.cluster_centers_\n",
    "print(cluster_centers[0])\n",
    "cluster_centers = embedding2.inverse_transform(ms.cluster_centers_)\n",
    "print(cluster_centers[0])"
   ]
  },
  {
   "cell_type": "markdown",
   "metadata": {},
   "source": [
    "## Tf instead of T\n",
    "-----"
   ]
  },
  {
   "cell_type": "code",
   "execution_count": 74,
   "metadata": {},
   "outputs": [],
   "source": [
    "from sklearn.feature_extraction.text import CountVectorizer\n",
    "def kmerXTabletf(s, a, b):\n",
    "    tf_vector = CountVectorizer(analyzer='char', ngram_range=(a,b))\n",
    "    s_hat = tf_vector.fit_transform(s.Sequence)\n",
    "    kmerNames = tf_vector.get_feature_names()\n",
    "    kmers = s_hat.toarray()\n",
    "    df = pd.DataFrame(kmers,columns=kmerNames, index = s.index)\n",
    "    return df.div(df.apply(sum, axis=1), axis=0)"
   ]
  },
  {
   "cell_type": "code",
   "execution_count": 75,
   "metadata": {},
   "outputs": [
    {
     "data": {
      "text/html": [
       "<div>\n",
       "<style scoped>\n",
       "    .dataframe tbody tr th:only-of-type {\n",
       "        vertical-align: middle;\n",
       "    }\n",
       "\n",
       "    .dataframe tbody tr th {\n",
       "        vertical-align: top;\n",
       "    }\n",
       "\n",
       "    .dataframe thead th {\n",
       "        text-align: right;\n",
       "    }\n",
       "</style>\n",
       "<table border=\"1\" class=\"dataframe\">\n",
       "  <thead>\n",
       "    <tr style=\"text-align: right;\">\n",
       "      <th></th>\n",
       "      <th>aaaaaaa</th>\n",
       "      <th>aaaaaac</th>\n",
       "      <th>aaaaaag</th>\n",
       "      <th>aaaaaat</th>\n",
       "      <th>aaaaaca</th>\n",
       "      <th>aaaaacc</th>\n",
       "      <th>aaaaacg</th>\n",
       "      <th>aaaaact</th>\n",
       "      <th>aaaaaga</th>\n",
       "      <th>aaaaagc</th>\n",
       "      <th>...</th>\n",
       "      <th>tttttck</th>\n",
       "      <th>tttttct</th>\n",
       "      <th>tttttga</th>\n",
       "      <th>tttttgc</th>\n",
       "      <th>tttttgg</th>\n",
       "      <th>tttttgt</th>\n",
       "      <th>tttttta</th>\n",
       "      <th>ttttttc</th>\n",
       "      <th>ttttttg</th>\n",
       "      <th>ttttttt</th>\n",
       "    </tr>\n",
       "    <tr>\n",
       "      <th>ID</th>\n",
       "      <th></th>\n",
       "      <th></th>\n",
       "      <th></th>\n",
       "      <th></th>\n",
       "      <th></th>\n",
       "      <th></th>\n",
       "      <th></th>\n",
       "      <th></th>\n",
       "      <th></th>\n",
       "      <th></th>\n",
       "      <th></th>\n",
       "      <th></th>\n",
       "      <th></th>\n",
       "      <th></th>\n",
       "      <th></th>\n",
       "      <th></th>\n",
       "      <th></th>\n",
       "      <th></th>\n",
       "      <th></th>\n",
       "      <th></th>\n",
       "      <th></th>\n",
       "    </tr>\n",
       "  </thead>\n",
       "  <tbody>\n",
       "    <tr>\n",
       "      <th>NC_007415.1</th>\n",
       "      <td>0.008236</td>\n",
       "      <td>0.000000</td>\n",
       "      <td>0.0</td>\n",
       "      <td>0.000000</td>\n",
       "      <td>0.000000</td>\n",
       "      <td>0.000183</td>\n",
       "      <td>0.000183</td>\n",
       "      <td>0.000366</td>\n",
       "      <td>0.000000</td>\n",
       "      <td>0.000000</td>\n",
       "      <td>...</td>\n",
       "      <td>0.0</td>\n",
       "      <td>0.000000</td>\n",
       "      <td>0.000366</td>\n",
       "      <td>0.000366</td>\n",
       "      <td>0.000000</td>\n",
       "      <td>0.000183</td>\n",
       "      <td>0.000000</td>\n",
       "      <td>0.000183</td>\n",
       "      <td>0.000366</td>\n",
       "      <td>0.000366</td>\n",
       "    </tr>\n",
       "    <tr>\n",
       "      <th>NC_015939.1</th>\n",
       "      <td>0.003451</td>\n",
       "      <td>0.000096</td>\n",
       "      <td>0.0</td>\n",
       "      <td>0.000192</td>\n",
       "      <td>0.000096</td>\n",
       "      <td>0.000000</td>\n",
       "      <td>0.000000</td>\n",
       "      <td>0.000192</td>\n",
       "      <td>0.000096</td>\n",
       "      <td>0.000000</td>\n",
       "      <td>...</td>\n",
       "      <td>0.0</td>\n",
       "      <td>0.000096</td>\n",
       "      <td>0.000000</td>\n",
       "      <td>0.000000</td>\n",
       "      <td>0.000192</td>\n",
       "      <td>0.000192</td>\n",
       "      <td>0.000096</td>\n",
       "      <td>0.000000</td>\n",
       "      <td>0.000000</td>\n",
       "      <td>0.000000</td>\n",
       "    </tr>\n",
       "    <tr>\n",
       "      <th>NC_022896.1</th>\n",
       "      <td>0.001715</td>\n",
       "      <td>0.000000</td>\n",
       "      <td>0.0</td>\n",
       "      <td>0.000000</td>\n",
       "      <td>0.000000</td>\n",
       "      <td>0.000137</td>\n",
       "      <td>0.000069</td>\n",
       "      <td>0.000000</td>\n",
       "      <td>0.000000</td>\n",
       "      <td>0.000000</td>\n",
       "      <td>...</td>\n",
       "      <td>0.0</td>\n",
       "      <td>0.000000</td>\n",
       "      <td>0.000000</td>\n",
       "      <td>0.000000</td>\n",
       "      <td>0.000206</td>\n",
       "      <td>0.000137</td>\n",
       "      <td>0.000069</td>\n",
       "      <td>0.000000</td>\n",
       "      <td>0.000069</td>\n",
       "      <td>0.000000</td>\n",
       "    </tr>\n",
       "    <tr>\n",
       "      <th>NC_026510.1</th>\n",
       "      <td>0.000000</td>\n",
       "      <td>0.000000</td>\n",
       "      <td>0.0</td>\n",
       "      <td>0.000000</td>\n",
       "      <td>0.000396</td>\n",
       "      <td>0.000000</td>\n",
       "      <td>0.000000</td>\n",
       "      <td>0.000000</td>\n",
       "      <td>0.000396</td>\n",
       "      <td>0.000000</td>\n",
       "      <td>...</td>\n",
       "      <td>0.0</td>\n",
       "      <td>0.000000</td>\n",
       "      <td>0.000000</td>\n",
       "      <td>0.000000</td>\n",
       "      <td>0.000000</td>\n",
       "      <td>0.000000</td>\n",
       "      <td>0.000000</td>\n",
       "      <td>0.000000</td>\n",
       "      <td>0.000000</td>\n",
       "      <td>0.000000</td>\n",
       "    </tr>\n",
       "    <tr>\n",
       "      <th>NC_027138.1</th>\n",
       "      <td>0.000000</td>\n",
       "      <td>0.000000</td>\n",
       "      <td>0.0</td>\n",
       "      <td>0.000000</td>\n",
       "      <td>0.000155</td>\n",
       "      <td>0.000155</td>\n",
       "      <td>0.000000</td>\n",
       "      <td>0.000155</td>\n",
       "      <td>0.000000</td>\n",
       "      <td>0.000155</td>\n",
       "      <td>...</td>\n",
       "      <td>0.0</td>\n",
       "      <td>0.000000</td>\n",
       "      <td>0.000155</td>\n",
       "      <td>0.000155</td>\n",
       "      <td>0.000000</td>\n",
       "      <td>0.000000</td>\n",
       "      <td>0.000000</td>\n",
       "      <td>0.000155</td>\n",
       "      <td>0.000000</td>\n",
       "      <td>0.000000</td>\n",
       "    </tr>\n",
       "  </tbody>\n",
       "</table>\n",
       "<p>5 rows × 15057 columns</p>\n",
       "</div>"
      ],
      "text/plain": [
       "              aaaaaaa   aaaaaac  aaaaaag   aaaaaat   aaaaaca   aaaaacc  \\\n",
       "ID                                                                       \n",
       "NC_007415.1  0.008236  0.000000      0.0  0.000000  0.000000  0.000183   \n",
       "NC_015939.1  0.003451  0.000096      0.0  0.000192  0.000096  0.000000   \n",
       "NC_022896.1  0.001715  0.000000      0.0  0.000000  0.000000  0.000137   \n",
       "NC_026510.1  0.000000  0.000000      0.0  0.000000  0.000396  0.000000   \n",
       "NC_027138.1  0.000000  0.000000      0.0  0.000000  0.000155  0.000155   \n",
       "\n",
       "              aaaaacg   aaaaact   aaaaaga   aaaaagc  ...  tttttck   tttttct  \\\n",
       "ID                                                   ...                      \n",
       "NC_007415.1  0.000183  0.000366  0.000000  0.000000  ...      0.0  0.000000   \n",
       "NC_015939.1  0.000000  0.000192  0.000096  0.000000  ...      0.0  0.000096   \n",
       "NC_022896.1  0.000069  0.000000  0.000000  0.000000  ...      0.0  0.000000   \n",
       "NC_026510.1  0.000000  0.000000  0.000396  0.000000  ...      0.0  0.000000   \n",
       "NC_027138.1  0.000000  0.000155  0.000000  0.000155  ...      0.0  0.000000   \n",
       "\n",
       "              tttttga   tttttgc   tttttgg   tttttgt   tttttta   ttttttc  \\\n",
       "ID                                                                        \n",
       "NC_007415.1  0.000366  0.000366  0.000000  0.000183  0.000000  0.000183   \n",
       "NC_015939.1  0.000000  0.000000  0.000192  0.000192  0.000096  0.000000   \n",
       "NC_022896.1  0.000000  0.000000  0.000206  0.000137  0.000069  0.000000   \n",
       "NC_026510.1  0.000000  0.000000  0.000000  0.000000  0.000000  0.000000   \n",
       "NC_027138.1  0.000155  0.000155  0.000000  0.000000  0.000000  0.000155   \n",
       "\n",
       "              ttttttg   ttttttt  \n",
       "ID                               \n",
       "NC_007415.1  0.000366  0.000366  \n",
       "NC_015939.1  0.000000  0.000000  \n",
       "NC_022896.1  0.000069  0.000000  \n",
       "NC_026510.1  0.000000  0.000000  \n",
       "NC_027138.1  0.000000  0.000000  \n",
       "\n",
       "[5 rows x 15057 columns]"
      ]
     },
     "execution_count": 75,
     "metadata": {},
     "output_type": "execute_result"
    }
   ],
   "source": [
    "test = kmerXTabletf(virus1, 7, 7)\n",
    "test.head()"
   ]
  },
  {
   "cell_type": "markdown",
   "metadata": {},
   "source": [
    "## Feature Selection\n",
    "-----"
   ]
  },
  {
   "cell_type": "code",
   "execution_count": 76,
   "metadata": {},
   "outputs": [
    {
     "data": {
      "text/plain": [
       "Index(['aaaacaa', 'aactttt', 'aagatga', 'aatcaaa', 'acaaata', 'agaagaa',\n",
       "       'agatttc', 'aggaatt', 'aggagat', 'aggttga', 'atgtctg', 'atttgat',\n",
       "       'caaaaac', 'caatata', 'caatttg', 'ccaaaaa', 'cttcaac', 'gaagata',\n",
       "       'gaattcc', 'gagctga', 'gaggaat', 'ggaagat', 'gttgaag', 'tcaagaa',\n",
       "       'tcaagga', 'tcacaag', 'tcttgga', 'tggaaag', 'tggaatt', 'ttcaaag',\n",
       "       'ttctttc', 'ttgaaga', 'ttggaaa', 'ttttgat'],\n",
       "      dtype='object')"
      ]
     },
     "execution_count": 76,
     "metadata": {},
     "output_type": "execute_result"
    }
   ],
   "source": [
    "# columns that contain no zeros\n",
    "columnNonZero = kmer7Table1.loc[:, (kmer7Table1 == 0).any(axis=0) != True].columns\n",
    "columnNonZero"
   ]
  },
  {
   "cell_type": "code",
   "execution_count": 77,
   "metadata": {},
   "outputs": [
    {
     "data": {
      "text/html": [
       "<div>\n",
       "<style scoped>\n",
       "    .dataframe tbody tr th:only-of-type {\n",
       "        vertical-align: middle;\n",
       "    }\n",
       "\n",
       "    .dataframe tbody tr th {\n",
       "        vertical-align: top;\n",
       "    }\n",
       "\n",
       "    .dataframe thead th {\n",
       "        text-align: right;\n",
       "    }\n",
       "</style>\n",
       "<table border=\"1\" class=\"dataframe\">\n",
       "  <thead>\n",
       "    <tr style=\"text-align: right;\">\n",
       "      <th></th>\n",
       "      <th>Score</th>\n",
       "    </tr>\n",
       "  </thead>\n",
       "  <tbody>\n",
       "    <tr>\n",
       "      <th>ttaaaga</th>\n",
       "      <td>1.536276</td>\n",
       "    </tr>\n",
       "    <tr>\n",
       "      <th>agaagaa</th>\n",
       "      <td>1.504210</td>\n",
       "    </tr>\n",
       "    <tr>\n",
       "      <th>taataaa</th>\n",
       "      <td>1.411589</td>\n",
       "    </tr>\n",
       "    <tr>\n",
       "      <th>taaagat</th>\n",
       "      <td>1.339720</td>\n",
       "    </tr>\n",
       "    <tr>\n",
       "      <th>aaagaaa</th>\n",
       "      <td>1.285408</td>\n",
       "    </tr>\n",
       "    <tr>\n",
       "      <th>gaaatta</th>\n",
       "      <td>1.180777</td>\n",
       "    </tr>\n",
       "    <tr>\n",
       "      <th>aaattat</th>\n",
       "      <td>1.180394</td>\n",
       "    </tr>\n",
       "    <tr>\n",
       "      <th>tttaaaa</th>\n",
       "      <td>1.175981</td>\n",
       "    </tr>\n",
       "    <tr>\n",
       "      <th>aagaaaa</th>\n",
       "      <td>1.152155</td>\n",
       "    </tr>\n",
       "    <tr>\n",
       "      <th>aagatga</th>\n",
       "      <td>1.135863</td>\n",
       "    </tr>\n",
       "  </tbody>\n",
       "</table>\n",
       "</div>"
      ],
      "text/plain": [
       "            Score\n",
       "ttaaaga  1.536276\n",
       "agaagaa  1.504210\n",
       "taataaa  1.411589\n",
       "taaagat  1.339720\n",
       "aaagaaa  1.285408\n",
       "gaaatta  1.180777\n",
       "aaattat  1.180394\n",
       "tttaaaa  1.175981\n",
       "aagaaaa  1.152155\n",
       "aagatga  1.135863"
      ]
     },
     "execution_count": 77,
     "metadata": {},
     "output_type": "execute_result"
    }
   ],
   "source": [
    "from sklearn.feature_selection import SelectKBest\n",
    "from sklearn.feature_selection import chi2\n",
    "\n",
    "X = kmer7Table01\n",
    "y = y_hat4 # uses predicted labels from kmeans try4\n",
    "\n",
    "SKB = SelectKBest(score_func=chi2, k=10)\n",
    "SKB.fit(X,y)\n",
    "\n",
    "featureImportances1 = pd.DataFrame(SKB.scores_, columns = [\"Score\"], index = X.columns)\n",
    "featureImportances1 = featureImportances1.sort_values(by=\"Score\", ascending=False)\n",
    "featureImportances1.head(n=10)"
   ]
  },
  {
   "cell_type": "code",
   "execution_count": 78,
   "metadata": {},
   "outputs": [
    {
     "data": {
      "text/plain": [
       "5"
      ]
     },
     "execution_count": 78,
     "metadata": {},
     "output_type": "execute_result"
    }
   ],
   "source": [
    "total = 0\n",
    "for kmer in columnNonZero:\n",
    "    if kmer in list(featureImportances1.index[0:34]):\n",
    "        total += 1\n",
    "total"
   ]
  },
  {
   "cell_type": "code",
   "execution_count": 79,
   "metadata": {},
   "outputs": [
    {
     "data": {
      "text/html": [
       "<div>\n",
       "<style scoped>\n",
       "    .dataframe tbody tr th:only-of-type {\n",
       "        vertical-align: middle;\n",
       "    }\n",
       "\n",
       "    .dataframe tbody tr th {\n",
       "        vertical-align: top;\n",
       "    }\n",
       "\n",
       "    .dataframe thead th {\n",
       "        text-align: right;\n",
       "    }\n",
       "</style>\n",
       "<table border=\"1\" class=\"dataframe\">\n",
       "  <thead>\n",
       "    <tr style=\"text-align: right;\">\n",
       "      <th></th>\n",
       "      <th>Score</th>\n",
       "    </tr>\n",
       "  </thead>\n",
       "  <tbody>\n",
       "    <tr>\n",
       "      <th>aagatga</th>\n",
       "      <td>0.004914</td>\n",
       "    </tr>\n",
       "    <tr>\n",
       "      <th>aagaaag</th>\n",
       "      <td>0.003889</td>\n",
       "    </tr>\n",
       "    <tr>\n",
       "      <th>cacaaga</th>\n",
       "      <td>0.003333</td>\n",
       "    </tr>\n",
       "    <tr>\n",
       "      <th>agaagaa</th>\n",
       "      <td>0.003235</td>\n",
       "    </tr>\n",
       "    <tr>\n",
       "      <th>aaagatg</th>\n",
       "      <td>0.002843</td>\n",
       "    </tr>\n",
       "    <tr>\n",
       "      <th>agaagat</th>\n",
       "      <td>0.002782</td>\n",
       "    </tr>\n",
       "    <tr>\n",
       "      <th>aaatgga</th>\n",
       "      <td>0.002680</td>\n",
       "    </tr>\n",
       "    <tr>\n",
       "      <th>tgagaaa</th>\n",
       "      <td>0.002618</td>\n",
       "    </tr>\n",
       "    <tr>\n",
       "      <th>ttaataa</th>\n",
       "      <td>0.002567</td>\n",
       "    </tr>\n",
       "    <tr>\n",
       "      <th>aattaat</th>\n",
       "      <td>0.002489</td>\n",
       "    </tr>\n",
       "  </tbody>\n",
       "</table>\n",
       "</div>"
      ],
      "text/plain": [
       "            Score\n",
       "aagatga  0.004914\n",
       "aagaaag  0.003889\n",
       "cacaaga  0.003333\n",
       "agaagaa  0.003235\n",
       "aaagatg  0.002843\n",
       "agaagat  0.002782\n",
       "aaatgga  0.002680\n",
       "tgagaaa  0.002618\n",
       "ttaataa  0.002567\n",
       "aattaat  0.002489"
      ]
     },
     "execution_count": 79,
     "metadata": {},
     "output_type": "execute_result"
    }
   ],
   "source": [
    "from sklearn.ensemble import ExtraTreesClassifier\n",
    "\n",
    "X = kmer7Table01\n",
    "y = y_hat4 # uses predicted labels from kmeans try4\n",
    "\n",
    "ETC = ExtraTreesClassifier(random_state = 0)\n",
    "ETC.fit(X,y)\n",
    " \n",
    "featureImportances2 = pd.DataFrame(ETC.feature_importances_, index=X.columns, columns=[\"Score\"])\n",
    "featureImportances2 = featureImportances2.sort_values(by=\"Score\", ascending=False)\n",
    "featureImportances2.head(n=10)"
   ]
  },
  {
   "cell_type": "code",
   "execution_count": 80,
   "metadata": {},
   "outputs": [
    {
     "data": {
      "text/plain": [
       "2"
      ]
     },
     "execution_count": 80,
     "metadata": {},
     "output_type": "execute_result"
    }
   ],
   "source": [
    "total = 0\n",
    "for kmer in columnNonZero:\n",
    "    if kmer in list(featureImportances2.index[0:11]):\n",
    "        total += 1\n",
    "total"
   ]
  },
  {
   "cell_type": "markdown",
   "metadata": {},
   "source": [
    "## Scratch Space"
   ]
  },
  {
   "cell_type": "code",
   "execution_count": 81,
   "metadata": {},
   "outputs": [],
   "source": [
    "virus01[\"Labels\"] = y_hat4"
   ]
  },
  {
   "cell_type": "code",
   "execution_count": 82,
   "metadata": {},
   "outputs": [
    {
     "data": {
      "text/html": [
       "<div>\n",
       "<style scoped>\n",
       "    .dataframe tbody tr th:only-of-type {\n",
       "        vertical-align: middle;\n",
       "    }\n",
       "\n",
       "    .dataframe tbody tr th {\n",
       "        vertical-align: top;\n",
       "    }\n",
       "\n",
       "    .dataframe thead th {\n",
       "        text-align: right;\n",
       "    }\n",
       "</style>\n",
       "<table border=\"1\" class=\"dataframe\">\n",
       "  <thead>\n",
       "    <tr style=\"text-align: right;\">\n",
       "      <th></th>\n",
       "      <th>Sequence</th>\n",
       "      <th>Labels</th>\n",
       "    </tr>\n",
       "    <tr>\n",
       "      <th>ID</th>\n",
       "      <th></th>\n",
       "      <th></th>\n",
       "    </tr>\n",
       "  </thead>\n",
       "  <tbody>\n",
       "    <tr>\n",
       "      <th>NC_007415.1</th>\n",
       "      <td>CTTTAGTAAATACCACCGCCTCTTAATAAGTCTCGAGGCACTCCCC...</td>\n",
       "      <td>1</td>\n",
       "    </tr>\n",
       "    <tr>\n",
       "      <th>NC_015939.1</th>\n",
       "      <td>GGGGTGATGGGAAACTTACGTTTCGCCAACGTTAAGGTACTGTGAT...</td>\n",
       "      <td>1</td>\n",
       "    </tr>\n",
       "    <tr>\n",
       "      <th>NC_022896.1</th>\n",
       "      <td>TTTTTGGGGATGGTACTCTCAGGTTTGATCTTTGTAGATCCTAACT...</td>\n",
       "      <td>1</td>\n",
       "    </tr>\n",
       "    <tr>\n",
       "      <th>NC_026510.1</th>\n",
       "      <td>TTGGCTCCTGGAGACCGTTAGGTCCCCAGAAGCGGTTCAATAGAAC...</td>\n",
       "      <td>1</td>\n",
       "    </tr>\n",
       "    <tr>\n",
       "      <th>NC_027138.1</th>\n",
       "      <td>GCAATAAAAAGCACAGCCGGAAGGCTTTCTTTTTATTGCCCAGTTT...</td>\n",
       "      <td>1</td>\n",
       "    </tr>\n",
       "    <tr>\n",
       "      <th>NC_027139.1</th>\n",
       "      <td>GCAATAAAAAGCACAGCCGGAAGGCTTTCTTTTTATTGCCCAGTTT...</td>\n",
       "      <td>1</td>\n",
       "    </tr>\n",
       "    <tr>\n",
       "      <th>NC_025383.1</th>\n",
       "      <td>AGGGAGTATTATAATTACCTTCGTAGTTGTTCTTACTCTCTGGTAC...</td>\n",
       "      <td>1</td>\n",
       "    </tr>\n",
       "  </tbody>\n",
       "</table>\n",
       "</div>"
      ],
      "text/plain": [
       "                                                      Sequence  Labels\n",
       "ID                                                                    \n",
       "NC_007415.1  CTTTAGTAAATACCACCGCCTCTTAATAAGTCTCGAGGCACTCCCC...       1\n",
       "NC_015939.1  GGGGTGATGGGAAACTTACGTTTCGCCAACGTTAAGGTACTGTGAT...       1\n",
       "NC_022896.1  TTTTTGGGGATGGTACTCTCAGGTTTGATCTTTGTAGATCCTAACT...       1\n",
       "NC_026510.1  TTGGCTCCTGGAGACCGTTAGGTCCCCAGAAGCGGTTCAATAGAAC...       1\n",
       "NC_027138.1  GCAATAAAAAGCACAGCCGGAAGGCTTTCTTTTTATTGCCCAGTTT...       1\n",
       "NC_027139.1  GCAATAAAAAGCACAGCCGGAAGGCTTTCTTTTTATTGCCCAGTTT...       1\n",
       "NC_025383.1  AGGGAGTATTATAATTACCTTCGTAGTTGTTCTTACTCTCTGGTAC...       1"
      ]
     },
     "execution_count": 82,
     "metadata": {},
     "output_type": "execute_result"
    }
   ],
   "source": [
    "virus01[343:]"
   ]
  },
  {
   "cell_type": "code",
   "execution_count": 83,
   "metadata": {},
   "outputs": [
    {
     "data": {
      "text/plain": [
       "350"
      ]
     },
     "execution_count": 83,
     "metadata": {},
     "output_type": "execute_result"
    }
   ],
   "source": [
    "len(virus01)"
   ]
  },
  {
   "cell_type": "code",
   "execution_count": 84,
   "metadata": {},
   "outputs": [],
   "source": [
    "import matplotlib.pyplot as plt\n",
    "import matplotlib.colors"
   ]
  },
  {
   "cell_type": "code",
   "execution_count": 85,
   "metadata": {},
   "outputs": [],
   "source": [
    "cmap = matplotlib.colors.LinearSegmentedColormap.from_list(\"\", [\"blue\",\"red\"])"
   ]
  },
  {
   "cell_type": "code",
   "execution_count": 86,
   "metadata": {},
   "outputs": [
    {
     "data": {
      "image/png": "[encoded data removed]",
      "text/plain": [
       "<Figure size 432x288 with 2 Axes>"
      ]
     },
     "metadata": {
      "needs_background": "light"
     },
     "output_type": "display_data"
    }
   ],
   "source": [
    "a = [0,1,2,3,4,5]\n",
    "b = [0,1,2,3,4,5]\n",
    "label = [1,1,1,1,1,1]\n",
    "\n",
    "plt.scatter(a,b,c=label, cmap=cmap)\n",
    "plt.colorbar()\n",
    "plt.show()"
   ]
  },
  {
   "cell_type": "code",
   "execution_count": 87,
   "metadata": {},
   "outputs": [
    {
     "data": {
      "image/png": "[encoded data removed]",
      "text/plain": [
       "<Figure size 432x288 with 2 Axes>"
      ]
     },
     "metadata": {
      "needs_background": "light"
     },
     "output_type": "display_data"
    }
   ],
   "source": [
    "# taken from https://gist.github.com/jakevdp/91077b0cae40f8f8244a\n",
    "\n",
    "import numpy as np\n",
    "\n",
    "def discrete_cmap(N, base_cmap=None):\n",
    "    \"\"\"Create an N-bin discrete colormap from the specified input map\"\"\"\n",
    "\n",
    "    # Note that if base_cmap is a string or None, you can simply do\n",
    "    #    return plt.cm.get_cmap(base_cmap, N)\n",
    "    # The following works for string, None, or a colormap instance:\n",
    "\n",
    "    base = plt.cm.get_cmap(base_cmap)\n",
    "    color_list = base(np.linspace(0, 1, N))\n",
    "    cmap_name = base.name + str(N)\n",
    "    return base.from_list(cmap_name, color_list, N)\n",
    "\n",
    "\n",
    "if __name__ == '__main__':\n",
    "    N = 5\n",
    "\n",
    "    x = np.random.randn(40)\n",
    "    y = np.random.randn(40)\n",
    "    c = np.random.randint(N, size=40)\n",
    "\n",
    "    # Edit: don't use the default ('jet') because it makes @mwaskom mad...\n",
    "    plt.scatter(x, y, c=c, s=50, cmap=discrete_cmap(N, 'cubehelix'))\n",
    "    plt.colorbar(ticks=range(N))\n",
    "    plt.clim(-0.5, N - 0.5)\n",
    "    plt.show()"
   ]
  },
  {
   "cell_type": "code",
   "execution_count": 88,
   "metadata": {},
   "outputs": [
    {
     "data": {
      "image/png": "[encoded data removed]",
      "text/plain": [
       "<Figure size 432x288 with 2 Axes>"
      ]
     },
     "metadata": {
      "needs_background": "light"
     },
     "output_type": "display_data"
    }
   ],
   "source": [
    "N = 2\n",
    "\n",
    "\n",
    "plt.scatter(a,b,c=label, cmap=discrete_cmap(N, cmap))\n",
    "plt.colorbar(ticks=range(N))\n",
    "plt.show()"
   ]
  },
  {
   "cell_type": "code",
   "execution_count": 89,
   "metadata": {},
   "outputs": [
    {
     "data": {
      "text/plain": [
       "<matplotlib.legend.Legend at 0x28267ef6c08>"
      ]
     },
     "execution_count": 89,
     "metadata": {},
     "output_type": "execute_result"
    },
    {
     "data": {
      "image/png": "[encoded data removed]",
      "text/plain": [
       "<Figure size 432x288 with 1 Axes>"
      ]
     },
     "metadata": {
      "needs_background": "light"
     },
     "output_type": "display_data"
    }
   ],
   "source": [
    "a = [0,1,2,3,4,5,6]\n",
    "b = [0,1,2,3,4,5,6]\n",
    "label = [1,1,1,1,1,1,0]\n",
    "\n",
    "df = pd.DataFrame()\n",
    "df[\"a\"] = a\n",
    "df[\"b\"] = b\n",
    "df[\"label\"] = label\n",
    "\n",
    "ax = df[df[\"label\"] == 1].plot.scatter(\"a\", \"b\", color=\"red\")\n",
    "df[df[\"label\"] == 0].plot.scatter(\"a\", \"b\", color=\"blue\", ax=ax)\n",
    "import matplotlib.patches as mpatches\n",
    "red_patch = mpatches.Patch(color='red', label='The red data')\n",
    "blue_patch = mpatches.Patch(color='blue', label='The blue data')\n",
    "plt.legend(handles=[red_patch, blue_patch])\n"
   ]
  },
  {
   "cell_type": "code",
   "execution_count": null,
   "metadata": {},
   "outputs": [],
   "source": []
  }
 ],
 "metadata": {
  "kernelspec": {
   "display_name": "Python 3",
   "language": "python",
   "name": "python3"
  },
  "language_info": {
   "codemirror_mode": {
    "name": "ipython",
    "version": 3
   },
   "file_extension": ".py",
   "mimetype": "text/x-python",
   "name": "python",
   "nbconvert_exporter": "python",
   "pygments_lexer": "ipython3",
   "version": "3.7.4"
  }
 },
 "nbformat": 4,
 "nbformat_minor": 4
}
